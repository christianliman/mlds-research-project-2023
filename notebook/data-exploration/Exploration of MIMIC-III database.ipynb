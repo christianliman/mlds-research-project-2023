{
 "cells": [
  {
   "cell_type": "code",
   "execution_count": 173,
   "id": "800a7e28",
   "metadata": {},
   "outputs": [],
   "source": [
    "# Import packages\n",
    "import pandas as pd\n",
    "import numpy as np\n",
    "import os\n",
    "import pyspark\n",
    "from pathlib import Path\n",
    "from pyspark.sql.window import Window\n",
    "from pyspark.sql.functions import col, row_number, unix_timestamp, when\n",
    "\n",
    "# Make pandas dataframes prettier\n",
    "from IPython.display import display, HTML"
   ]
  },
  {
   "cell_type": "code",
   "execution_count": 2,
   "id": "08754d7a",
   "metadata": {
    "scrolled": true
   },
   "outputs": [
    {
     "name": "stderr",
     "output_type": "stream",
     "text": [
      "Setting default log level to \"WARN\".\n",
      "To adjust logging level use sc.setLogLevel(newLevel). For SparkR, use setLogLevel(newLevel).\n"
     ]
    },
    {
     "name": "stdout",
     "output_type": "stream",
     "text": [
      "23/07/08 14:20:03 WARN NativeCodeLoader: Unable to load native-hadoop library for your platform... using builtin-java classes where applicable\n"
     ]
    }
   ],
   "source": [
    "# Initialise PySpark context and session\n",
    "sc = pyspark.SparkContext(appName=\"appName\")\n",
    "from pyspark.sql import SparkSession\n",
    "spark = SparkSession.builder.appName(\"appName\").getOrCreate()"
   ]
  },
  {
   "cell_type": "markdown",
   "id": "fff8348d",
   "metadata": {},
   "source": [
    "## Loading and exploring data"
   ]
  },
  {
   "cell_type": "code",
   "execution_count": 207,
   "id": "f57c747b",
   "metadata": {},
   "outputs": [],
   "source": [
    "# Helper code to unzip DIAGNOSES_ICD.csv.gz\n",
    "\n",
    "# import gzip\n",
    "# import shutil\n",
    "# with gzip.open(mimic_dir + 'DIAGNOSES_ICD.csv.gz', 'rb') as f_in:\n",
    "#    with open(mimic_dir + 'DIAGNOSES_ICD.csv', 'wb') as f_out:\n",
    "#        shutil.copyfileobj(f_in, f_out)"
   ]
  },
  {
   "cell_type": "code",
   "execution_count": 3,
   "id": "abaf090c",
   "metadata": {},
   "outputs": [
    {
     "name": "stderr",
     "output_type": "stream",
     "text": [
      "[Stage 3:>                                                       (0 + 12) / 264]\r"
     ]
    },
    {
     "name": "stdout",
     "output_type": "stream",
     "text": [
      "23/07/08 14:20:15 WARN GarbageCollectionMetrics: To enable non-built-in garbage collector(s) List(G1 Concurrent GC), users should configure it(them) to spark.eventLog.gcMetrics.youngGenerationGarbageCollectors or spark.eventLog.gcMetrics.oldGenerationGarbageCollectors\n"
     ]
    },
    {
     "name": "stderr",
     "output_type": "stream",
     "text": [
      "                                                                                \r"
     ]
    }
   ],
   "source": [
    "# Load dataset using PySpark\n",
    "mimic_dir = \"../../data/mimic-iii/\"\n",
    "\n",
    "adm_df = spark.read.option(\"header\", True).option(\"inferSchema\", True).csv(\n",
    "    mimic_dir + \"ADMISSIONS.csv\")\n",
    "chart_df = spark.read.option(\"header\", True).option(\"inferSchema\", True).csv(\n",
    "    mimic_dir + \"CHARTEVENTS.csv\")\n",
    "ditems_df = spark.read.option(\"header\", True).option(\"inferSchema\", True).csv(\n",
    "    mimic_dir + \"D_ITEMS.csv\")\n",
    "icu_df = spark.read.option(\"header\", True).option(\"inferSchema\", True).csv(\n",
    "    mimic_dir + \"ICUSTAYS.csv\")\n",
    "pat_df = spark.read.option(\"header\", True).option(\"inferSchema\", True).csv(\n",
    "    mimic_dir + \"PATIENTS.csv\")\n",
    "diag_df = spark.read.option(\"header\", True).option(\"inferSchema\", True).csv(\n",
    "    mimic_dir + \"DIAGNOSES_ICD.csv\")"
   ]
  },
  {
   "cell_type": "code",
   "execution_count": 4,
   "id": "28cf1e44",
   "metadata": {},
   "outputs": [
    {
     "name": "stdout",
     "output_type": "stream",
     "text": [
      "root\n",
      " |-- ROW_ID: integer (nullable = true)\n",
      " |-- SUBJECT_ID: integer (nullable = true)\n",
      " |-- HADM_ID: integer (nullable = true)\n",
      " |-- ADMITTIME: timestamp (nullable = true)\n",
      " |-- DISCHTIME: timestamp (nullable = true)\n",
      " |-- DEATHTIME: timestamp (nullable = true)\n",
      " |-- ADMISSION_TYPE: string (nullable = true)\n",
      " |-- ADMISSION_LOCATION: string (nullable = true)\n",
      " |-- DISCHARGE_LOCATION: string (nullable = true)\n",
      " |-- INSURANCE: string (nullable = true)\n",
      " |-- LANGUAGE: string (nullable = true)\n",
      " |-- RELIGION: string (nullable = true)\n",
      " |-- MARITAL_STATUS: string (nullable = true)\n",
      " |-- ETHNICITY: string (nullable = true)\n",
      " |-- EDREGTIME: timestamp (nullable = true)\n",
      " |-- EDOUTTIME: timestamp (nullable = true)\n",
      " |-- DIAGNOSIS: string (nullable = true)\n",
      " |-- HOSPITAL_EXPIRE_FLAG: integer (nullable = true)\n",
      " |-- HAS_CHARTEVENTS_DATA: integer (nullable = true)\n",
      "\n"
     ]
    }
   ],
   "source": [
    "# Check schema for admission table\n",
    "adm_df.printSchema()"
   ]
  },
  {
   "cell_type": "code",
   "execution_count": 12,
   "id": "37fe44ac",
   "metadata": {},
   "outputs": [
    {
     "name": "stdout",
     "output_type": "stream",
     "text": [
      "+----------+-------+-------------------+-------------------+-------------------+\n",
      "|SUBJECT_ID|HADM_ID|          ADMITTIME|          DISCHTIME|          DEATHTIME|\n",
      "+----------+-------+-------------------+-------------------+-------------------+\n",
      "|        22| 165315|2196-04-09 12:26:00|2196-04-10 15:54:00|               null|\n",
      "|        23| 152223|2153-09-03 07:15:00|2153-09-08 19:10:00|               null|\n",
      "|        23| 124321|2157-10-18 19:34:00|2157-10-25 14:00:00|               null|\n",
      "|        24| 161859|2139-06-06 16:14:00|2139-06-09 12:48:00|               null|\n",
      "|        25| 129635|2160-11-02 02:06:00|2160-11-05 14:55:00|               null|\n",
      "|        26| 197661|2126-05-06 15:16:00|2126-05-13 15:00:00|               null|\n",
      "|        27| 134931|2191-11-30 22:16:00|2191-12-03 14:45:00|               null|\n",
      "|        28| 162569|2177-09-01 07:15:00|2177-09-06 16:00:00|               null|\n",
      "|        30| 104557|2172-10-14 14:17:00|2172-10-19 14:37:00|               null|\n",
      "|        31| 128652|2108-08-22 23:27:00|2108-08-30 15:00:00|2108-08-30 15:00:00|\n",
      "+----------+-------+-------------------+-------------------+-------------------+\n",
      "only showing top 10 rows\n",
      "\n"
     ]
    }
   ],
   "source": [
    "# Print first few rows for selected fields\n",
    "adm_df.select(\"SUBJECT_ID\", \"HADM_ID\", \"ADMITTIME\", \"DISCHTIME\", \"DEATHTIME\").show(10)"
   ]
  },
  {
   "cell_type": "code",
   "execution_count": 13,
   "id": "6986e459",
   "metadata": {},
   "outputs": [
    {
     "name": "stdout",
     "output_type": "stream",
     "text": [
      "+----------+-------+--------------+--------------------+--------------------+\n",
      "|SUBJECT_ID|HADM_ID|ADMISSION_TYPE|  ADMISSION_LOCATION|  DISCHARGE_LOCATION|\n",
      "+----------+-------+--------------+--------------------+--------------------+\n",
      "|        22| 165315|     EMERGENCY|EMERGENCY ROOM ADMIT|DISC-TRAN CANCER/...|\n",
      "|        23| 152223|      ELECTIVE|PHYS REFERRAL/NOR...|    HOME HEALTH CARE|\n",
      "|        23| 124321|     EMERGENCY|TRANSFER FROM HOS...|    HOME HEALTH CARE|\n",
      "|        24| 161859|     EMERGENCY|TRANSFER FROM HOS...|                HOME|\n",
      "|        25| 129635|     EMERGENCY|EMERGENCY ROOM ADMIT|                HOME|\n",
      "|        26| 197661|     EMERGENCY|TRANSFER FROM HOS...|                HOME|\n",
      "|        27| 134931|       NEWBORN|PHYS REFERRAL/NOR...|                HOME|\n",
      "|        28| 162569|      ELECTIVE|PHYS REFERRAL/NOR...|    HOME HEALTH CARE|\n",
      "|        30| 104557|        URGENT|TRANSFER FROM HOS...|    HOME HEALTH CARE|\n",
      "|        31| 128652|     EMERGENCY|TRANSFER FROM HOS...|        DEAD/EXPIRED|\n",
      "+----------+-------+--------------+--------------------+--------------------+\n",
      "only showing top 10 rows\n",
      "\n"
     ]
    }
   ],
   "source": [
    "adm_df.select(\"SUBJECT_ID\", \"HADM_ID\", \"ADMISSION_TYPE\", \n",
    "              \"ADMISSION_LOCATION\", \"DISCHARGE_LOCATION\").show(10)"
   ]
  },
  {
   "cell_type": "code",
   "execution_count": 14,
   "id": "225e9581",
   "metadata": {},
   "outputs": [
    {
     "name": "stdout",
     "output_type": "stream",
     "text": [
      "+----------+-------+---------+--------+-----------------+--------------+--------------------+\n",
      "|SUBJECT_ID|HADM_ID|INSURANCE|LANGUAGE|         RELIGION|MARITAL_STATUS|           ETHNICITY|\n",
      "+----------+-------+---------+--------+-----------------+--------------+--------------------+\n",
      "|        22| 165315|  Private|    null|     UNOBTAINABLE|       MARRIED|               WHITE|\n",
      "|        23| 152223| Medicare|    null|         CATHOLIC|       MARRIED|               WHITE|\n",
      "|        23| 124321| Medicare|    ENGL|         CATHOLIC|       MARRIED|               WHITE|\n",
      "|        24| 161859|  Private|    null|PROTESTANT QUAKER|        SINGLE|               WHITE|\n",
      "|        25| 129635|  Private|    null|     UNOBTAINABLE|       MARRIED|               WHITE|\n",
      "|        26| 197661| Medicare|    null|         CATHOLIC|        SINGLE|UNKNOWN/NOT SPECI...|\n",
      "|        27| 134931|  Private|    null|         CATHOLIC|          null|               WHITE|\n",
      "|        28| 162569| Medicare|    null|         CATHOLIC|       MARRIED|               WHITE|\n",
      "|        30| 104557| Medicare|    null|         CATHOLIC|       MARRIED|UNKNOWN/NOT SPECI...|\n",
      "|        31| 128652| Medicare|    null|         CATHOLIC|       MARRIED|               WHITE|\n",
      "+----------+-------+---------+--------+-----------------+--------------+--------------------+\n",
      "only showing top 10 rows\n",
      "\n"
     ]
    }
   ],
   "source": [
    "adm_df.select(\"SUBJECT_ID\", \"HADM_ID\", \"INSURANCE\", \"LANGUAGE\", \n",
    "              \"RELIGION\", \"MARITAL_STATUS\", \"ETHNICITY\").show(10)"
   ]
  },
  {
   "cell_type": "code",
   "execution_count": 15,
   "id": "bc3f5d92",
   "metadata": {},
   "outputs": [
    {
     "name": "stdout",
     "output_type": "stream",
     "text": [
      "+----------+-------+-------------------+-------------------+--------------------+\n",
      "|SUBJECT_ID|HADM_ID|          EDREGTIME|          EDOUTTIME|           DIAGNOSIS|\n",
      "+----------+-------+-------------------+-------------------+--------------------+\n",
      "|        22| 165315|2196-04-09 10:06:00|2196-04-09 13:24:00|BENZODIAZEPINE OV...|\n",
      "|        23| 152223|               null|               null|CORONARY ARTERY D...|\n",
      "|        23| 124321|               null|               null|          BRAIN MASS|\n",
      "|        24| 161859|               null|               null|INTERIOR MYOCARDI...|\n",
      "|        25| 129635|2160-11-02 01:01:00|2160-11-02 04:27:00|ACUTE CORONARY SY...|\n",
      "|        26| 197661|               null|               null|              V-TACH|\n",
      "|        27| 134931|               null|               null|             NEWBORN|\n",
      "|        28| 162569|               null|               null|CORONARY ARTERY D...|\n",
      "|        30| 104557|               null|               null|UNSTABLE ANGINA\\CATH|\n",
      "|        31| 128652|               null|               null|  STATUS EPILEPTICUS|\n",
      "+----------+-------+-------------------+-------------------+--------------------+\n",
      "only showing top 10 rows\n",
      "\n"
     ]
    }
   ],
   "source": [
    "adm_df.select(\"SUBJECT_ID\", \"HADM_ID\", \"EDREGTIME\", \"EDOUTTIME\", \"DIAGNOSIS\").show(10)"
   ]
  },
  {
   "cell_type": "code",
   "execution_count": 18,
   "id": "4ddd921d",
   "metadata": {},
   "outputs": [
    {
     "name": "stdout",
     "output_type": "stream",
     "text": [
      "+----------+-------+-------------------+--------------------+--------------------+\n",
      "|SUBJECT_ID|HADM_ID|          DEATHTIME|HOSPITAL_EXPIRE_FLAG|HAS_CHARTEVENTS_DATA|\n",
      "+----------+-------+-------------------+--------------------+--------------------+\n",
      "|        22| 165315|               null|                   0|                   1|\n",
      "|        23| 152223|               null|                   0|                   1|\n",
      "|        23| 124321|               null|                   0|                   1|\n",
      "|        24| 161859|               null|                   0|                   1|\n",
      "|        25| 129635|               null|                   0|                   1|\n",
      "|        26| 197661|               null|                   0|                   1|\n",
      "|        27| 134931|               null|                   0|                   1|\n",
      "|        28| 162569|               null|                   0|                   1|\n",
      "|        30| 104557|               null|                   0|                   1|\n",
      "|        31| 128652|2108-08-30 15:00:00|                   1|                   1|\n",
      "+----------+-------+-------------------+--------------------+--------------------+\n",
      "only showing top 10 rows\n",
      "\n"
     ]
    }
   ],
   "source": [
    "adm_df.select(\"SUBJECT_ID\", \"HADM_ID\", \"DEATHTIME\", \"HOSPITAL_EXPIRE_FLAG\", \n",
    "              \"HAS_CHARTEVENTS_DATA\").show(10)"
   ]
  },
  {
   "cell_type": "code",
   "execution_count": 31,
   "id": "663d9c9a",
   "metadata": {},
   "outputs": [
    {
     "name": "stdout",
     "output_type": "stream",
     "text": [
      "+--------------+\n",
      "|ADMISSION_TYPE|\n",
      "+--------------+\n",
      "|       NEWBORN|\n",
      "|      ELECTIVE|\n",
      "|     EMERGENCY|\n",
      "|        URGENT|\n",
      "+--------------+\n",
      "\n"
     ]
    }
   ],
   "source": [
    "# Explore unique values of several variables\n",
    "adm_df.select(\"ADMISSION_TYPE\").distinct().show()"
   ]
  },
  {
   "cell_type": "code",
   "execution_count": 32,
   "id": "63073310",
   "metadata": {},
   "outputs": [
    {
     "name": "stdout",
     "output_type": "stream",
     "text": [
      "+----------+\n",
      "| INSURANCE|\n",
      "+----------+\n",
      "|Government|\n",
      "|  Self Pay|\n",
      "|   Private|\n",
      "|  Medicaid|\n",
      "|  Medicare|\n",
      "+----------+\n",
      "\n"
     ]
    }
   ],
   "source": [
    "# Explore unique values of several variables\n",
    "adm_df.select(\"INSURANCE\").distinct().show()"
   ]
  },
  {
   "cell_type": "code",
   "execution_count": 33,
   "id": "6d519a2b",
   "metadata": {},
   "outputs": [
    {
     "name": "stdout",
     "output_type": "stream",
     "text": [
      "+--------------------+\n",
      "|  ADMISSION_LOCATION|\n",
      "+--------------------+\n",
      "|PHYS REFERRAL/NOR...|\n",
      "|** INFO NOT AVAIL...|\n",
      "|   HMO REFERRAL/SICK|\n",
      "|TRANSFER FROM HOS...|\n",
      "|TRANSFER FROM SKI...|\n",
      "|TRANSFER FROM OTH...|\n",
      "|EMERGENCY ROOM ADMIT|\n",
      "|CLINIC REFERRAL/P...|\n",
      "|TRSF WITHIN THIS ...|\n",
      "+--------------------+\n",
      "\n"
     ]
    }
   ],
   "source": [
    "# Explore unique values of several variables\n",
    "adm_df.select(\"ADMISSION_LOCATION\").distinct().show()"
   ]
  },
  {
   "cell_type": "code",
   "execution_count": 34,
   "id": "dc88a4cd",
   "metadata": {},
   "outputs": [
    {
     "name": "stdout",
     "output_type": "stream",
     "text": [
      "+--------------------+\n",
      "|           ETHNICITY|\n",
      "+--------------------+\n",
      "|WHITE - OTHER EUR...|\n",
      "|UNKNOWN/NOT SPECI...|\n",
      "|               WHITE|\n",
      "|      SOUTH AMERICAN|\n",
      "|    UNABLE TO OBTAIN|\n",
      "|        ASIAN - THAI|\n",
      "|HISPANIC/LATINO -...|\n",
      "|AMERICAN INDIAN/A...|\n",
      "|      ASIAN - KOREAN|\n",
      "|  HISPANIC OR LATINO|\n",
      "|     WHITE - RUSSIAN|\n",
      "|       BLACK/HAITIAN|\n",
      "|PATIENT DECLINED ...|\n",
      "|    ASIAN - FILIPINO|\n",
      "|   ASIAN - CAMBODIAN|\n",
      "|HISPANIC/LATINO -...|\n",
      "|  BLACK/CAPE VERDEAN|\n",
      "|    ASIAN - JAPANESE|\n",
      "|      MIDDLE EASTERN|\n",
      "|HISPANIC/LATINO -...|\n",
      "+--------------------+\n",
      "only showing top 20 rows\n",
      "\n"
     ]
    }
   ],
   "source": [
    "# Explore unique values of several variables\n",
    "adm_df.select(\"ETHNICITY\").distinct().show()"
   ]
  },
  {
   "cell_type": "code",
   "execution_count": 35,
   "id": "ff0707ce",
   "metadata": {},
   "outputs": [
    {
     "data": {
      "text/plain": [
       "41"
      ]
     },
     "execution_count": 35,
     "metadata": {},
     "output_type": "execute_result"
    }
   ],
   "source": [
    "# Explore unique values of several variables\n",
    "adm_df.select(\"ETHNICITY\").distinct().count()"
   ]
  },
  {
   "cell_type": "code",
   "execution_count": 36,
   "id": "c675f549",
   "metadata": {},
   "outputs": [
    {
     "name": "stdout",
     "output_type": "stream",
     "text": [
      "+-----------------+\n",
      "|   MARITAL_STATUS|\n",
      "+-----------------+\n",
      "|             null|\n",
      "|          WIDOWED|\n",
      "|           SINGLE|\n",
      "|          MARRIED|\n",
      "|        SEPARATED|\n",
      "|UNKNOWN (DEFAULT)|\n",
      "|         DIVORCED|\n",
      "|     LIFE PARTNER|\n",
      "+-----------------+\n",
      "\n"
     ]
    }
   ],
   "source": [
    "# Explore unique values of several variables\n",
    "adm_df.select(\"MARITAL_STATUS\").distinct().show()"
   ]
  },
  {
   "cell_type": "code",
   "execution_count": 37,
   "id": "89cbf8b3",
   "metadata": {},
   "outputs": [
    {
     "name": "stdout",
     "output_type": "stream",
     "text": [
      "+--------+\n",
      "|LANGUAGE|\n",
      "+--------+\n",
      "|    ALBA|\n",
      "|    *HUN|\n",
      "|    LAOT|\n",
      "|    AMER|\n",
      "|    VIET|\n",
      "|    CANT|\n",
      "|    FREN|\n",
      "|    HIND|\n",
      "|    *LEB|\n",
      "|    null|\n",
      "|    ETHI|\n",
      "|    *URD|\n",
      "|    *MAN|\n",
      "|    *TOY|\n",
      "|    MAND|\n",
      "|    *SPA|\n",
      "|    CAMB|\n",
      "|    CAPE|\n",
      "|    *CHI|\n",
      "|    PTUN|\n",
      "+--------+\n",
      "only showing top 20 rows\n",
      "\n"
     ]
    }
   ],
   "source": [
    "# Explore unique values of several variables\n",
    "adm_df.select(\"LANGUAGE\").distinct().show()"
   ]
  },
  {
   "cell_type": "code",
   "execution_count": 6,
   "id": "bad10bbb",
   "metadata": {},
   "outputs": [
    {
     "name": "stdout",
     "output_type": "stream",
     "text": [
      "root\n",
      " |-- ROW_ID: integer (nullable = true)\n",
      " |-- SUBJECT_ID: integer (nullable = true)\n",
      " |-- HADM_ID: integer (nullable = true)\n",
      " |-- ICUSTAY_ID: integer (nullable = true)\n",
      " |-- ITEMID: integer (nullable = true)\n",
      " |-- CHARTTIME: timestamp (nullable = true)\n",
      " |-- STORETIME: timestamp (nullable = true)\n",
      " |-- CGID: integer (nullable = true)\n",
      " |-- VALUE: string (nullable = true)\n",
      " |-- VALUENUM: double (nullable = true)\n",
      " |-- VALUEUOM: string (nullable = true)\n",
      " |-- WARNING: integer (nullable = true)\n",
      " |-- ERROR: integer (nullable = true)\n",
      " |-- RESULTSTATUS: string (nullable = true)\n",
      " |-- STOPPED: string (nullable = true)\n",
      "\n"
     ]
    }
   ],
   "source": [
    "# Check schema for chart events table\n",
    "chart_df.printSchema()"
   ]
  },
  {
   "cell_type": "code",
   "execution_count": 20,
   "id": "e370a8b0",
   "metadata": {},
   "outputs": [
    {
     "name": "stdout",
     "output_type": "stream",
     "text": [
      "+----------+-------+----------+------+-----+--------+--------+\n",
      "|SUBJECT_ID|HADM_ID|ICUSTAY_ID|ITEMID|VALUE|VALUENUM|VALUEUOM|\n",
      "+----------+-------+----------+------+-----+--------+--------+\n",
      "|        36| 165660|    241249|223834|   15|    15.0|   L/min|\n",
      "|        36| 165660|    241249|223835|  100|   100.0|    null|\n",
      "|        36| 165660|    241249|224328|  .37|    0.37|    null|\n",
      "|        36| 165660|    241249|224329|    6|     6.0|     min|\n",
      "|        36| 165660|    241249|224330|  2.5|     2.5|    null|\n",
      "|        36| 165660|    241249|224331|    0|     0.0|   ml/hr|\n",
      "|        36| 165660|    241249|224332|    3|     3.0|    null|\n",
      "|        36| 165660|    241249|224663|    8|     8.0|    null|\n",
      "|        36| 165660|    241249|224665| 1.11|    1.11|    null|\n",
      "|        36| 165660|    241249|220224|   58|    58.0|    mmHg|\n",
      "|        36| 165660|    241249|220235|   60|    60.0|    mmHg|\n",
      "|        36| 165660|    241249|223830| 7.29|    7.29|   units|\n",
      "|        36| 165660|    241249|224828|    0|     0.0|   mEq/L|\n",
      "|        36| 165660|    241249|225668|    1|     1.0|  mmol/L|\n",
      "|        36| 165660|    241249|225698|   30|    30.0|   mEq/L|\n",
      "|        36| 165660|    241249|220045|   86|    86.0|     bpm|\n",
      "|        36| 165660|    241249|220179|  137|   137.0|    mmHg|\n",
      "|        36| 165660|    241249|220180|   72|    72.0|    mmHg|\n",
      "|        36| 165660|    241249|220181|   84|    84.0|    mmHg|\n",
      "|        36| 165660|    241249|220210|   21|    21.0|insp/min|\n",
      "+----------+-------+----------+------+-----+--------+--------+\n",
      "only showing top 20 rows\n",
      "\n"
     ]
    }
   ],
   "source": [
    "# Print first few rows for selected fields\n",
    "chart_df.select(\"SUBJECT_ID\", \"HADM_ID\", \"ICUSTAY_ID\", \"ITEMID\", \n",
    "                \"VALUE\", \"VALUENUM\", \"VALUEUOM\").show(20)"
   ]
  },
  {
   "cell_type": "code",
   "execution_count": 21,
   "id": "333fa6ba",
   "metadata": {},
   "outputs": [
    {
     "name": "stdout",
     "output_type": "stream",
     "text": [
      "+-------+------+-------------------+-------+-----+------------+-------+\n",
      "|HADM_ID|ITEMID|          CHARTTIME|WARNING|ERROR|RESULTSTATUS|STOPPED|\n",
      "+-------+------+-------------------+-------+-----+------------+-------+\n",
      "| 165660|223834|2134-05-12 12:00:00|      0|    0|        null|   null|\n",
      "| 165660|223835|2134-05-12 12:00:00|      0|    0|        null|   null|\n",
      "| 165660|224328|2134-05-12 12:00:00|      0|    0|        null|   null|\n",
      "| 165660|224329|2134-05-12 12:00:00|      0|    0|        null|   null|\n",
      "| 165660|224330|2134-05-12 12:00:00|      0|    0|        null|   null|\n",
      "| 165660|224331|2134-05-12 12:00:00|      0|    0|        null|   null|\n",
      "| 165660|224332|2134-05-12 12:00:00|      0|    0|        null|   null|\n",
      "| 165660|224663|2134-05-12 12:00:00|      0|    0|        null|   null|\n",
      "| 165660|224665|2134-05-12 12:00:00|      0|    0|        null|   null|\n",
      "| 165660|220224|2134-05-12 12:35:00|      1|    0|        null|   null|\n",
      "| 165660|220235|2134-05-12 12:35:00|      1|    0|        null|   null|\n",
      "| 165660|223830|2134-05-12 12:35:00|      1|    0|        null|   null|\n",
      "| 165660|224828|2134-05-12 12:35:00|      0|    0|        null|   null|\n",
      "| 165660|225668|2134-05-12 12:35:00|      0|    0|        null|   null|\n",
      "| 165660|225698|2134-05-12 12:35:00|      0|    0|        null|   null|\n",
      "| 165660|220045|2134-05-12 13:00:00|      0|    0|        null|   null|\n",
      "| 165660|220179|2134-05-12 13:00:00|      0|    0|        null|   null|\n",
      "| 165660|220180|2134-05-12 13:00:00|      0|    0|        null|   null|\n",
      "| 165660|220181|2134-05-12 13:00:00|      0|    0|        null|   null|\n",
      "| 165660|220210|2134-05-12 13:00:00|      0|    0|        null|   null|\n",
      "+-------+------+-------------------+-------+-----+------------+-------+\n",
      "only showing top 20 rows\n",
      "\n"
     ]
    }
   ],
   "source": [
    "chart_df.select(\"HADM_ID\", \"ITEMID\", \"CHARTTIME\", \"WARNING\", \"ERROR\",\n",
    "                \"RESULTSTATUS\", \"STOPPED\").show(20)"
   ]
  },
  {
   "cell_type": "code",
   "execution_count": 8,
   "id": "f7466b95",
   "metadata": {},
   "outputs": [
    {
     "name": "stdout",
     "output_type": "stream",
     "text": [
      "root\n",
      " |-- ROW_ID: integer (nullable = true)\n",
      " |-- ITEMID: integer (nullable = true)\n",
      " |-- LABEL: string (nullable = true)\n",
      " |-- ABBREVIATION: string (nullable = true)\n",
      " |-- DBSOURCE: string (nullable = true)\n",
      " |-- LINKSTO: string (nullable = true)\n",
      " |-- CATEGORY: string (nullable = true)\n",
      " |-- UNITNAME: string (nullable = true)\n",
      " |-- PARAM_TYPE: string (nullable = true)\n",
      " |-- CONCEPTID: string (nullable = true)\n",
      "\n"
     ]
    }
   ],
   "source": [
    "# Check schema for chart events table\n",
    "ditems_df.printSchema()"
   ]
  },
  {
   "cell_type": "code",
   "execution_count": 23,
   "id": "c2835d74",
   "metadata": {},
   "outputs": [
    {
     "name": "stdout",
     "output_type": "stream",
     "text": [
      "+------+--------------------+------------+--------+-----------+\n",
      "|ITEMID|               LABEL|ABBREVIATION|DBSOURCE|    LINKSTO|\n",
      "+------+--------------------+------------+--------+-----------+\n",
      "|   497|Patient controlle...|        null| carevue|chartevents|\n",
      "|   498|   PCA Lockout (Min)|        null| carevue|chartevents|\n",
      "|   499|      PCA Medication|        null| carevue|chartevents|\n",
      "|   500|      PCA Total Dose|        null| carevue|chartevents|\n",
      "|   501|  PCV Exh Vt (Obser)|        null| carevue|chartevents|\n",
      "|   927|           Allergy 2|        null| carevue|chartevents|\n",
      "|   930|                 Ext|        null| carevue|chartevents|\n",
      "|   935|           Allergy 3|        null| carevue|chartevents|\n",
      "|   938|      blood cultures|        null| carevue|chartevents|\n",
      "|   940|          trach care|        null| carevue|chartevents|\n",
      "|   941|       urine culture|        null| carevue|chartevents|\n",
      "|   942|      BLOOD CULTURES|        null| carevue|chartevents|\n",
      "|   944|            Chest PT|        null| carevue|chartevents|\n",
      "|   946|                 STV|        null| carevue|chartevents|\n",
      "|   956|                 CPT|        null| carevue|chartevents|\n",
      "|   964|          THAM CC/HR|        null| carevue|chartevents|\n",
      "|   968|                 EKG|        null| carevue|chartevents|\n",
      "|   970|          TRACH CARE|        null| carevue|chartevents|\n",
      "|   972|    passy muir valve|        null| carevue|chartevents|\n",
      "|   977|         TRACHE CARE|        null| carevue|chartevents|\n",
      "+------+--------------------+------------+--------+-----------+\n",
      "only showing top 20 rows\n",
      "\n"
     ]
    }
   ],
   "source": [
    "# Print first few rows of selected fields\n",
    "ditems_df.select(\"ITEMID\", \"LABEL\", \"ABBREVIATION\", \"DBSOURCE\", \"LINKSTO\").show(20)"
   ]
  },
  {
   "cell_type": "code",
   "execution_count": 9,
   "id": "721c2188",
   "metadata": {},
   "outputs": [
    {
     "name": "stdout",
     "output_type": "stream",
     "text": [
      "root\n",
      " |-- ROW_ID: integer (nullable = true)\n",
      " |-- SUBJECT_ID: integer (nullable = true)\n",
      " |-- HADM_ID: integer (nullable = true)\n",
      " |-- ICUSTAY_ID: integer (nullable = true)\n",
      " |-- DBSOURCE: string (nullable = true)\n",
      " |-- FIRST_CAREUNIT: string (nullable = true)\n",
      " |-- LAST_CAREUNIT: string (nullable = true)\n",
      " |-- FIRST_WARDID: integer (nullable = true)\n",
      " |-- LAST_WARDID: integer (nullable = true)\n",
      " |-- INTIME: timestamp (nullable = true)\n",
      " |-- OUTTIME: timestamp (nullable = true)\n",
      " |-- LOS: double (nullable = true)\n",
      "\n"
     ]
    }
   ],
   "source": [
    "# Check schema for ICU table\n",
    "icu_df.printSchema()"
   ]
  },
  {
   "cell_type": "code",
   "execution_count": 24,
   "id": "c44b3162",
   "metadata": {},
   "outputs": [
    {
     "name": "stdout",
     "output_type": "stream",
     "text": [
      "+-------+----------+--------+--------------+-------------+\n",
      "|HADM_ID|ICUSTAY_ID|DBSOURCE|FIRST_CAREUNIT|LAST_CAREUNIT|\n",
      "+-------+----------+--------+--------------+-------------+\n",
      "| 110404|    280836| carevue|          MICU|         MICU|\n",
      "| 106296|    206613| carevue|          MICU|         MICU|\n",
      "| 188028|    220345| carevue|           CCU|          CCU|\n",
      "| 173727|    249196| carevue|          MICU|         SICU|\n",
      "| 164716|    210407| carevue|           CCU|          CCU|\n",
      "| 158689|    241507| carevue|          MICU|         MICU|\n",
      "| 130546|    254851| carevue|          MICU|         MICU|\n",
      "| 129886|    219649| carevue|           CCU|          CCU|\n",
      "| 135156|    206327| carevue|           CCU|          CCU|\n",
      "| 171601|    272866| carevue|          NICU|         NICU|\n",
      "+-------+----------+--------+--------------+-------------+\n",
      "only showing top 10 rows\n",
      "\n"
     ]
    }
   ],
   "source": [
    "# Print first few rows of selected columns\n",
    "icu_df.select(\"HADM_ID\", \"ICUSTAY_ID\", \"DBSOURCE\", \"FIRST_CAREUNIT\", \n",
    "              \"LAST_CAREUNIT\").show(10)"
   ]
  },
  {
   "cell_type": "code",
   "execution_count": 26,
   "id": "e5386884",
   "metadata": {},
   "outputs": [
    {
     "name": "stdout",
     "output_type": "stream",
     "text": [
      "+----------+-------------------+-------------------+------+\n",
      "|ICUSTAY_ID|             INTIME|            OUTTIME|   LOS|\n",
      "+----------+-------------------+-------------------+------+\n",
      "|    280836|2198-02-14 23:27:38|2198-02-18 05:26:11| 3.249|\n",
      "|    206613|2170-11-05 11:05:29|2170-11-08 17:46:57|3.2788|\n",
      "|    220345|2128-06-24 15:05:20|2128-06-27 12:32:29|2.8939|\n",
      "|    249196|2120-08-07 23:12:42|2120-08-10 00:39:04|  2.06|\n",
      "|    210407|2186-12-25 21:08:04|2186-12-27 12:01:13|1.6202|\n",
      "|    241507|2141-04-19 06:12:05|2141-04-20 17:52:11|1.4862|\n",
      "|    254851|2114-06-28 22:28:44|2114-07-07 18:01:16|8.8143|\n",
      "|    219649|2170-10-07 11:28:53|2170-10-14 14:38:07|7.1314|\n",
      "|    206327|2147-11-20 09:02:23|2147-11-21 17:08:52|1.3378|\n",
      "|    272866|2132-10-21 21:11:46|2132-10-22 14:44:48|0.7313|\n",
      "+----------+-------------------+-------------------+------+\n",
      "only showing top 10 rows\n",
      "\n"
     ]
    }
   ],
   "source": [
    "icu_df.select(\"ICUSTAY_ID\", \"INTIME\", \"OUTTIME\", \"LOS\").show(10)"
   ]
  },
  {
   "cell_type": "code",
   "execution_count": 38,
   "id": "c00955e1",
   "metadata": {},
   "outputs": [
    {
     "name": "stdout",
     "output_type": "stream",
     "text": [
      "+--------------+\n",
      "|FIRST_CAREUNIT|\n",
      "+--------------+\n",
      "|          MICU|\n",
      "|         TSICU|\n",
      "|          SICU|\n",
      "|          CSRU|\n",
      "|           CCU|\n",
      "|          NICU|\n",
      "+--------------+\n",
      "\n"
     ]
    }
   ],
   "source": [
    "# Explore unique values of several variables\n",
    "icu_df.select(\"FIRST_CAREUNIT\").distinct().show()"
   ]
  },
  {
   "cell_type": "code",
   "execution_count": 39,
   "id": "62c2ff40",
   "metadata": {},
   "outputs": [
    {
     "name": "stdout",
     "output_type": "stream",
     "text": [
      "+-------------+\n",
      "|LAST_CAREUNIT|\n",
      "+-------------+\n",
      "|         MICU|\n",
      "|        TSICU|\n",
      "|         SICU|\n",
      "|         CSRU|\n",
      "|          CCU|\n",
      "|         NICU|\n",
      "+-------------+\n",
      "\n"
     ]
    }
   ],
   "source": [
    "# Explore unique values of several variables\n",
    "icu_df.select(\"LAST_CAREUNIT\").distinct().show()"
   ]
  },
  {
   "cell_type": "code",
   "execution_count": 10,
   "id": "a48ff0d5",
   "metadata": {},
   "outputs": [
    {
     "name": "stdout",
     "output_type": "stream",
     "text": [
      "root\n",
      " |-- ROW_ID: integer (nullable = true)\n",
      " |-- SUBJECT_ID: integer (nullable = true)\n",
      " |-- GENDER: string (nullable = true)\n",
      " |-- DOB: timestamp (nullable = true)\n",
      " |-- DOD: timestamp (nullable = true)\n",
      " |-- DOD_HOSP: timestamp (nullable = true)\n",
      " |-- DOD_SSN: timestamp (nullable = true)\n",
      " |-- EXPIRE_FLAG: integer (nullable = true)\n",
      "\n"
     ]
    }
   ],
   "source": [
    "# Check schema for patients table\n",
    "pat_df.printSchema()"
   ]
  },
  {
   "cell_type": "code",
   "execution_count": 27,
   "id": "1312d927",
   "metadata": {},
   "outputs": [
    {
     "name": "stdout",
     "output_type": "stream",
     "text": [
      "+----------+------+-------------------+\n",
      "|SUBJECT_ID|GENDER|                DOB|\n",
      "+----------+------+-------------------+\n",
      "|       249|     F|2075-03-13 00:00:00|\n",
      "|       250|     F|2164-12-27 00:00:00|\n",
      "|       251|     M|2090-03-15 00:00:00|\n",
      "|       252|     M|2078-03-06 00:00:00|\n",
      "|       253|     F|2089-11-26 00:00:00|\n",
      "+----------+------+-------------------+\n",
      "only showing top 5 rows\n",
      "\n"
     ]
    }
   ],
   "source": [
    "# Print first 5 rows\n",
    "pat_df.select(\"SUBJECT_ID\", \"GENDER\", \"DOB\").show(5)"
   ]
  },
  {
   "cell_type": "code",
   "execution_count": 28,
   "id": "6b6cb55f",
   "metadata": {},
   "outputs": [
    {
     "name": "stdout",
     "output_type": "stream",
     "text": [
      "+----------+-------------------+-------------------+-------+-----------+\n",
      "|SUBJECT_ID|                DOD|           DOD_HOSP|DOD_SSN|EXPIRE_FLAG|\n",
      "+----------+-------------------+-------------------+-------+-----------+\n",
      "|       249|               null|               null|   null|          0|\n",
      "|       250|2188-11-22 00:00:00|2188-11-22 00:00:00|   null|          1|\n",
      "|       251|               null|               null|   null|          0|\n",
      "|       252|               null|               null|   null|          0|\n",
      "|       253|               null|               null|   null|          0|\n",
      "+----------+-------------------+-------------------+-------+-----------+\n",
      "only showing top 5 rows\n",
      "\n"
     ]
    }
   ],
   "source": [
    "pat_df.select(\"SUBJECT_ID\", \"DOD\", \"DOD_HOSP\", \"DOD_SSN\", \"EXPIRE_FLAG\").show(5)"
   ]
  },
  {
   "cell_type": "code",
   "execution_count": 61,
   "id": "9d913625",
   "metadata": {},
   "outputs": [
    {
     "name": "stdout",
     "output_type": "stream",
     "text": [
      "+----+--------+-------+\n",
      "| DOD|DOD_HOSP|DOD_SSN|\n",
      "+----+--------+-------+\n",
      "|null|    null|   null|\n",
      "+----+--------+-------+\n",
      "\n"
     ]
    }
   ],
   "source": [
    "# Sanity check on DOD fields\n",
    "pat_df.filter(pat_df.EXPIRE_FLAG == 0).select(\"DOD\", \"DOD_HOSP\", \"DOD_SSN\").distinct().show()"
   ]
  },
  {
   "cell_type": "code",
   "execution_count": 40,
   "id": "7fbd0a34",
   "metadata": {},
   "outputs": [
    {
     "name": "stdout",
     "output_type": "stream",
     "text": [
      "+------+\n",
      "|GENDER|\n",
      "+------+\n",
      "|     F|\n",
      "|     M|\n",
      "+------+\n",
      "\n"
     ]
    }
   ],
   "source": [
    "# Explore unique values of several variables\n",
    "pat_df.select(\"GENDER\").distinct().show()"
   ]
  },
  {
   "cell_type": "code",
   "execution_count": null,
   "id": "9aedb951",
   "metadata": {},
   "outputs": [],
   "source": [
    "# Check schema for diagnoses table\n",
    "diag_df.printSchema()"
   ]
  },
  {
   "cell_type": "code",
   "execution_count": null,
   "id": "476d27cd",
   "metadata": {},
   "outputs": [],
   "source": []
  },
  {
   "cell_type": "markdown",
   "id": "3dc4aed5",
   "metadata": {},
   "source": [
    "## Important takeaways from data exploration\n",
    "\n",
    "### `ADMISSIONS` table\n",
    "\n",
    "* Each row represents unique admission (`HADM_ID`). Possible for `SUBJECT_ID` to be duplicated (multiple admissions)\n",
    "* Admission and discharge dates recorded in `ADMITTIME` and `DISCHTIME`\n",
    "* Patients who died in the hospital indicated from `DEATHTIME`. Another field (with binary flag) is `HOSPITAL_EXPIRE_FLAG`\n",
    "* Type of admission (`ELECTIVE`, `URGENT`, `NEWBORN`, `EMERGENCY`) available in `ADMISSION_TYPE`\n",
    "* `ADMISSION_LOCATION` represents previous location of the patient prior to admission (categorical with 9 possible values). Note that text may be truncated\n",
    "* Demographic variables recorded: `INSURANCE`, `LANGUAGE`, `RELIGION`, `MARITAL_STATUS`, `ETHNICITY`. Sourced from ADT data so may have missingness. `ETHNICITY` may even have discrepancy across admissions\n",
    "* If patients were admitted to ED, they should have records in `EDREGTIME`, `EDOUTTIME`\n",
    "* Not recommended to use `DIAGNOSIS` here - discharge diagnoses might be better (`DIAGNOSES_ICD` table)\n",
    "* Can be linked with `PATIENTS` table using `SUBJECT_ID`\n",
    "\n",
    "### `CHARTEVENTS` table\n",
    "\n",
    "* Can be linked to `PATIENTS` (`SUBJECT_ID`), `ADMISSIONS` (`HADM_ID`), `ICUSTAYS` (`ICUSTAY_ID`)\n",
    "* May need to link `ITEMID` with `D_ITEMS` to identify specific measurements\n",
    "* If needed, `CHARTTIME` should record the measurement time, although probably using `HADM_ID` should be sufficient\n",
    "* Values are recorded using `VALUE` (concept-based, identified by `ITEMID`) or `VALUENUM` (numeric value). Unit of measurement is recorded in `VALUEUOM`\n",
    "* These fields may provide potential flags for abnormal values: `WARNING`, `ERROR` (Metavision), `RESULTSTATUS`, `STOPPED` (CareVue)\n",
    "\n",
    "### `ICUSTAYS` table\n",
    "* `ICUSTAY_ID` is unique to a patient ICU stay (assumption: all ICU admissions within 24 hours of each other are grouped). `SUBJECT_ID` and `HADM_ID` are also available\n",
    "* Database source available in `DBSOURCE` - may be useful when interpreting `CHARTEVENTS` table\n",
    "* Recorded in and out times for ICU stays (and derived LOS) available in `INTIME`, `OUTTIME`, `LOS`\n",
    "\n",
    "### `PATIENTS` table\n",
    "\n",
    "* Unique identifier is given by `SUBJECT_ID`\n",
    "* Available demographic data: `GENDER`, `DOB`\n",
    "* IMPORTANT: Patients older than 89 years old are coded as 300 years old based on the deidentified DOB\n",
    "* Death information: `DOD`, `DOD_HOSP`, `DOD_SSN`. Can be confirmed using binary flag (`EXPIRE_FLAG`)\n",
    "\n",
    "### `D_ITEMS` table\n",
    "\n",
    "* As `D_ITEMS` are sourced from two distinct ICU databases (CareVue and Metavision), multiple `ITEMID` for the same concept is possible. Important to search for all possible abbreviations and descriptions of a concept\n",
    "* `LINKSTO` can be helpful to narrow down if certain concept is relevant to `CHARTEVENTS`\n",
    "* Key description is available in `LABEL`\n",
    "\n",
    "### General\n",
    "* Filter patients using `ADMISSION_TYPE` to include only emergency admissions\n",
    "* Filter to only their first admission (make a copy as we need the original one to identify re-admission)\n",
    "* Check availability of chart events data for these patients\n",
    "* Create a binary flag for ED\n",
    "* Ensure that `DOD` in `PATIENTS` table is consistent with `DOD_HOSP` or `DOD_SSN`"
   ]
  },
  {
   "cell_type": "markdown",
   "id": "7116d58f",
   "metadata": {},
   "source": [
    "## Filtering relevant data"
   ]
  },
  {
   "cell_type": "code",
   "execution_count": 41,
   "id": "3bf4b975",
   "metadata": {},
   "outputs": [
    {
     "data": {
      "text/plain": [
       "42071"
      ]
     },
     "execution_count": 41,
     "metadata": {},
     "output_type": "execute_result"
    }
   ],
   "source": [
    "emergency_adm_df = adm_df.filter(adm_df.ADMISSION_TYPE == \"EMERGENCY\")\n",
    "emergency_adm_df = emergency_adm_df.select(\n",
    "    \"SUBJECT_ID\", \"HADM_ID\", \"ADMITTIME\", \"DISCHTIME\", \"DEATHTIME\", \"HOSPITAL_EXPIRE_FLAG\", \n",
    "    \"ADMISSION_LOCATION\", \"INSURANCE\", \"LANGUAGE\", \"MARITAL_STATUS\", \"ETHNICITY\", \n",
    "    \"EDREGTIME\", \"EDOUTTIME\"\n",
    ")\n",
    "emergency_adm_df.count()"
   ]
  },
  {
   "cell_type": "code",
   "execution_count": 46,
   "id": "53394b77",
   "metadata": {},
   "outputs": [
    {
     "data": {
      "text/plain": [
       "32610"
      ]
     },
     "execution_count": 46,
     "metadata": {},
     "output_type": "execute_result"
    }
   ],
   "source": [
    "# Number of unique patients\n",
    "emergency_adm_df.select(\"SUBJECT_ID\").distinct().count()"
   ]
  },
  {
   "cell_type": "code",
   "execution_count": 52,
   "id": "3c503d9d",
   "metadata": {},
   "outputs": [
    {
     "name": "stdout",
     "output_type": "stream",
     "text": [
      "36637\n",
      "36637\n"
     ]
    }
   ],
   "source": [
    "# Sanity check: Ensure no recorded death date for patients who didn't die\n",
    "print(emergency_adm_df.filter(emergency_adm_df.HOSPITAL_EXPIRE_FLAG == 0).count())\n",
    "print(emergency_adm_df.filter(emergency_adm_df.DEATHTIME.isNull()).count())"
   ]
  },
  {
   "cell_type": "code",
   "execution_count": 55,
   "id": "0be27d3b",
   "metadata": {},
   "outputs": [
    {
     "name": "stdout",
     "output_type": "stream",
     "text": [
      "2342\n"
     ]
    }
   ],
   "source": [
    "# Assess missingness for some variables\n",
    "print(emergency_adm_df.filter(emergency_adm_df.MARITAL_STATUS.isNull()).count())"
   ]
  },
  {
   "cell_type": "code",
   "execution_count": 57,
   "id": "27f203cb",
   "metadata": {},
   "outputs": [
    {
     "name": "stdout",
     "output_type": "stream",
     "text": [
      "3106\n"
     ]
    }
   ],
   "source": [
    "print(emergency_adm_df.filter(emergency_adm_df.ETHNICITY.contains(\"UNKNOWN\")).count())"
   ]
  },
  {
   "cell_type": "code",
   "execution_count": 58,
   "id": "a8d6c2a7",
   "metadata": {},
   "outputs": [
    {
     "name": "stdout",
     "output_type": "stream",
     "text": [
      "690\n"
     ]
    }
   ],
   "source": [
    "print(emergency_adm_df.filter(emergency_adm_df.ETHNICITY.contains(\"UNABLE\")).count())"
   ]
  },
  {
   "cell_type": "code",
   "execution_count": 59,
   "id": "829a466b",
   "metadata": {},
   "outputs": [
    {
     "name": "stdout",
     "output_type": "stream",
     "text": [
      "5\n"
     ]
    }
   ],
   "source": [
    "print(emergency_adm_df.filter(emergency_adm_df.ADMISSION_LOCATION.contains(\n",
    "    \"INFO NOT AVAIL\")).count())"
   ]
  },
  {
   "cell_type": "code",
   "execution_count": 66,
   "id": "de469b9c",
   "metadata": {},
   "outputs": [
    {
     "name": "stderr",
     "output_type": "stream",
     "text": [
      "                                                                                \r"
     ]
    },
    {
     "data": {
      "text/plain": [
       "238855068"
      ]
     },
     "execution_count": 66,
     "metadata": {},
     "output_type": "execute_result"
    }
   ],
   "source": [
    "# Check number of unique items in chart events\n",
    "chart_df.join(emergency_adm_df.select(\"HADM_ID\"), \n",
    "              emergency_adm_df.HADM_ID == chart_df.HADM_ID, \"inner\").count()"
   ]
  },
  {
   "cell_type": "code",
   "execution_count": 65,
   "id": "d28c4d49",
   "metadata": {},
   "outputs": [
    {
     "name": "stderr",
     "output_type": "stream",
     "text": [
      "                                                                                \r"
     ]
    },
    {
     "data": {
      "text/plain": [
       "330712483"
      ]
     },
     "execution_count": 65,
     "metadata": {},
     "output_type": "execute_result"
    }
   ],
   "source": [
    "chart_df.count()"
   ]
  },
  {
   "cell_type": "code",
   "execution_count": 67,
   "id": "de60fbdd",
   "metadata": {},
   "outputs": [
    {
     "name": "stderr",
     "output_type": "stream",
     "text": [
      "                                                                                \r"
     ]
    },
    {
     "data": {
      "text/plain": [
       "5214"
      ]
     },
     "execution_count": 67,
     "metadata": {},
     "output_type": "execute_result"
    }
   ],
   "source": [
    "chart_df.join(emergency_adm_df.select(\"HADM_ID\"), \n",
    "              emergency_adm_df.HADM_ID == chart_df.HADM_ID, \"inner\").select(\n",
    "    \"ITEMID\").distinct().count()"
   ]
  },
  {
   "cell_type": "markdown",
   "id": "94892f57",
   "metadata": {},
   "source": [
    "Next steps:\n",
    "* Filter first admissions only and extract 90-day readmission data **DONE**\n",
    "* Exclude patients who died in the hospital **DONE**\n",
    "* Create binary flag for ED visits during index stay **DONE**\n",
    "* Create binary flag for ICU visits during index stay **EXPLORED**\n",
    "* **NEXT STEP** Extract discharge diagnoses from `DIAGNOSES_ICD` using `ICD9_CODE` and `SEQ_NUM` (to identify primary/secondary diagnoses) - linkable using `HADM_ID`\n",
    "* **Optional:** Look at common diagnoses and identify commonly measured chart items to be extracted\n",
    "* Standardise recording of missing values in each column **PARTIALLY DONE**\n",
    "* **NEXT STEP** Clean up process to save and load CSV files generated by PySpark"
   ]
  },
  {
   "cell_type": "code",
   "execution_count": 129,
   "id": "093920fb",
   "metadata": {},
   "outputs": [],
   "source": [
    "# Identify first admissions for all patients\n",
    "windowSubj = Window.partitionBy(\"SUBJECT_ID\").orderBy(col(\"ADMITTIME\"))\n",
    "first_adm_df = emergency_adm_df.withColumn(\"row\", row_number().over(windowSubj)).filter(\n",
    "    col(\"row\") == 1).drop(\"row\")"
   ]
  },
  {
   "cell_type": "code",
   "execution_count": 130,
   "id": "93626d6c",
   "metadata": {},
   "outputs": [
    {
     "name": "stdout",
     "output_type": "stream",
     "text": [
      "+-------+-------------------+-------------------+\n",
      "|HADM_ID|          ADMITTIME|          DISCHTIME|\n",
      "+-------+-------------------+-------------------+\n",
      "| 116935|2149-12-17 20:41:00|2149-12-31 14:55:00|\n",
      "| 149546|2155-02-03 20:16:00|2155-02-14 11:15:00|\n",
      "| 158975|2156-04-27 15:33:00|2156-05-14 15:30:00|\n",
      "+-------+-------------------+-------------------+\n",
      "\n"
     ]
    }
   ],
   "source": [
    "# Sanity check on a single patient\n",
    "emergency_adm_df.filter(col(\"SUBJECT_ID\") == 249).select(\n",
    "    \"HADM_ID\", \"ADMITTIME\", \"DISCHTIME\").show()"
   ]
  },
  {
   "cell_type": "code",
   "execution_count": 131,
   "id": "5df0f027",
   "metadata": {},
   "outputs": [
    {
     "name": "stdout",
     "output_type": "stream",
     "text": [
      "+-------+-------------------+-------------------+\n",
      "|HADM_ID|          ADMITTIME|          DISCHTIME|\n",
      "+-------+-------------------+-------------------+\n",
      "| 116935|2149-12-17 20:41:00|2149-12-31 14:55:00|\n",
      "+-------+-------------------+-------------------+\n",
      "\n"
     ]
    }
   ],
   "source": [
    "first_adm_df.filter(col(\"SUBJECT_ID\") == 249).select(\n",
    "    \"HADM_ID\", \"ADMITTIME\", \"DISCHTIME\").show()"
   ]
  },
  {
   "cell_type": "code",
   "execution_count": 132,
   "id": "358e7c3c",
   "metadata": {},
   "outputs": [],
   "source": [
    "# Change column names for index admission info\n",
    "first_adm_df = first_adm_df.withColumnRenamed(\"ADMITTIME\", \"INDEX_ADMITTIME\")\n",
    "first_adm_df = first_adm_df.withColumnRenamed(\"DISCHTIME\", \"INDEX_DISCHTIME\")\n",
    "first_adm_df = first_adm_df.withColumnRenamed(\"HADM_ID\", \"INDEX_HADM_ID\")"
   ]
  },
  {
   "cell_type": "code",
   "execution_count": 133,
   "id": "9c937dc4",
   "metadata": {},
   "outputs": [
    {
     "data": {
      "text/plain": [
       "9461"
      ]
     },
     "execution_count": 133,
     "metadata": {},
     "output_type": "execute_result"
    }
   ],
   "source": [
    "# Join with the bigger table to identify readmissions\n",
    "first_adm_df_joined = first_adm_df.select(\n",
    "    \"SUBJECT_ID\", \"INDEX_HADM_ID\", \"INDEX_DISCHTIME\").join(\n",
    "    emergency_adm_df.select(\"SUBJECT_ID\", \"HADM_ID\", \"ADMITTIME\"), \n",
    "    first_adm_df.SUBJECT_ID == emergency_adm_df.SUBJECT_ID\n",
    ")\n",
    "\n",
    "# Remove index admission records from consideration\n",
    "first_adm_df_joined = first_adm_df_joined.filter(col(\"INDEX_HADM_ID\") != col(\"HADM_ID\"))\n",
    "\n",
    "first_adm_df_joined.count()"
   ]
  },
  {
   "cell_type": "code",
   "execution_count": 134,
   "id": "029136a8",
   "metadata": {},
   "outputs": [
    {
     "name": "stdout",
     "output_type": "stream",
     "text": [
      "+----------+-------------+-------------------+----------+-------+-------------------+\n",
      "|SUBJECT_ID|INDEX_HADM_ID|    INDEX_DISCHTIME|SUBJECT_ID|HADM_ID|          ADMITTIME|\n",
      "+----------+-------------+-------------------+----------+-------+-------------------+\n",
      "|        21|       109451|2134-09-24 16:15:00|        21| 111970|2135-01-30 20:50:00|\n",
      "|        34|       115799|2186-07-20 16:00:00|        34| 144319|2191-02-23 05:23:00|\n",
      "|        36|       182104|2131-05-08 14:00:00|        36| 122659|2131-05-12 19:49:00|\n",
      "|        68|       170467|2174-01-03 18:30:00|        68| 108329|2174-01-04 22:21:00|\n",
      "|        85|       116630|2162-03-10 13:15:00|        85| 112077|2167-07-25 18:49:00|\n",
      "|        94|       183686|2176-02-29 17:45:00|        94| 140037|2176-09-02 14:22:00|\n",
      "|       103|       130744|2144-08-20 11:15:00|       103| 133550|2144-08-30 23:09:00|\n",
      "|       105|       161160|2189-02-02 16:40:00|       105| 128744|2189-02-21 01:45:00|\n",
      "|       107|       191941|2115-02-21 16:30:00|       107| 174162|2122-05-14 19:37:00|\n",
      "|       107|       191941|2115-02-21 16:30:00|       107| 182383|2121-11-30 19:24:00|\n",
      "|       109|       183350|2137-11-21 18:13:00|       109| 189332|2142-08-28 19:48:00|\n",
      "|       109|       183350|2137-11-21 18:13:00|       109| 155726|2142-08-13 04:03:00|\n",
      "|       109|       183350|2137-11-21 18:13:00|       109| 196721|2142-07-12 15:27:00|\n",
      "|       109|       183350|2137-11-21 18:13:00|       109| 131376|2142-07-07 10:01:00|\n",
      "|       109|       183350|2137-11-21 18:13:00|       109| 174489|2142-07-03 14:48:00|\n",
      "|       109|       183350|2137-11-21 18:13:00|       109| 136572|2142-06-18 03:11:00|\n",
      "|       109|       183350|2137-11-21 18:13:00|       109| 102024|2142-05-20 12:59:00|\n",
      "|       109|       183350|2137-11-21 18:13:00|       109| 151240|2142-05-15 10:45:00|\n",
      "|       109|       183350|2137-11-21 18:13:00|       109| 137510|2142-04-20 13:39:00|\n",
      "|       109|       183350|2137-11-21 18:13:00|       109| 124398|2142-03-24 16:34:00|\n",
      "+----------+-------------+-------------------+----------+-------+-------------------+\n",
      "only showing top 20 rows\n",
      "\n"
     ]
    }
   ],
   "source": [
    "first_adm_df_joined.show(20)"
   ]
  },
  {
   "cell_type": "code",
   "execution_count": 135,
   "id": "cb32b519",
   "metadata": {},
   "outputs": [],
   "source": [
    "# Calculate time difference and identify 90-day readmission\n",
    "first_adm_df_joined = first_adm_df_joined.withColumn(\n",
    "    \"DAYS_FROM_INDEX\", \n",
    "    (unix_timestamp(\"ADMITTIME\") - unix_timestamp(\"INDEX_DISCHTIME\"))/(3600*24)\n",
    ")\n",
    "\n",
    "first_adm_df_joined = first_adm_df_joined.withColumn(\n",
    "    \"90DAYREADM\", col(\"DAYS_FROM_INDEX\") <= 90\n",
    ")"
   ]
  },
  {
   "cell_type": "code",
   "execution_count": 136,
   "id": "6d24fa64",
   "metadata": {},
   "outputs": [
    {
     "data": {
      "text/plain": [
       "2646"
      ]
     },
     "execution_count": 136,
     "metadata": {},
     "output_type": "execute_result"
    }
   ],
   "source": [
    "first_adm_df_joined.filter(first_adm_df_joined[\"90DAYREADM\"] == True).count()"
   ]
  },
  {
   "cell_type": "code",
   "execution_count": 137,
   "id": "a42b6d63",
   "metadata": {},
   "outputs": [
    {
     "name": "stdout",
     "output_type": "stream",
     "text": [
      "+-------------+-------------------+-------------------+\n",
      "|INDEX_HADM_ID|    INDEX_DISCHTIME|          ADMITTIME|\n",
      "+-------------+-------------------+-------------------+\n",
      "|       182104|2131-05-08 14:00:00|2131-05-12 19:49:00|\n",
      "|       170467|2174-01-03 18:30:00|2174-01-04 22:21:00|\n",
      "|       130744|2144-08-20 11:15:00|2144-08-30 23:09:00|\n",
      "|       161160|2189-02-02 16:40:00|2189-02-21 01:45:00|\n",
      "|       198214|2119-11-05 17:00:00|2119-11-14 12:00:00|\n",
      "|       110545|2106-05-26 16:15:00|2106-06-17 19:51:00|\n",
      "|       159223|2183-11-11 13:25:00|2184-01-21 21:20:00|\n",
      "|       137477|2168-03-16 15:45:00|2168-04-24 20:29:00|\n",
      "|       160697|2157-01-19 14:58:00|2157-03-07 11:08:00|\n",
      "|       109185|2166-09-12 14:41:00|2166-10-02 15:36:00|\n",
      "|       106909|2176-02-24 16:23:00|2176-04-10 20:45:00|\n",
      "|       119446|2140-08-19 17:00:00|2140-09-29 12:55:00|\n",
      "|       146586|2149-11-06 15:24:00|2149-12-19 02:34:00|\n",
      "|       108923|2151-04-13 16:10:00|2151-06-23 22:18:00|\n",
      "|       135591|2132-08-13 17:41:00|2132-08-31 17:05:00|\n",
      "|       142749|2112-07-16 13:45:00|2112-07-28 17:08:00|\n",
      "|       197503|2140-05-25 12:00:00|2140-06-07 21:37:00|\n",
      "|       130196|2161-06-06 14:21:00|2161-06-29 22:30:00|\n",
      "|       170890|2169-04-25 13:20:00|2169-06-28 09:40:00|\n",
      "|       141168|2101-06-30 11:57:00|2101-08-31 17:16:00|\n",
      "+-------------+-------------------+-------------------+\n",
      "only showing top 20 rows\n",
      "\n"
     ]
    }
   ],
   "source": [
    "first_adm_df_joined.filter(first_adm_df_joined[\"90DAYREADM\"] == True).select(\n",
    "    \"INDEX_HADM_ID\", \"INDEX_DISCHTIME\", \"ADMITTIME\").show(20)"
   ]
  },
  {
   "cell_type": "code",
   "execution_count": 138,
   "id": "78ef01d1",
   "metadata": {},
   "outputs": [],
   "source": [
    "# Join the readmission flag back to the first admission table\n",
    "\n",
    "first_adm_df_joined = first_adm_df_joined.withColumnRenamed(\"INDEX_HADM_ID\", \"INDEX_HADM_ID2\")\n",
    "first_adm_df = first_adm_df.join(\n",
    "    first_adm_df_joined.select(\"INDEX_HADM_ID2\", \"90DAYREADM\").filter(\n",
    "        first_adm_df_joined[\"90DAYREADM\"] == True).dropDuplicates(), \n",
    "    first_adm_df.INDEX_HADM_ID == first_adm_df_joined.INDEX_HADM_ID2,\n",
    "    \"left\"\n",
    ")"
   ]
  },
  {
   "cell_type": "code",
   "execution_count": 139,
   "id": "aa9cc1af",
   "metadata": {},
   "outputs": [
    {
     "data": {
      "text/plain": [
       "32610"
      ]
     },
     "execution_count": 139,
     "metadata": {},
     "output_type": "execute_result"
    }
   ],
   "source": [
    "first_adm_df.count()"
   ]
  },
  {
   "cell_type": "code",
   "execution_count": 140,
   "id": "80c0c6de",
   "metadata": {},
   "outputs": [
    {
     "data": {
      "text/plain": [
       "2290"
      ]
     },
     "execution_count": 140,
     "metadata": {},
     "output_type": "execute_result"
    }
   ],
   "source": [
    "first_adm_df.filter(first_adm_df[\"90DAYREADM\"] == True).count()"
   ]
  },
  {
   "cell_type": "code",
   "execution_count": 141,
   "id": "0a6b8a8e",
   "metadata": {},
   "outputs": [],
   "source": [
    "# Drop redundant columns and fill missing readmission flags\n",
    "first_adm_df = first_adm_df.drop(\"INDEX_HADM_ID2\")\n",
    "first_adm_df = first_adm_df.fillna({\"90DAYREADM\": False})"
   ]
  },
  {
   "cell_type": "code",
   "execution_count": 142,
   "id": "0c8b8727",
   "metadata": {},
   "outputs": [
    {
     "data": {
      "text/plain": [
       "2290"
      ]
     },
     "execution_count": 142,
     "metadata": {},
     "output_type": "execute_result"
    }
   ],
   "source": [
    "first_adm_df.filter(first_adm_df[\"90DAYREADM\"] == True).count()"
   ]
  },
  {
   "cell_type": "code",
   "execution_count": 143,
   "id": "2afae6df",
   "metadata": {},
   "outputs": [],
   "source": [
    "# Check patients who died in hospital and readmitted at the same time\n",
    "to_check = first_adm_df.filter(\n",
    "    (first_adm_df[\"HOSPITAL_EXPIRE_FLAG\"] == 1) & (first_adm_df[\"90DAYREADM\"] == True))"
   ]
  },
  {
   "cell_type": "code",
   "execution_count": 144,
   "id": "3e7c71a5",
   "metadata": {},
   "outputs": [
    {
     "data": {
      "text/plain": [
       "31"
      ]
     },
     "execution_count": 144,
     "metadata": {},
     "output_type": "execute_result"
    }
   ],
   "source": [
    "to_check.count()"
   ]
  },
  {
   "cell_type": "code",
   "execution_count": 150,
   "id": "a277be43",
   "metadata": {},
   "outputs": [
    {
     "name": "stdout",
     "output_type": "stream",
     "text": [
      "+-------------+-------------------+-------------------+-------------------+\n",
      "|INDEX_HADM_ID|    INDEX_ADMITTIME|    INDEX_DISCHTIME|          DEATHTIME|\n",
      "+-------------+-------------------+-------------------+-------------------+\n",
      "|       171956|2138-05-04 21:33:00|2138-05-12 12:00:00|2138-05-12 12:00:00|\n",
      "|       173380|2188-12-08 17:37:00|2188-12-16 13:12:00|2188-12-16 13:12:00|\n",
      "|       166578|2157-02-24 01:17:00|2157-02-27 05:18:00|2157-02-27 05:18:00|\n",
      "|       134011|2158-02-16 22:03:00|2158-02-17 08:00:00|2158-02-17 08:00:00|\n",
      "|       133293|2164-10-14 01:57:00|2164-10-16 16:30:00|2164-10-16 16:30:00|\n",
      "|       189200|2160-08-26 17:58:00|2160-08-27 08:50:00|2160-08-27 08:50:00|\n",
      "|       148592|2163-01-20 18:39:00|2163-01-24 08:00:00|2163-01-26 08:00:00|\n",
      "|       178629|2153-05-27 04:35:00|2153-05-27 08:00:00|2153-05-27 08:00:00|\n",
      "|       141260|2140-01-12 04:45:00|2140-01-13 10:54:00|2140-01-13 10:54:00|\n",
      "|       165450|2131-02-10 00:09:00|2131-02-11 14:45:00|2131-02-12 14:45:00|\n",
      "|       113826|2109-10-27 04:36:00|2109-10-29 15:42:00|2109-10-29 15:42:00|\n",
      "|       127959|2127-04-03 22:11:00|2127-04-04 12:00:00|2127-04-04 12:00:00|\n",
      "|       133750|2158-05-15 16:38:00|2158-05-16 17:43:00|2158-05-16 17:43:00|\n",
      "|       183164|2115-09-07 04:29:00|2115-09-20 12:00:00|2115-09-21 12:00:00|\n",
      "|       106299|2164-12-21 17:20:00|2164-12-22 16:00:00|2164-12-22 16:00:00|\n",
      "|       118292|2165-09-07 05:00:00|2165-09-09 15:20:00|2165-09-09 15:20:00|\n",
      "|       193872|2170-05-14 11:44:00|2170-05-17 01:00:00|2170-05-17 01:00:00|\n",
      "|       172698|2165-11-30 02:27:00|2165-12-01 08:00:00|2165-12-01 08:00:00|\n",
      "|       119823|2172-10-03 01:15:00|2172-10-07 08:00:00|2172-10-08 08:00:00|\n",
      "|       103660|2110-04-01 22:42:00|2110-04-25 07:09:00|2110-04-25 07:09:00|\n",
      "+-------------+-------------------+-------------------+-------------------+\n",
      "only showing top 20 rows\n",
      "\n"
     ]
    }
   ],
   "source": [
    "to_check.select(\"INDEX_HADM_ID\", \"INDEX_ADMITTIME\", \"INDEX_DISCHTIME\", \"DEATHTIME\").show()"
   ]
  },
  {
   "cell_type": "code",
   "execution_count": 160,
   "id": "f0e274eb",
   "metadata": {},
   "outputs": [],
   "source": [
    "to_check = to_check.join(first_adm_df_joined.select(\"INDEX_HADM_ID2\", \"DAYS_FROM_INDEX\"), \n",
    "                         to_check.INDEX_HADM_ID == first_adm_df_joined.INDEX_HADM_ID2,\n",
    "                         \"left\")"
   ]
  },
  {
   "cell_type": "code",
   "execution_count": 161,
   "id": "a6aba8b7",
   "metadata": {},
   "outputs": [
    {
     "data": {
      "text/plain": [
       "31"
      ]
     },
     "execution_count": 161,
     "metadata": {},
     "output_type": "execute_result"
    }
   ],
   "source": [
    "to_check.count()"
   ]
  },
  {
   "cell_type": "code",
   "execution_count": 166,
   "id": "d8b1b4a0",
   "metadata": {},
   "outputs": [
    {
     "name": "stdout",
     "output_type": "stream",
     "text": [
      "+-------+-------------------+\n",
      "|summary|    DAYS_FROM_INDEX|\n",
      "+-------+-------------------+\n",
      "|  count|                 31|\n",
      "|   mean|0.13637992831541218|\n",
      "| stddev|0.27503826645348745|\n",
      "|    min|-0.3055555555555556|\n",
      "|    max|  1.207638888888889|\n",
      "+-------+-------------------+\n",
      "\n"
     ]
    }
   ],
   "source": [
    "to_check.describe(\"DAYS_FROM_INDEX\").show()"
   ]
  },
  {
   "cell_type": "code",
   "execution_count": 145,
   "id": "039f6c37",
   "metadata": {},
   "outputs": [
    {
     "name": "stdout",
     "output_type": "stream",
     "text": [
      "Number of patients left: 28404\n"
     ]
    }
   ],
   "source": [
    "# Remove patients who died in the hospital\n",
    "first_adm_df = first_adm_df.filter(first_adm_df[\"HOSPITAL_EXPIRE_FLAG\"] != 1)\n",
    "\n",
    "print(\"Number of patients left: {}\".format(first_adm_df.count()))"
   ]
  },
  {
   "cell_type": "code",
   "execution_count": 146,
   "id": "c84ea37c",
   "metadata": {},
   "outputs": [
    {
     "data": {
      "text/plain": [
       "2259"
      ]
     },
     "execution_count": 146,
     "metadata": {},
     "output_type": "execute_result"
    }
   ],
   "source": [
    "first_adm_df.filter(first_adm_df[\"90DAYREADM\"] == True).count()"
   ]
  },
  {
   "cell_type": "code",
   "execution_count": 167,
   "id": "8d920c61",
   "metadata": {},
   "outputs": [],
   "source": [
    "# Create binary flag for ED visits\n",
    "first_adm_df = first_adm_df.withColumn(\"ED_FLAG\", col(\"EDREGTIME\").isNotNull())"
   ]
  },
  {
   "cell_type": "code",
   "execution_count": 169,
   "id": "81495426",
   "metadata": {},
   "outputs": [
    {
     "data": {
      "text/plain": [
       "19809"
      ]
     },
     "execution_count": 169,
     "metadata": {},
     "output_type": "execute_result"
    }
   ],
   "source": [
    "first_adm_df.filter(col(\"ED_FLAG\") == True).count()"
   ]
  },
  {
   "cell_type": "code",
   "execution_count": 175,
   "id": "667980f8",
   "metadata": {},
   "outputs": [
    {
     "name": "stdout",
     "output_type": "stream",
     "text": [
      "root\n",
      " |-- SUBJECT_ID: integer (nullable = true)\n",
      " |-- INDEX_HADM_ID: integer (nullable = true)\n",
      " |-- INDEX_ADMITTIME: timestamp (nullable = true)\n",
      " |-- INDEX_DISCHTIME: timestamp (nullable = true)\n",
      " |-- DEATHTIME: timestamp (nullable = true)\n",
      " |-- HOSPITAL_EXPIRE_FLAG: integer (nullable = true)\n",
      " |-- ADMISSION_LOCATION: string (nullable = true)\n",
      " |-- INSURANCE: string (nullable = true)\n",
      " |-- LANGUAGE: string (nullable = true)\n",
      " |-- MARITAL_STATUS: string (nullable = true)\n",
      " |-- ETHNICITY: string (nullable = true)\n",
      " |-- EDREGTIME: timestamp (nullable = true)\n",
      " |-- EDOUTTIME: timestamp (nullable = true)\n",
      " |-- 90DAYREADM: boolean (nullable = false)\n",
      " |-- ED_FLAG: boolean (nullable = false)\n",
      "\n"
     ]
    }
   ],
   "source": [
    "first_adm_df.printSchema()"
   ]
  },
  {
   "cell_type": "code",
   "execution_count": 171,
   "id": "4eff77a2",
   "metadata": {},
   "outputs": [
    {
     "name": "stderr",
     "output_type": "stream",
     "text": [
      "                                                                                \r"
     ]
    },
    {
     "data": {
      "text/plain": [
       "28159"
      ]
     },
     "execution_count": 171,
     "metadata": {},
     "output_type": "execute_result"
    }
   ],
   "source": [
    "# Link with ICU data to identify patients with ICU visits\n",
    "# NOTE: Decided not to include as most patients seem to have one\n",
    "icu_adm_linked = first_adm_df.join(icu_df.select(\"HADM_ID\", \"ICUSTAY_ID\"), \n",
    "                                   icu_df.HADM_ID == first_adm_df.INDEX_HADM_ID, \n",
    "                                   \"inner\")\n",
    "icu_index_adm = icu_adm_linked.groupBy(\"HADM_ID\").count().withColumnRenamed(\n",
    "    \"count\", \"ICU_COUNT\")\n",
    "\n",
    "icu_index_adm.count()"
   ]
  },
  {
   "cell_type": "code",
   "execution_count": 196,
   "id": "fa6d8552",
   "metadata": {},
   "outputs": [],
   "source": [
    "# Remove date related columns and IDs (not needed for modelling)\n",
    "first_adm_df1 = first_adm_df.drop(\n",
    "    \"INDEX_ADMITTIME\", \"INDEX_DISCHTIME\", \"INDEX_HADM_ID\", \"SUBJECT_ID\", \n",
    "    \"DEATHTIME\", \"HOSPITAL_EXPIRE_FLAG\", \"EDREGTIME\", \"EDOUTTIME\"\n",
    ")"
   ]
  },
  {
   "cell_type": "code",
   "execution_count": 197,
   "id": "a4926e5f",
   "metadata": {},
   "outputs": [],
   "source": [
    "# Standardise recording of missing values\n",
    "first_adm_df1 = first_adm_df1.withColumn(\n",
    "    \"ADMISSION_LOCATION_CLEAN\", \n",
    "    when(~col(\"ADMISSION_LOCATION\").contains(\"INFO NOT AVAIL\"), col(\"ADMISSION_LOCATION\"))\n",
    ")\n",
    "first_adm_df1 = first_adm_df1.withColumn(\n",
    "    \"MARITAL_STATUS_CLEAN\", \n",
    "    when(~col(\"MARITAL_STATUS\").contains(\"UNKNOWN\"), col(\"MARITAL_STATUS\"))\n",
    ")"
   ]
  },
  {
   "cell_type": "code",
   "execution_count": 198,
   "id": "78485a52",
   "metadata": {},
   "outputs": [
    {
     "name": "stdout",
     "output_type": "stream",
     "text": [
      "+------------------------+\n",
      "|ADMISSION_LOCATION_CLEAN|\n",
      "+------------------------+\n",
      "|    PHYS REFERRAL/NOR...|\n",
      "|                    null|\n",
      "|       HMO REFERRAL/SICK|\n",
      "|    TRANSFER FROM HOS...|\n",
      "|    TRANSFER FROM SKI...|\n",
      "|    TRANSFER FROM OTH...|\n",
      "|    EMERGENCY ROOM ADMIT|\n",
      "|    TRSF WITHIN THIS ...|\n",
      "|    CLINIC REFERRAL/P...|\n",
      "+------------------------+\n",
      "\n"
     ]
    }
   ],
   "source": [
    "first_adm_df1.select(\"ADMISSION_LOCATION_CLEAN\").distinct().show()"
   ]
  },
  {
   "cell_type": "code",
   "execution_count": 199,
   "id": "c473df4d",
   "metadata": {},
   "outputs": [
    {
     "name": "stdout",
     "output_type": "stream",
     "text": [
      "+--------------------+\n",
      "|MARITAL_STATUS_CLEAN|\n",
      "+--------------------+\n",
      "|                null|\n",
      "|             WIDOWED|\n",
      "|              SINGLE|\n",
      "|        LIFE PARTNER|\n",
      "|             MARRIED|\n",
      "|           SEPARATED|\n",
      "|            DIVORCED|\n",
      "+--------------------+\n",
      "\n"
     ]
    }
   ],
   "source": [
    "first_adm_df1.select(\"MARITAL_STATUS_CLEAN\").distinct().show()"
   ]
  },
  {
   "cell_type": "code",
   "execution_count": 200,
   "id": "934a4f66",
   "metadata": {},
   "outputs": [],
   "source": [
    "# Clean up column names\n",
    "first_adm_df1 = first_adm_df1.drop(\"MARITAL_STATUS\", \"ADMISSION_LOCATION\")\n",
    "first_adm_df1 = first_adm_df1.withColumnRenamed(\"MARITAL_STATUS_CLEAN\", \"MARITAL_STATUS\")\n",
    "first_adm_df1 = first_adm_df1.withColumnRenamed(\n",
    "    \"ADMISSION_LOCATION_CLEAN\", \"ADMISSION_LOCATION\"\n",
    ")"
   ]
  },
  {
   "cell_type": "code",
   "execution_count": 201,
   "id": "a699a7c6",
   "metadata": {},
   "outputs": [
    {
     "name": "stdout",
     "output_type": "stream",
     "text": [
      "root\n",
      " |-- INSURANCE: string (nullable = true)\n",
      " |-- LANGUAGE: string (nullable = true)\n",
      " |-- ETHNICITY: string (nullable = true)\n",
      " |-- 90DAYREADM: boolean (nullable = false)\n",
      " |-- ED_FLAG: boolean (nullable = false)\n",
      " |-- ADMISSION_LOCATION: string (nullable = true)\n",
      " |-- MARITAL_STATUS: string (nullable = true)\n",
      "\n"
     ]
    }
   ],
   "source": [
    "first_adm_df1.printSchema()"
   ]
  },
  {
   "cell_type": "code",
   "execution_count": 203,
   "id": "4076a880",
   "metadata": {},
   "outputs": [],
   "source": [
    "# Save dataframe as CSV\n",
    "first_adm_df1.write.option(\"header\", True).csv(mimic_dir + \"processed_table\")"
   ]
  },
  {
   "cell_type": "code",
   "execution_count": 204,
   "id": "96315321",
   "metadata": {},
   "outputs": [],
   "source": [
    "test = pd.read_csv(\n",
    "    mimic_dir + \"processed_table/part-00000-0ba001e1-3d19-4411-b020-3389613dd064-c000.csv\"\n",
    ")"
   ]
  },
  {
   "cell_type": "code",
   "execution_count": 205,
   "id": "0e1aac96",
   "metadata": {},
   "outputs": [
    {
     "data": {
      "text/plain": [
       "(28404, 7)"
      ]
     },
     "execution_count": 205,
     "metadata": {},
     "output_type": "execute_result"
    }
   ],
   "source": [
    "test.shape"
   ]
  },
  {
   "cell_type": "code",
   "execution_count": 206,
   "id": "d65a1dc7",
   "metadata": {},
   "outputs": [
    {
     "data": {
      "text/html": [
       "<div>\n",
       "<style scoped>\n",
       "    .dataframe tbody tr th:only-of-type {\n",
       "        vertical-align: middle;\n",
       "    }\n",
       "\n",
       "    .dataframe tbody tr th {\n",
       "        vertical-align: top;\n",
       "    }\n",
       "\n",
       "    .dataframe thead th {\n",
       "        text-align: right;\n",
       "    }\n",
       "</style>\n",
       "<table border=\"1\" class=\"dataframe\">\n",
       "  <thead>\n",
       "    <tr style=\"text-align: right;\">\n",
       "      <th></th>\n",
       "      <th>INSURANCE</th>\n",
       "      <th>LANGUAGE</th>\n",
       "      <th>ETHNICITY</th>\n",
       "      <th>90DAYREADM</th>\n",
       "      <th>ED_FLAG</th>\n",
       "      <th>ADMISSION_LOCATION</th>\n",
       "      <th>MARITAL_STATUS</th>\n",
       "    </tr>\n",
       "  </thead>\n",
       "  <tbody>\n",
       "    <tr>\n",
       "      <th>0</th>\n",
       "      <td>Medicare</td>\n",
       "      <td>NaN</td>\n",
       "      <td>WHITE</td>\n",
       "      <td>False</td>\n",
       "      <td>True</td>\n",
       "      <td>EMERGENCY ROOM ADMIT</td>\n",
       "      <td>WIDOWED</td>\n",
       "    </tr>\n",
       "    <tr>\n",
       "      <th>1</th>\n",
       "      <td>Medicare</td>\n",
       "      <td>NaN</td>\n",
       "      <td>BLACK/AFRICAN AMERICAN</td>\n",
       "      <td>False</td>\n",
       "      <td>True</td>\n",
       "      <td>EMERGENCY ROOM ADMIT</td>\n",
       "      <td>DIVORCED</td>\n",
       "    </tr>\n",
       "    <tr>\n",
       "      <th>2</th>\n",
       "      <td>Private</td>\n",
       "      <td>NaN</td>\n",
       "      <td>WHITE</td>\n",
       "      <td>False</td>\n",
       "      <td>True</td>\n",
       "      <td>EMERGENCY ROOM ADMIT</td>\n",
       "      <td>SINGLE</td>\n",
       "    </tr>\n",
       "    <tr>\n",
       "      <th>3</th>\n",
       "      <td>Medicare</td>\n",
       "      <td>NaN</td>\n",
       "      <td>WHITE</td>\n",
       "      <td>True</td>\n",
       "      <td>True</td>\n",
       "      <td>EMERGENCY ROOM ADMIT</td>\n",
       "      <td>MARRIED</td>\n",
       "    </tr>\n",
       "    <tr>\n",
       "      <th>4</th>\n",
       "      <td>Private</td>\n",
       "      <td>NaN</td>\n",
       "      <td>WHITE</td>\n",
       "      <td>False</td>\n",
       "      <td>False</td>\n",
       "      <td>TRANSFER FROM HOSP/EXTRAM</td>\n",
       "      <td>MARRIED</td>\n",
       "    </tr>\n",
       "  </tbody>\n",
       "</table>\n",
       "</div>"
      ],
      "text/plain": [
       "  INSURANCE LANGUAGE               ETHNICITY  90DAYREADM  ED_FLAG  \\\n",
       "0  Medicare      NaN                   WHITE       False     True   \n",
       "1  Medicare      NaN  BLACK/AFRICAN AMERICAN       False     True   \n",
       "2   Private      NaN                   WHITE       False     True   \n",
       "3  Medicare      NaN                   WHITE        True     True   \n",
       "4   Private      NaN                   WHITE       False    False   \n",
       "\n",
       "          ADMISSION_LOCATION MARITAL_STATUS  \n",
       "0       EMERGENCY ROOM ADMIT        WIDOWED  \n",
       "1       EMERGENCY ROOM ADMIT       DIVORCED  \n",
       "2       EMERGENCY ROOM ADMIT         SINGLE  \n",
       "3       EMERGENCY ROOM ADMIT        MARRIED  \n",
       "4  TRANSFER FROM HOSP/EXTRAM        MARRIED  "
      ]
     },
     "execution_count": 206,
     "metadata": {},
     "output_type": "execute_result"
    }
   ],
   "source": [
    "test.head()"
   ]
  },
  {
   "cell_type": "code",
   "execution_count": null,
   "id": "93081e7d",
   "metadata": {},
   "outputs": [],
   "source": []
  }
 ],
 "metadata": {
  "kernelspec": {
   "display_name": "Python (venv)",
   "language": "python",
   "name": "env"
  },
  "language_info": {
   "codemirror_mode": {
    "name": "ipython",
    "version": 3
   },
   "file_extension": ".py",
   "mimetype": "text/x-python",
   "name": "python",
   "nbconvert_exporter": "python",
   "pygments_lexer": "ipython3",
   "version": "3.9.7"
  }
 },
 "nbformat": 4,
 "nbformat_minor": 5
}
