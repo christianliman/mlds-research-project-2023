{
 "cells": [
  {
   "cell_type": "code",
   "execution_count": 1,
   "id": "4d1ff979",
   "metadata": {},
   "outputs": [
    {
     "name": "stdout",
     "output_type": "stream",
     "text": [
      "3.9.7\n"
     ]
    }
   ],
   "source": [
    "# First check Python version\n",
    "from platform import python_version\n",
    "print(python_version())"
   ]
  },
  {
   "cell_type": "code",
   "execution_count": 13,
   "id": "548163d8",
   "metadata": {},
   "outputs": [],
   "source": [
    "# Import libraries\n",
    "import pandas as pd\n",
    "import numpy as np\n",
    "import matplotlib as mpl\n",
    "import seaborn as sns\n",
    "import statsmodels as sm\n",
    "import copy\n",
    "import shap\n",
    "import pickle\n",
    "import os\n",
    "import rpy2\n",
    "import scipy\n",
    "import tqdm\n",
    "import sklearn\n",
    "import IPython\n",
    "import pyampute\n",
    "import pyspark"
   ]
  },
  {
   "cell_type": "code",
   "execution_count": 14,
   "id": "375d9d9f",
   "metadata": {},
   "outputs": [
    {
     "name": "stdout",
     "output_type": "stream",
     "text": [
      "Pandas version: 1.5.1\n",
      "Numpy version: 1.23.4\n",
      "Matplotlib version: 3.6.0\n",
      "Seaborn version: 0.12.1\n",
      "Statsmodels version: 0.13.5\n",
      "SHAP version: 0.42.1\n",
      "RPy2 version: 3.5.12\n",
      "Scipy version: 1.9.3\n",
      "tqdm version: 4.64.1\n",
      "sklearn version: 1.1.3\n",
      "IPython version: 8.6.0\n",
      "pyampute version: 0.0.1\n",
      "pyspark version: 3.3.1\n"
     ]
    }
   ],
   "source": [
    "# Get versions\n",
    "print(\"Pandas version: {}\".format(pd.__version__))\n",
    "print(\"Numpy version: {}\".format(np.__version__))\n",
    "print(\"Matplotlib version: {}\".format(mpl.__version__))\n",
    "print(\"Seaborn version: {}\".format(sns.__version__))\n",
    "print(\"Statsmodels version: {}\".format(sm.__version__))\n",
    "#print(\"Copy version: {}\".format(copy.__version__))\n",
    "print(\"SHAP version: {}\".format(shap.__version__))\n",
    "#print(\"Pickle version: {}\".format(pickle.__version__))\n",
    "#print(\"OS version: {}\".format(os.__version__))\n",
    "print(\"RPy2 version: {}\".format(rpy2.__version__))\n",
    "print(\"Scipy version: {}\".format(scipy.__version__))\n",
    "print(\"tqdm version: {}\".format(tqdm.__version__))\n",
    "print(\"sklearn version: {}\".format(sklearn.__version__))\n",
    "print(\"IPython version: {}\".format(IPython.__version__))\n",
    "print(\"pyampute version: {}\".format(pyampute.__version__))\n",
    "print(\"pyspark version: {}\".format(pyspark.__version__))"
   ]
  },
  {
   "cell_type": "code",
   "execution_count": 10,
   "id": "6fdee6cb",
   "metadata": {},
   "outputs": [
    {
     "name": "stdout",
     "output_type": "stream",
     "text": [
      "base: 4.1.2\n",
      "stats: 4.1.2\n",
      "mice: 3.14.0\n",
      "grDevices: 4.1.2\n",
      "MASS: 7.3-54\n"
     ]
    }
   ],
   "source": [
    "# Versions of R packages accessed through rpy2\n",
    "# Source: https://stackoverflow.com/questions/69941743/using-rpy2-to-check-if-i-have-the-latest-version-of-an-r-package-installed\n",
    "from rpy2.robjects.packages import importr\n",
    "\n",
    "utils = importr(\"utils\")\n",
    "\n",
    "def extract_versions(package_data):\n",
    "    return dict(zip(\n",
    "        package_data.rx(True, \"Package\"),\n",
    "        package_data.rx(True, \"Version\")\n",
    "    ))\n",
    "\n",
    "i = extract_versions(utils.installed_packages())\n",
    "\n",
    "for p in [\"base\", \"stats\", \"mice\", \"grDevices\", \"MASS\"]:\n",
    "    print(\"{}: {}\".format(p, i[p]))"
   ]
  }
 ],
 "metadata": {
  "kernelspec": {
   "display_name": "Python (venv)",
   "language": "python",
   "name": "env"
  },
  "language_info": {
   "codemirror_mode": {
    "name": "ipython",
    "version": 3
   },
   "file_extension": ".py",
   "mimetype": "text/x-python",
   "name": "python",
   "nbconvert_exporter": "python",
   "pygments_lexer": "ipython3",
   "version": "3.9.7"
  }
 },
 "nbformat": 4,
 "nbformat_minor": 5
}
