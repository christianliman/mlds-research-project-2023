{
 "cells": [
  {
   "cell_type": "code",
   "execution_count": 1,
   "id": "9c8b372e",
   "metadata": {},
   "outputs": [],
   "source": [
    "# Import packages\n",
    "import pandas as pd\n",
    "import numpy as np\n",
    "import os\n",
    "import pyspark\n",
    "from pathlib import Path\n",
    "from pyspark.sql.window import Window\n",
    "from pyspark.sql.functions import col, row_number, unix_timestamp, when, year, round\n",
    "from tqdm import tqdm\n",
    "\n",
    "# Make pandas dataframes prettier\n",
    "from IPython.display import display, HTML"
   ]
  },
  {
   "cell_type": "code",
   "execution_count": 2,
   "id": "a596526a",
   "metadata": {},
   "outputs": [
    {
     "name": "stdout",
     "output_type": "stream",
     "text": [
      "23/08/22 20:23:26 WARN Utils: Your hostname, Christians-MacBook-Pro.local resolves to a loopback address: 127.0.0.1; using 192.168.10.107 instead (on interface en0)\n",
      "23/08/22 20:23:26 WARN Utils: Set SPARK_LOCAL_IP if you need to bind to another address\n"
     ]
    },
    {
     "name": "stderr",
     "output_type": "stream",
     "text": [
      "Setting default log level to \"WARN\".\n",
      "To adjust logging level use sc.setLogLevel(newLevel). For SparkR, use setLogLevel(newLevel).\n"
     ]
    },
    {
     "name": "stdout",
     "output_type": "stream",
     "text": [
      "23/08/22 20:23:26 WARN NativeCodeLoader: Unable to load native-hadoop library for your platform... using builtin-java classes where applicable\n"
     ]
    }
   ],
   "source": [
    "# Initialise PySpark context and session\n",
    "sc = pyspark.SparkContext(appName=\"appName\")\n",
    "from pyspark.sql import SparkSession\n",
    "spark = SparkSession.builder.appName(\"appName\").getOrCreate()"
   ]
  },
  {
   "cell_type": "markdown",
   "id": "15616f0d",
   "metadata": {},
   "source": [
    "## Retrieve relevant tables"
   ]
  },
  {
   "cell_type": "code",
   "execution_count": 3,
   "id": "83293022",
   "metadata": {},
   "outputs": [],
   "source": [
    "# Load dataset using PySpark\n",
    "\n",
    "mimic_dir = \"../../data/mimic-iii/\"\n",
    "\n",
    "adm_df = spark.read.option(\"header\", True).option(\"inferSchema\", True).csv(\n",
    "    mimic_dir + \"ADMISSIONS.csv\")\n",
    "pat_df = spark.read.option(\"header\", True).option(\"inferSchema\", True).csv(\n",
    "    mimic_dir + \"PATIENTS.csv\")"
   ]
  },
  {
   "cell_type": "code",
   "execution_count": 4,
   "id": "3c477e18",
   "metadata": {},
   "outputs": [],
   "source": [
    "# List down relevant variables in each table\n",
    "adm_cols = [\"SUBJECT_ID\", \"HADM_ID\", \"INSURANCE\", \"MARITAL_STATUS\", \"ETHNICITY\", \n",
    "            \"HOSPITAL_EXPIRE_FLAG\", \"ADMISSION_TYPE\", \"ADMITTIME\", \"DISCHTIME\", \n",
    "            \"EDREGTIME\", \"EDOUTTIME\"]\n",
    "pat_cols = [\"SUBJECT_ID\", \"GENDER\", \"DOB\"]"
   ]
  },
  {
   "cell_type": "markdown",
   "id": "bd7ae0dc",
   "metadata": {},
   "source": [
    "## Data processing\n",
    "\n",
    "### Step 1: Identify unique patients with emergency admissions"
   ]
  },
  {
   "cell_type": "code",
   "execution_count": 5,
   "id": "45121fd2",
   "metadata": {},
   "outputs": [
    {
     "name": "stdout",
     "output_type": "stream",
     "text": [
      "Number of emergency admissions = 42071\n"
     ]
    }
   ],
   "source": [
    "# Filter patients from emergency setting\n",
    "emergency_adm_df = adm_df.filter(adm_df.ADMISSION_TYPE == \"EMERGENCY\").select(*adm_cols)\n",
    "print(\"Number of emergency admissions = {}\".format(emergency_adm_df.count()))"
   ]
  },
  {
   "cell_type": "code",
   "execution_count": 6,
   "id": "10b03396",
   "metadata": {},
   "outputs": [
    {
     "name": "stdout",
     "output_type": "stream",
     "text": [
      "Number of unique patients = 32610\n"
     ]
    }
   ],
   "source": [
    "# Identify first admissions for all patients\n",
    "windowSubj = Window.partitionBy(\"SUBJECT_ID\").orderBy(col(\"ADMITTIME\"))\n",
    "first_adm_df = emergency_adm_df.withColumn(\"row\", row_number().over(windowSubj)).filter(\n",
    "    col(\"row\") == 1).drop(\"row\")\n",
    "print(\"Number of unique patients = {}\".format(first_adm_df.count()))"
   ]
  },
  {
   "cell_type": "code",
   "execution_count": 7,
   "id": "01f64033",
   "metadata": {},
   "outputs": [],
   "source": [
    "# Change column names for index admission info\n",
    "first_adm_df = first_adm_df.withColumnRenamed(\"ADMITTIME\", \"INDEX_ADMITTIME\")\n",
    "first_adm_df = first_adm_df.withColumnRenamed(\"DISCHTIME\", \"INDEX_DISCHTIME\")\n",
    "first_adm_df = first_adm_df.withColumnRenamed(\"HADM_ID\", \"INDEX_HADM_ID\")"
   ]
  },
  {
   "cell_type": "code",
   "execution_count": 8,
   "id": "5bca95dd",
   "metadata": {},
   "outputs": [
    {
     "name": "stdout",
     "output_type": "stream",
     "text": [
      "Number of patients who survived index admission = 28404\n"
     ]
    }
   ],
   "source": [
    "# Remove patients who died in hospital\n",
    "first_adm_df = first_adm_df.filter(first_adm_df.HOSPITAL_EXPIRE_FLAG != 1)\n",
    "print(\"Number of patients who survived index admission = {}\".format(first_adm_df.count()))"
   ]
  },
  {
   "cell_type": "markdown",
   "id": "2f628d18",
   "metadata": {},
   "source": [
    "### Step 2: Identify patients with 90-day emergency readmissions"
   ]
  },
  {
   "cell_type": "code",
   "execution_count": 9,
   "id": "7bbae526",
   "metadata": {},
   "outputs": [
    {
     "data": {
      "text/plain": [
       "9430"
      ]
     },
     "execution_count": 9,
     "metadata": {},
     "output_type": "execute_result"
    }
   ],
   "source": [
    "# Join with the bigger table to identify readmissions\n",
    "first_adm_df_joined = first_adm_df.select(\n",
    "    \"SUBJECT_ID\", \"INDEX_HADM_ID\", \"INDEX_DISCHTIME\").join(\n",
    "    emergency_adm_df.select(\"SUBJECT_ID\", \"HADM_ID\", \"ADMITTIME\"), \n",
    "    first_adm_df.SUBJECT_ID == emergency_adm_df.SUBJECT_ID\n",
    ")\n",
    "\n",
    "# Remove index admission records from consideration\n",
    "first_adm_df_joined = first_adm_df_joined.filter(col(\"INDEX_HADM_ID\") != col(\"HADM_ID\"))\n",
    "\n",
    "first_adm_df_joined.count()"
   ]
  },
  {
   "cell_type": "code",
   "execution_count": 10,
   "id": "a6b600a7",
   "metadata": {},
   "outputs": [],
   "source": [
    "# Calculate time difference and identify 90-day readmission\n",
    "first_adm_df_joined = first_adm_df_joined.withColumn(\n",
    "    \"DAYS_FROM_INDEX\", \n",
    "    (unix_timestamp(\"ADMITTIME\") - unix_timestamp(\"INDEX_DISCHTIME\"))/(3600*24)\n",
    ")\n",
    "\n",
    "first_adm_df_joined = first_adm_df_joined.withColumn(\n",
    "    \"90DAYREADM\", col(\"DAYS_FROM_INDEX\") <= 90\n",
    ")"
   ]
  },
  {
   "cell_type": "code",
   "execution_count": 11,
   "id": "39186c10",
   "metadata": {},
   "outputs": [
    {
     "name": "stdout",
     "output_type": "stream",
     "text": [
      "Number of readmissions within 90 days = 2615\n"
     ]
    }
   ],
   "source": [
    "print(\"Number of readmissions within 90 days = {}\".format(\n",
    "    first_adm_df_joined.filter(first_adm_df_joined[\"90DAYREADM\"] == True).count()))"
   ]
  },
  {
   "cell_type": "code",
   "execution_count": 12,
   "id": "7ac70335",
   "metadata": {},
   "outputs": [],
   "source": [
    "# Join the readmission flag back to the first admission table\n",
    "\n",
    "first_adm_df_joined = first_adm_df_joined.withColumnRenamed(\"INDEX_HADM_ID\", \"INDEX_HADM_ID2\")\n",
    "first_adm_df = first_adm_df.join(\n",
    "    first_adm_df_joined.select(\"INDEX_HADM_ID2\", \"90DAYREADM\").filter(\n",
    "        first_adm_df_joined[\"90DAYREADM\"] == True).dropDuplicates(), \n",
    "    first_adm_df.INDEX_HADM_ID == first_adm_df_joined.INDEX_HADM_ID2,\n",
    "    \"left\"\n",
    ")"
   ]
  },
  {
   "cell_type": "code",
   "execution_count": 13,
   "id": "f1538ebe",
   "metadata": {},
   "outputs": [
    {
     "name": "stdout",
     "output_type": "stream",
     "text": [
      "Sanity check: Number of unique patients = 28404\n",
      "Number of patients with 90-day readmissions = 2259\n"
     ]
    }
   ],
   "source": [
    "print(\"Sanity check: Number of unique patients = {}\".format(first_adm_df.count()))\n",
    "print(\"Number of patients with 90-day readmissions = {}\".format(\n",
    "    first_adm_df.filter(first_adm_df[\"90DAYREADM\"] == True).count()))"
   ]
  },
  {
   "cell_type": "code",
   "execution_count": 14,
   "id": "dde8eb0d",
   "metadata": {},
   "outputs": [],
   "source": [
    "# Drop redundant columns and fill missing readmission flags\n",
    "first_adm_df = first_adm_df.drop(\"INDEX_HADM_ID2\", \"HOSPITAL_EXPIRE_FLAG\", \"ADMISSION_TYPE\")\n",
    "first_adm_df = first_adm_df.fillna({\"90DAYREADM\": False})"
   ]
  },
  {
   "cell_type": "code",
   "execution_count": 15,
   "id": "62d74904",
   "metadata": {},
   "outputs": [
    {
     "name": "stdout",
     "output_type": "stream",
     "text": [
      "23/08/22 20:23:39 WARN GarbageCollectionMetrics: To enable non-built-in garbage collector(s) List(G1 Concurrent GC), users should configure it(them) to spark.eventLog.gcMetrics.youngGenerationGarbageCollectors or spark.eventLog.gcMetrics.oldGenerationGarbageCollectors\n",
      "+----------+-------------+---------+--------------+--------------------+-------------------+-------------------+-------------------+-------------------+----------+\n",
      "|SUBJECT_ID|INDEX_HADM_ID|INSURANCE|MARITAL_STATUS|           ETHNICITY|    INDEX_ADMITTIME|    INDEX_DISCHTIME|          EDREGTIME|          EDOUTTIME|90DAYREADM|\n",
      "+----------+-------------+---------+--------------+--------------------+-------------------+-------------------+-------------------+-------------------+----------+\n",
      "|        37|       188670| Medicare|       MARRIED|               WHITE|2183-08-21 16:48:00|2183-08-26 18:54:00|2183-08-21 05:58:00|2183-08-21 17:45:00|     false|\n",
      "|        43|       146828|  Private|       MARRIED|               WHITE|2186-10-01 23:15:00|2186-10-11 18:00:00|2186-10-01 19:42:00|2186-10-01 23:46:00|     false|\n",
      "|        26|       197661| Medicare|        SINGLE|UNKNOWN/NOT SPECI...|2126-05-06 15:16:00|2126-05-13 15:00:00|               null|               null|     false|\n",
      "|        34|       115799| Medicare|       MARRIED|               WHITE|2186-07-18 16:46:00|2186-07-20 16:00:00|               null|               null|     false|\n",
      "|        13|       143045| Medicaid|          null|               WHITE|2167-01-08 18:43:00|2167-01-15 15:15:00|               null|               null|     false|\n",
      "|        52|       190797|  Private|        SINGLE|               WHITE|2191-01-10 02:12:00|2191-01-19 16:10:00|               null|               null|     false|\n",
      "|        22|       165315|  Private|       MARRIED|               WHITE|2196-04-09 12:26:00|2196-04-10 15:54:00|2196-04-09 10:06:00|2196-04-09 13:24:00|     false|\n",
      "|        53|       155385|  Private|       MARRIED|UNKNOWN/NOT SPECI...|2170-03-20 20:20:00|2170-03-23 18:00:00|               null|               null|     false|\n",
      "|         3|       145834| Medicare|       MARRIED|               WHITE|2101-10-20 19:08:00|2101-10-31 13:58:00|2101-10-20 17:09:00|2101-10-20 19:24:00|     false|\n",
      "|        44|       181750| Medicare|       MARRIED|UNKNOWN/NOT SPECI...|2192-11-19 18:14:00|2192-11-27 14:35:00|               null|               null|     false|\n",
      "+----------+-------------+---------+--------------+--------------------+-------------------+-------------------+-------------------+-------------------+----------+\n",
      "only showing top 10 rows\n",
      "\n"
     ]
    }
   ],
   "source": [
    "# View output table\n",
    "first_adm_df.show(10)"
   ]
  },
  {
   "cell_type": "markdown",
   "id": "80d20838",
   "metadata": {},
   "source": [
    "### Step 3: Merge gender and DOB data"
   ]
  },
  {
   "cell_type": "code",
   "execution_count": 16,
   "id": "00794de7",
   "metadata": {},
   "outputs": [
    {
     "name": "stdout",
     "output_type": "stream",
     "text": [
      "Sanity check: Number of unique patients = 28404\n"
     ]
    }
   ],
   "source": [
    "# Join with patients table. Rename to allow easier removal of variables later\n",
    "# as otherwise PySpark keeps a duplicate\n",
    "pat_df2 = pat_df.select(*pat_cols).withColumnRenamed(\"SUBJECT_ID\", \"SUBJECT_ID2\")\n",
    "combined_df = first_adm_df.join(\n",
    "    pat_df2, first_adm_df.SUBJECT_ID == pat_df2.SUBJECT_ID2, \"left\"\n",
    ")\n",
    "\n",
    "# Remove redundant variables\n",
    "combined_df = combined_df.drop(\"SUBJECT_ID2\")\n",
    "\n",
    "print(\"Sanity check: Number of unique patients = {}\".format(combined_df.count()))"
   ]
  },
  {
   "cell_type": "markdown",
   "id": "3ce82b7e",
   "metadata": {},
   "source": [
    "### Step 4: Create derived variables\n",
    "\n",
    "#### Length of stay (LOS)"
   ]
  },
  {
   "cell_type": "code",
   "execution_count": 17,
   "id": "7af06ea7",
   "metadata": {},
   "outputs": [],
   "source": [
    "# Calculate length of stay\n",
    "combined_df = combined_df.withColumn(\n",
    "    \"LOS\", \n",
    "    round((unix_timestamp(\"INDEX_DISCHTIME\") - unix_timestamp(\"INDEX_ADMITTIME\"))/(3600*24) + 1)\n",
    ")"
   ]
  },
  {
   "cell_type": "code",
   "execution_count": 18,
   "id": "0e4d1777",
   "metadata": {},
   "outputs": [
    {
     "name": "stdout",
     "output_type": "stream",
     "text": [
      "+-------+------------------+\n",
      "|summary|               LOS|\n",
      "+-------+------------------+\n",
      "|  count|             28404|\n",
      "|   mean|11.181277284889452|\n",
      "| stddev| 10.52733385349223|\n",
      "|    min|               1.0|\n",
      "|    max|             204.0|\n",
      "+-------+------------------+\n",
      "\n"
     ]
    }
   ],
   "source": [
    "# Observe summary statistics to assess abnormalities\n",
    "combined_df.describe(\"LOS\").show()"
   ]
  },
  {
   "cell_type": "markdown",
   "id": "bf4f389e",
   "metadata": {},
   "source": [
    "#### Emergency department (ED) visit of more than 6 hours"
   ]
  },
  {
   "cell_type": "code",
   "execution_count": 19,
   "id": "6e4b67ab",
   "metadata": {},
   "outputs": [],
   "source": [
    "# Calculate time at ED if present\n",
    "combined_df = combined_df.withColumn(\n",
    "    \"TIME_AT_ED\",\n",
    "    when(col(\"EDREGTIME\").isNotNull(), \n",
    "         (unix_timestamp(\"EDOUTTIME\") - unix_timestamp(\"EDREGTIME\"))/3600)\n",
    ")\n",
    "#combined_df = combined_df.fillna({\"TIME_AT_ED\": 0})"
   ]
  },
  {
   "cell_type": "code",
   "execution_count": 20,
   "id": "81a7af2d",
   "metadata": {},
   "outputs": [],
   "source": [
    "# Create flag of ED visit of more than 6 hours\n",
    "combined_df = combined_df.withColumn(\"ED_6HRS\", col(\"TIME_AT_ED\") >= 6)"
   ]
  },
  {
   "cell_type": "code",
   "execution_count": 21,
   "id": "9b074376",
   "metadata": {},
   "outputs": [
    {
     "name": "stdout",
     "output_type": "stream",
     "text": [
      "Number of patients with no ED visit = 8595\n"
     ]
    }
   ],
   "source": [
    "print(\"Number of patients with no ED visit =\", combined_df.filter(col(\"ED_6HRS\").isNull()).count())"
   ]
  },
  {
   "cell_type": "code",
   "execution_count": 22,
   "id": "cfd288ad",
   "metadata": {},
   "outputs": [
    {
     "name": "stdout",
     "output_type": "stream",
     "text": [
      "Number of patients with ED visit longer than 6 hrs = 6737\n"
     ]
    }
   ],
   "source": [
    "print(\"Number of patients with ED visit longer than 6 hrs =\", \n",
    "      combined_df.filter(col(\"ED_6HRS\") == True).count())"
   ]
  },
  {
   "cell_type": "markdown",
   "id": "e73180c6",
   "metadata": {},
   "source": [
    "#### Age at index admission"
   ]
  },
  {
   "cell_type": "code",
   "execution_count": 23,
   "id": "5eda02dd",
   "metadata": {},
   "outputs": [],
   "source": [
    "# Calculate age\n",
    "combined_df = combined_df.withColumn(\"AGE\", (year(\"INDEX_ADMITTIME\") - year(\"DOB\")))"
   ]
  },
  {
   "cell_type": "code",
   "execution_count": 24,
   "id": "5fe4772f",
   "metadata": {},
   "outputs": [
    {
     "name": "stdout",
     "output_type": "stream",
     "text": [
      "+-------+-----------------+\n",
      "|summary|              AGE|\n",
      "+-------+-----------------+\n",
      "|  count|            28404|\n",
      "|   mean|73.08717082101113|\n",
      "| stddev|55.94813102926004|\n",
      "|    min|                0|\n",
      "|    max|              310|\n",
      "+-------+-----------------+\n",
      "\n"
     ]
    }
   ],
   "source": [
    "# Observe summary statistics to assess abnormalities\n",
    "combined_df.describe(\"AGE\").show()"
   ]
  },
  {
   "cell_type": "code",
   "execution_count": 25,
   "id": "bf33e10b",
   "metadata": {},
   "outputs": [
    {
     "name": "stdout",
     "output_type": "stream",
     "text": [
      "Number of patients with recorded age above 99 = 1470\n"
     ]
    }
   ],
   "source": [
    "print(\"Number of patients with recorded age above 99 = {}\".format(\n",
    "    combined_df.filter(combined_df.AGE > 99).count()))"
   ]
  },
  {
   "cell_type": "code",
   "execution_count": 26,
   "id": "f6b83231",
   "metadata": {},
   "outputs": [
    {
     "name": "stdout",
     "output_type": "stream",
     "text": [
      "Number of patients with recorded age of 0 = 202\n"
     ]
    }
   ],
   "source": [
    "print(\"Number of patients with recorded age of 0 = {}\".format(\n",
    "    combined_df.filter(combined_df.AGE == 0).count()))"
   ]
  },
  {
   "cell_type": "code",
   "execution_count": 27,
   "id": "cb1252d1",
   "metadata": {},
   "outputs": [
    {
     "name": "stdout",
     "output_type": "stream",
     "text": [
      "Number of patients with recorded (non-zero) age below 18 = 71\n"
     ]
    }
   ],
   "source": [
    "print(\"Number of patients with recorded (non-zero) age below 18 = {}\".format(\n",
    "    combined_df.filter((combined_df.AGE > 0) & (combined_df.AGE < 18)).count()))"
   ]
  },
  {
   "cell_type": "markdown",
   "id": "c7d119e8",
   "metadata": {},
   "source": [
    "#### Final step: cleanup"
   ]
  },
  {
   "cell_type": "code",
   "execution_count": 28,
   "id": "4fbf75d4",
   "metadata": {},
   "outputs": [
    {
     "name": "stdout",
     "output_type": "stream",
     "text": [
      "Sanity check: Number of unique patients = 28404\n"
     ]
    }
   ],
   "source": [
    "# Remove redundant variables\n",
    "combined_df = combined_df.drop(\"EDREGTIME\", \"EDOUTTIME\", \"TIME_AT_ED\", \n",
    "                               \"INDEX_DISCHTIME\", \"INDEX_ADMITTIME\", \"DOB\")\n",
    "\n",
    "print(\"Sanity check: Number of unique patients = {}\".format(combined_df.count()))"
   ]
  },
  {
   "cell_type": "code",
   "execution_count": 29,
   "id": "38bf62ea",
   "metadata": {},
   "outputs": [
    {
     "name": "stdout",
     "output_type": "stream",
     "text": [
      "+----------+-------------+---------+--------------+--------------------+----------+------+----+-------+---+\n",
      "|SUBJECT_ID|INDEX_HADM_ID|INSURANCE|MARITAL_STATUS|           ETHNICITY|90DAYREADM|GENDER| LOS|ED_6HRS|AGE|\n",
      "+----------+-------------+---------+--------------+--------------------+----------+------+----+-------+---+\n",
      "|        37|       188670| Medicare|       MARRIED|               WHITE|     false|     M| 6.0|   true| 69|\n",
      "|        43|       146828|  Private|       MARRIED|               WHITE|     false|     M|11.0|  false| 33|\n",
      "|        26|       197661| Medicare|        SINGLE|UNKNOWN/NOT SPECI...|     false|     M| 8.0|   null| 72|\n",
      "|        34|       115799| Medicare|       MARRIED|               WHITE|     false|     M| 3.0|   null|300|\n",
      "|        13|       143045| Medicaid|          null|               WHITE|     false|     F| 8.0|   null| 40|\n",
      "|        52|       190797|  Private|        SINGLE|               WHITE|     false|     M|11.0|   null| 39|\n",
      "|        22|       165315|  Private|       MARRIED|               WHITE|     false|     F| 2.0|  false| 65|\n",
      "|        53|       155385|  Private|       MARRIED|UNKNOWN/NOT SPECI...|     false|     M| 4.0|   null| 46|\n",
      "|         3|       145834| Medicare|       MARRIED|               WHITE|     false|     M|12.0|  false| 76|\n",
      "|        44|       181750| Medicare|       MARRIED|UNKNOWN/NOT SPECI...|     false|     M| 9.0|   null| 80|\n",
      "+----------+-------------+---------+--------------+--------------------+----------+------+----+-------+---+\n",
      "only showing top 10 rows\n",
      "\n"
     ]
    }
   ],
   "source": [
    "# View first few columns\n",
    "combined_df.show(10)"
   ]
  },
  {
   "cell_type": "markdown",
   "id": "c27c0524",
   "metadata": {},
   "source": [
    "### Step 5: Standardise recording of missing values"
   ]
  },
  {
   "cell_type": "code",
   "execution_count": 30,
   "id": "d42db71b",
   "metadata": {},
   "outputs": [],
   "source": [
    "# Standardise recording of missing values\n",
    "combined_df = combined_df.withColumn(\n",
    "    \"MARITAL_STATUS_CLEAN\", \n",
    "    when(~col(\"MARITAL_STATUS\").contains(\"UNKNOWN\"), col(\"MARITAL_STATUS\"))\n",
    ")"
   ]
  },
  {
   "cell_type": "code",
   "execution_count": 31,
   "id": "3e1f6233",
   "metadata": {},
   "outputs": [
    {
     "name": "stdout",
     "output_type": "stream",
     "text": [
      "+-------+-----------------+\n",
      "|summary|        AGE_CLEAN|\n",
      "+-------+-----------------+\n",
      "|  count|            26732|\n",
      "|   mean|61.15894807721083|\n",
      "| stddev|17.62539593688143|\n",
      "|    min|                1|\n",
      "|    max|               89|\n",
      "+-------+-----------------+\n",
      "\n"
     ]
    }
   ],
   "source": [
    "# Convert abnormal age to missing values\n",
    "combined_df = combined_df.withColumn(\n",
    "    \"AGE_CLEAN\",\n",
    "    when((~(col(\"AGE\") == 0)) & (~(col(\"AGE\") > 99)), col(\"AGE\"))\n",
    ")\n",
    "\n",
    "# Observe summary statistics to assess abnormalities\n",
    "combined_df.describe(\"AGE_CLEAN\").show()"
   ]
  },
  {
   "cell_type": "code",
   "execution_count": 32,
   "id": "ea8002a8",
   "metadata": {},
   "outputs": [],
   "source": [
    "# Clean up column names\n",
    "combined_df = combined_df.drop(\"MARITAL_STATUS\", \"AGE\")\n",
    "combined_df = combined_df.withColumnRenamed(\"MARITAL_STATUS_CLEAN\", \"MARITAL_STATUS\")\n",
    "combined_df = combined_df.withColumnRenamed(\"AGE_CLEAN\", \"AGE\")"
   ]
  },
  {
   "cell_type": "markdown",
   "id": "de1ad583",
   "metadata": {},
   "source": [
    "### Step 6: Remove patients below 18 years old"
   ]
  },
  {
   "cell_type": "code",
   "execution_count": 33,
   "id": "fc98a32a",
   "metadata": {},
   "outputs": [
    {
     "name": "stdout",
     "output_type": "stream",
     "text": [
      "Number of patients after excluding paediatrics = 28333\n"
     ]
    }
   ],
   "source": [
    "# Filter non-adult patients\n",
    "combined_df = combined_df.filter((combined_df.AGE >= 18) | (col(\"AGE\").isNull()))\n",
    "print(\"Number of patients after excluding paediatrics = {}\".format(combined_df.count()))"
   ]
  },
  {
   "cell_type": "markdown",
   "id": "47552368",
   "metadata": {},
   "source": [
    "### Step 7: Conversion to Pandas"
   ]
  },
  {
   "cell_type": "code",
   "execution_count": 34,
   "id": "ac5d09d9",
   "metadata": {},
   "outputs": [],
   "source": [
    "# Convert to Pandas DataFrame\n",
    "final_df = combined_df.toPandas()"
   ]
  },
  {
   "cell_type": "code",
   "execution_count": 35,
   "id": "b522ab26",
   "metadata": {},
   "outputs": [
    {
     "data": {
      "text/plain": [
       "SUBJECT_ID           0\n",
       "INDEX_HADM_ID        0\n",
       "INSURANCE            0\n",
       "ETHNICITY            0\n",
       "90DAYREADM           0\n",
       "GENDER               0\n",
       "LOS                  0\n",
       "ED_6HRS           8578\n",
       "MARITAL_STATUS    1882\n",
       "AGE               1672\n",
       "dtype: int64"
      ]
     },
     "execution_count": 35,
     "metadata": {},
     "output_type": "execute_result"
    }
   ],
   "source": [
    "# Initial check on number of missing values\n",
    "final_df.isna().sum()"
   ]
  },
  {
   "cell_type": "markdown",
   "id": "b70cdd27",
   "metadata": {},
   "source": [
    "### Step XX: Standardise recording of demographic variables\n",
    "\n",
    "#### Ethnicity"
   ]
  },
  {
   "cell_type": "code",
   "execution_count": 36,
   "id": "2cce90fb",
   "metadata": {},
   "outputs": [
    {
     "data": {
      "text/plain": [
       "WHITE                                                       20019\n",
       "UNKNOWN/NOT SPECIFIED                                        2343\n",
       "BLACK/AFRICAN AMERICAN                                       2309\n",
       "HISPANIC OR LATINO                                            799\n",
       "OTHER                                                         680\n",
       "UNABLE TO OBTAIN                                              521\n",
       "ASIAN                                                         475\n",
       "PATIENT DECLINED TO ANSWER                                    218\n",
       "ASIAN - CHINESE                                               134\n",
       "HISPANIC/LATINO - PUERTO RICAN                                111\n",
       "BLACK/CAPE VERDEAN                                            108\n",
       "WHITE - RUSSIAN                                                80\n",
       "MULTI RACE ETHNICITY                                           65\n",
       "BLACK/HAITIAN                                                  60\n",
       "HISPANIC/LATINO - DOMINICAN                                    48\n",
       "ASIAN - ASIAN INDIAN                                           39\n",
       "WHITE - OTHER EUROPEAN                                         37\n",
       "WHITE - BRAZILIAN                                              33\n",
       "PORTUGUESE                                                     27\n",
       "BLACK/AFRICAN                                                  23\n",
       "ASIAN - VIETNAMESE                                             23\n",
       "HISPANIC/LATINO - GUATEMALAN                                   22\n",
       "MIDDLE EASTERN                                                 20\n",
       "AMERICAN INDIAN/ALASKA NATIVE                                  16\n",
       "HISPANIC/LATINO - SALVADORAN                                   13\n",
       "WHITE - EASTERN EUROPEAN                                       12\n",
       "ASIAN - FILIPINO                                               11\n",
       "HISPANIC/LATINO - CUBAN                                        11\n",
       "HISPANIC/LATINO - MEXICAN                                       9\n",
       "ASIAN - CAMBODIAN                                               9\n",
       "ASIAN - OTHER                                                   8\n",
       "ASIAN - KOREAN                                                  8\n",
       "HISPANIC/LATINO - COLOMBIAN                                     7\n",
       "HISPANIC/LATINO - CENTRAL AMERICAN (OTHER)                      7\n",
       "SOUTH AMERICAN                                                  7\n",
       "NATIVE HAWAIIAN OR OTHER PACIFIC ISLANDER                       6\n",
       "CARIBBEAN ISLAND                                                5\n",
       "HISPANIC/LATINO - HONDURAN                                      3\n",
       "ASIAN - JAPANESE                                                3\n",
       "AMERICAN INDIAN/ALASKA NATIVE FEDERALLY RECOGNIZED TRIBE        2\n",
       "ASIAN - THAI                                                    2\n",
       "Name: ETHNICITY, dtype: int64"
      ]
     },
     "execution_count": 36,
     "metadata": {},
     "output_type": "execute_result"
    }
   ],
   "source": [
    "# Look at unique values\n",
    "final_df[\"ETHNICITY\"].value_counts(dropna=False)"
   ]
  },
  {
   "cell_type": "code",
   "execution_count": 37,
   "id": "8e30d180",
   "metadata": {},
   "outputs": [
    {
     "data": {
      "text/plain": [
       "WHITE     20181\n",
       "NaN        3082\n",
       "BLACK      2500\n",
       "OTHERS     1858\n",
       "ASIAN       712\n",
       "Name: ETHNICITY, dtype: int64"
      ]
     },
     "execution_count": 37,
     "metadata": {},
     "output_type": "execute_result"
    }
   ],
   "source": [
    "# Remap ethnicity\n",
    "def _map_ethnicity(x):\n",
    "    if \"ASIAN\" in x:\n",
    "        return \"ASIAN\"\n",
    "    elif x in [\"PATIENT DECLINED TO ANSWER\", \"UNKNOWN/NOT SPECIFIED\", \"UNABLE TO OBTAIN\"]:\n",
    "        return np.NaN\n",
    "    elif \"WHITE\" in x:\n",
    "        return \"WHITE\"\n",
    "    elif \"BLACK\" in x:\n",
    "        return \"BLACK\"\n",
    "    else:\n",
    "        return \"OTHERS\"\n",
    "\n",
    "final_df[\"ETHNICITY\"] = final_df[\"ETHNICITY\"].apply(_map_ethnicity)\n",
    "\n",
    "final_df[\"ETHNICITY\"].value_counts(dropna=False)"
   ]
  },
  {
   "cell_type": "markdown",
   "id": "3c767939",
   "metadata": {},
   "source": [
    "#### Marital Status"
   ]
  },
  {
   "cell_type": "code",
   "execution_count": 38,
   "id": "3b174415",
   "metadata": {},
   "outputs": [
    {
     "data": {
      "text/plain": [
       "MARRIED         12912\n",
       "SINGLE           7552\n",
       "WIDOWED          3948\n",
       "None             1882\n",
       "DIVORCED         1736\n",
       "SEPARATED         293\n",
       "LIFE PARTNER       10\n",
       "Name: MARITAL_STATUS, dtype: int64"
      ]
     },
     "execution_count": 38,
     "metadata": {},
     "output_type": "execute_result"
    }
   ],
   "source": [
    "# Look at unique values\n",
    "final_df[\"MARITAL_STATUS\"].value_counts(dropna=False)"
   ]
  },
  {
   "cell_type": "code",
   "execution_count": 39,
   "id": "4e89e7d2",
   "metadata": {},
   "outputs": [
    {
     "data": {
      "text/plain": [
       "PARTNERED               12922\n",
       "SINGLE                   7552\n",
       "WIDOWED OR SEPARATED     5977\n",
       "NaN                      1882\n",
       "Name: MARITAL_STATUS, dtype: int64"
      ]
     },
     "execution_count": 39,
     "metadata": {},
     "output_type": "execute_result"
    }
   ],
   "source": [
    "# Remap marital status\n",
    "def _map_marital_status(x):\n",
    "    if pd.isnull(x):\n",
    "        return np.NaN\n",
    "    elif x in [\"MARRIED\", \"LIFE PARTNER\"]:\n",
    "        return \"PARTNERED\"\n",
    "    elif x in [\"WIDOWED\", \"SEPARATED\", \"DIVORCED\"]:\n",
    "        return \"WIDOWED OR SEPARATED\"\n",
    "    else:\n",
    "        return x\n",
    "\n",
    "final_df[\"MARITAL_STATUS\"] = final_df[\"MARITAL_STATUS\"].apply(_map_marital_status)\n",
    "\n",
    "final_df[\"MARITAL_STATUS\"].value_counts(dropna=False)"
   ]
  },
  {
   "cell_type": "markdown",
   "id": "f6c0d3eb",
   "metadata": {},
   "source": [
    "#### Insurance"
   ]
  },
  {
   "cell_type": "code",
   "execution_count": 40,
   "id": "2fc9df51",
   "metadata": {},
   "outputs": [
    {
     "data": {
      "text/plain": [
       "Medicare      14602\n",
       "Private        9692\n",
       "Medicaid       2620\n",
       "Government      983\n",
       "Self Pay        436\n",
       "Name: INSURANCE, dtype: int64"
      ]
     },
     "execution_count": 40,
     "metadata": {},
     "output_type": "execute_result"
    }
   ],
   "source": [
    "# Look at unique values\n",
    "final_df[\"INSURANCE\"].value_counts(dropna=False)"
   ]
  },
  {
   "cell_type": "code",
   "execution_count": 41,
   "id": "9d634b93",
   "metadata": {},
   "outputs": [
    {
     "data": {
      "text/plain": [
       "Government             18205\n",
       "Private or Self Pay    10128\n",
       "Name: INSURANCE, dtype: int64"
      ]
     },
     "execution_count": 41,
     "metadata": {},
     "output_type": "execute_result"
    }
   ],
   "source": [
    "# Remap insurance\n",
    "final_df[\"INSURANCE\"] = final_df[\"INSURANCE\"].map({\n",
    "    \"Medicare\" : \"Government\",\n",
    "    \"Medicaid\" : \"Government\",\n",
    "    \"Government\" : \"Government\",\n",
    "    \"Private\" : \"Private or Self Pay\",\n",
    "    \"Self Pay\" : \"Private or Self Pay\"\n",
    "})\n",
    "final_df[\"INSURANCE\"].value_counts(dropna=False)"
   ]
  },
  {
   "cell_type": "markdown",
   "id": "112a6545",
   "metadata": {},
   "source": [
    "### Step 8: Final cleanup and save full table"
   ]
  },
  {
   "cell_type": "code",
   "execution_count": 42,
   "id": "68e9f3e2",
   "metadata": {},
   "outputs": [],
   "source": [
    "# Remove columns related to unique IDs\n",
    "final_df = final_df.drop([\"SUBJECT_ID\", \"INDEX_HADM_ID\"], axis=1)"
   ]
  },
  {
   "cell_type": "code",
   "execution_count": 43,
   "id": "17cee631",
   "metadata": {},
   "outputs": [],
   "source": [
    "# Reencode boolean as integers\n",
    "final_df[\"90DAYREADM\"] = final_df[\"90DAYREADM\"].astype(int)\n",
    "final_df[\"ED_6HRS\"] = final_df[\"ED_6HRS\"].astype(float) # since there are NAs"
   ]
  },
  {
   "cell_type": "code",
   "execution_count": 44,
   "id": "272c6450",
   "metadata": {},
   "outputs": [
    {
     "data": {
      "text/html": [
       "<div>\n",
       "<style scoped>\n",
       "    .dataframe tbody tr th:only-of-type {\n",
       "        vertical-align: middle;\n",
       "    }\n",
       "\n",
       "    .dataframe tbody tr th {\n",
       "        vertical-align: top;\n",
       "    }\n",
       "\n",
       "    .dataframe thead th {\n",
       "        text-align: right;\n",
       "    }\n",
       "</style>\n",
       "<table border=\"1\" class=\"dataframe\">\n",
       "  <thead>\n",
       "    <tr style=\"text-align: right;\">\n",
       "      <th></th>\n",
       "      <th>INSURANCE</th>\n",
       "      <th>ETHNICITY</th>\n",
       "      <th>90DAYREADM</th>\n",
       "      <th>GENDER</th>\n",
       "      <th>LOS</th>\n",
       "      <th>ED_6HRS</th>\n",
       "      <th>MARITAL_STATUS</th>\n",
       "      <th>AGE</th>\n",
       "    </tr>\n",
       "  </thead>\n",
       "  <tbody>\n",
       "    <tr>\n",
       "      <th>0</th>\n",
       "      <td>Government</td>\n",
       "      <td>WHITE</td>\n",
       "      <td>0</td>\n",
       "      <td>F</td>\n",
       "      <td>5.0</td>\n",
       "      <td>0.0</td>\n",
       "      <td>WIDOWED OR SEPARATED</td>\n",
       "      <td>85.0</td>\n",
       "    </tr>\n",
       "    <tr>\n",
       "      <th>1</th>\n",
       "      <td>Government</td>\n",
       "      <td>BLACK</td>\n",
       "      <td>0</td>\n",
       "      <td>M</td>\n",
       "      <td>3.0</td>\n",
       "      <td>1.0</td>\n",
       "      <td>WIDOWED OR SEPARATED</td>\n",
       "      <td>63.0</td>\n",
       "    </tr>\n",
       "    <tr>\n",
       "      <th>2</th>\n",
       "      <td>Private or Self Pay</td>\n",
       "      <td>WHITE</td>\n",
       "      <td>0</td>\n",
       "      <td>F</td>\n",
       "      <td>31.0</td>\n",
       "      <td>0.0</td>\n",
       "      <td>SINGLE</td>\n",
       "      <td>21.0</td>\n",
       "    </tr>\n",
       "    <tr>\n",
       "      <th>3</th>\n",
       "      <td>Government</td>\n",
       "      <td>WHITE</td>\n",
       "      <td>1</td>\n",
       "      <td>F</td>\n",
       "      <td>9.0</td>\n",
       "      <td>1.0</td>\n",
       "      <td>PARTNERED</td>\n",
       "      <td>75.0</td>\n",
       "    </tr>\n",
       "    <tr>\n",
       "      <th>4</th>\n",
       "      <td>Private or Self Pay</td>\n",
       "      <td>WHITE</td>\n",
       "      <td>0</td>\n",
       "      <td>F</td>\n",
       "      <td>4.0</td>\n",
       "      <td>NaN</td>\n",
       "      <td>PARTNERED</td>\n",
       "      <td>63.0</td>\n",
       "    </tr>\n",
       "    <tr>\n",
       "      <th>5</th>\n",
       "      <td>Government</td>\n",
       "      <td>WHITE</td>\n",
       "      <td>0</td>\n",
       "      <td>M</td>\n",
       "      <td>10.0</td>\n",
       "      <td>0.0</td>\n",
       "      <td>WIDOWED OR SEPARATED</td>\n",
       "      <td>86.0</td>\n",
       "    </tr>\n",
       "    <tr>\n",
       "      <th>6</th>\n",
       "      <td>Government</td>\n",
       "      <td>WHITE</td>\n",
       "      <td>0</td>\n",
       "      <td>M</td>\n",
       "      <td>3.0</td>\n",
       "      <td>0.0</td>\n",
       "      <td>WIDOWED OR SEPARATED</td>\n",
       "      <td>NaN</td>\n",
       "    </tr>\n",
       "    <tr>\n",
       "      <th>7</th>\n",
       "      <td>Private or Self Pay</td>\n",
       "      <td>NaN</td>\n",
       "      <td>0</td>\n",
       "      <td>M</td>\n",
       "      <td>3.0</td>\n",
       "      <td>NaN</td>\n",
       "      <td>NaN</td>\n",
       "      <td>NaN</td>\n",
       "    </tr>\n",
       "    <tr>\n",
       "      <th>8</th>\n",
       "      <td>Government</td>\n",
       "      <td>WHITE</td>\n",
       "      <td>0</td>\n",
       "      <td>F</td>\n",
       "      <td>6.0</td>\n",
       "      <td>0.0</td>\n",
       "      <td>PARTNERED</td>\n",
       "      <td>80.0</td>\n",
       "    </tr>\n",
       "    <tr>\n",
       "      <th>9</th>\n",
       "      <td>Government</td>\n",
       "      <td>WHITE</td>\n",
       "      <td>0</td>\n",
       "      <td>F</td>\n",
       "      <td>10.0</td>\n",
       "      <td>0.0</td>\n",
       "      <td>WIDOWED OR SEPARATED</td>\n",
       "      <td>44.0</td>\n",
       "    </tr>\n",
       "  </tbody>\n",
       "</table>\n",
       "</div>"
      ],
      "text/plain": [
       "             INSURANCE ETHNICITY  90DAYREADM GENDER   LOS  ED_6HRS  \\\n",
       "0           Government     WHITE           0      F   5.0      0.0   \n",
       "1           Government     BLACK           0      M   3.0      1.0   \n",
       "2  Private or Self Pay     WHITE           0      F  31.0      0.0   \n",
       "3           Government     WHITE           1      F   9.0      1.0   \n",
       "4  Private or Self Pay     WHITE           0      F   4.0      NaN   \n",
       "5           Government     WHITE           0      M  10.0      0.0   \n",
       "6           Government     WHITE           0      M   3.0      0.0   \n",
       "7  Private or Self Pay       NaN           0      M   3.0      NaN   \n",
       "8           Government     WHITE           0      F   6.0      0.0   \n",
       "9           Government     WHITE           0      F  10.0      0.0   \n",
       "\n",
       "         MARITAL_STATUS   AGE  \n",
       "0  WIDOWED OR SEPARATED  85.0  \n",
       "1  WIDOWED OR SEPARATED  63.0  \n",
       "2                SINGLE  21.0  \n",
       "3             PARTNERED  75.0  \n",
       "4             PARTNERED  63.0  \n",
       "5  WIDOWED OR SEPARATED  86.0  \n",
       "6  WIDOWED OR SEPARATED   NaN  \n",
       "7                   NaN   NaN  \n",
       "8             PARTNERED  80.0  \n",
       "9  WIDOWED OR SEPARATED  44.0  "
      ]
     },
     "execution_count": 44,
     "metadata": {},
     "output_type": "execute_result"
    }
   ],
   "source": [
    "# View final table\n",
    "final_df.head(10)"
   ]
  },
  {
   "cell_type": "code",
   "execution_count": 45,
   "id": "38ef0b9b",
   "metadata": {},
   "outputs": [
    {
     "data": {
      "text/plain": [
       "INSURANCE            0\n",
       "ETHNICITY         3082\n",
       "90DAYREADM           0\n",
       "GENDER               0\n",
       "LOS                  0\n",
       "ED_6HRS           8578\n",
       "MARITAL_STATUS    1882\n",
       "AGE               1672\n",
       "dtype: int64"
      ]
     },
     "execution_count": 45,
     "metadata": {},
     "output_type": "execute_result"
    }
   ],
   "source": [
    "# Assess missingness\n",
    "final_df.isna().sum()"
   ]
  },
  {
   "cell_type": "code",
   "execution_count": 46,
   "id": "259abaac",
   "metadata": {},
   "outputs": [],
   "source": [
    "# Save final table as CSV\n",
    "final_df.to_csv(mimic_dir + \"processed.csv\", index=False)"
   ]
  },
  {
   "cell_type": "markdown",
   "id": "500faf98",
   "metadata": {},
   "source": [
    "## Create random samples"
   ]
  },
  {
   "cell_type": "code",
   "execution_count": 47,
   "id": "990d265f",
   "metadata": {},
   "outputs": [
    {
     "name": "stderr",
     "output_type": "stream",
     "text": [
      "100%|█████████████████████████████████████████████| 5/5 [00:00<00:00, 26.13it/s]\n"
     ]
    }
   ],
   "source": [
    "# Sample size to be constructed\n",
    "Ns = [20000, 10000, 5000, 2000, 1000]\n",
    "\n",
    "# Set random seed\n",
    "SEED = 2023\n",
    "\n",
    "# Construct random samples\n",
    "for n in tqdm(Ns):\n",
    "    sampled_df = final_df.sample(n, replace=False, random_state=SEED)\n",
    "    sampled_df.to_csv(mimic_dir + \"processed{}.csv\".format(n), index=False)"
   ]
  }
 ],
 "metadata": {
  "kernelspec": {
   "display_name": "Python (venv)",
   "language": "python",
   "name": "env"
  },
  "language_info": {
   "codemirror_mode": {
    "name": "ipython",
    "version": 3
   },
   "file_extension": ".py",
   "mimetype": "text/x-python",
   "name": "python",
   "nbconvert_exporter": "python",
   "pygments_lexer": "ipython3",
   "version": "3.9.7"
  }
 },
 "nbformat": 4,
 "nbformat_minor": 5
}
