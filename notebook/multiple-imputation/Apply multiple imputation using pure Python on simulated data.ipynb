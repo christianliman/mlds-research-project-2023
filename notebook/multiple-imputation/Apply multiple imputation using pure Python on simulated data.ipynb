{
 "cells": [
  {
   "cell_type": "code",
   "execution_count": 1,
   "id": "42436bfa",
   "metadata": {},
   "outputs": [],
   "source": [
    "# Import libraries\n",
    "import pandas as pd\n",
    "import numpy as np\n",
    "import matplotlib.pyplot as plt\n",
    "import seaborn as sns\n",
    "import statsmodels.api as sm\n",
    "import copy\n",
    "import shap\n",
    "import pickle\n",
    "import os\n",
    "\n",
    "from scipy import linalg\n",
    "from scipy.special import expit\n",
    "from scipy import stats\n",
    "from tqdm import tqdm\n",
    "from matplotlib import cm\n",
    "from sklearn.base import TransformerMixin, ClassifierMixin\n",
    "from sklearn.ensemble import RandomForestClassifier, GradientBoostingClassifier\n",
    "from sklearn.model_selection import KFold\n",
    "from sklearn.metrics import (roc_auc_score, f1_score, precision_score, recall_score, \n",
    "                             RocCurveDisplay, PrecisionRecallDisplay)\n",
    "from pandas.api.types import CategoricalDtype"
   ]
  },
  {
   "cell_type": "code",
   "execution_count": 2,
   "id": "9cc1b04c",
   "metadata": {},
   "outputs": [],
   "source": [
    "# Import MICE functions\n",
    "from mice_functions import *"
   ]
  },
  {
   "cell_type": "markdown",
   "id": "36cb0f46",
   "metadata": {},
   "source": [
    "## Load incomplete dataset"
   ]
  },
  {
   "cell_type": "code",
   "execution_count": 3,
   "id": "e628f27d",
   "metadata": {},
   "outputs": [],
   "source": [
    "# Load incomplete dataset\n",
    "props_name = [10, 20, 30, 40, 50]\n",
    "boston_path = \"../../data/toy-dataset/boston-processed/\"\n",
    "biopsy_path = \"../../data/toy-dataset/biopsy-processed/\"\n",
    "\n",
    "# Starting with boston dataset\n",
    "boston_incomp = {}\n",
    "for p in props_name:\n",
    "    boston_incomp[p] = pd.read_csv(boston_path + \"boston_{}.csv\".format(p))\n",
    "\n",
    "\n",
    "# Followed by biopsy dataset\n",
    "biopsy_incomp = {}\n",
    "for p in props_name:\n",
    "    biopsy_incomp[p] = pd.read_csv(biopsy_path + \"biopsy_{}.csv\".format(p))"
   ]
  },
  {
   "cell_type": "code",
   "execution_count": 4,
   "id": "b5f90365",
   "metadata": {},
   "outputs": [],
   "source": [
    "# List down target variables for imputation\n",
    "boston_targets_cat = [\"chas\"]\n",
    "boston_targets_num = [\"nox\"]\n",
    "\n",
    "biopsy_targets_cat = []\n",
    "biopsy_targets_num = [\"V1\", \"V2\", \"V3\"]"
   ]
  },
  {
   "cell_type": "markdown",
   "id": "a649b3d6",
   "metadata": {},
   "source": [
    "## Apply MICE algorithm\n",
    "### General setup"
   ]
  },
  {
   "cell_type": "code",
   "execution_count": 5,
   "id": "1cbc155f",
   "metadata": {},
   "outputs": [],
   "source": [
    "# Select imputation models\n",
    "method_cat = \"pmm\"\n",
    "method_num = \"pmm\"\n",
    "\n",
    "# Set number of imputations and maximum number of iteration\n",
    "maxit = 40\n",
    "m = 20\n",
    "\n",
    "# Set number of donors for PMM\n",
    "d = 10\n",
    "\n",
    "# Set random seed\n",
    "SEED = 2023\n",
    "\n",
    "# Path to store any plots assessing convergence\n",
    "conv_path = \"../../results/figures/python_convergence/\"\n",
    "if not os.path.exists(conv_path):\n",
    "    os.mkdir(conv_path)"
   ]
  },
  {
   "cell_type": "markdown",
   "id": "0fc0ea5a",
   "metadata": {},
   "source": [
    "### `boston` dataset"
   ]
  },
  {
   "cell_type": "code",
   "execution_count": 6,
   "id": "b62d6257",
   "metadata": {},
   "outputs": [
    {
     "name": "stdout",
     "output_type": "stream",
     "text": [
      "Applying on dataset 10\n"
     ]
    },
    {
     "name": "stderr",
     "output_type": "stream",
     "text": [
      "100%|███████████████████████████████████████████| 40/40 [00:06<00:00,  6.32it/s]\n"
     ]
    },
    {
     "name": "stdout",
     "output_type": "stream",
     "text": [
      "Applying on dataset 20\n"
     ]
    },
    {
     "name": "stderr",
     "output_type": "stream",
     "text": [
      "100%|███████████████████████████████████████████| 40/40 [00:07<00:00,  5.09it/s]\n"
     ]
    },
    {
     "name": "stdout",
     "output_type": "stream",
     "text": [
      "Applying on dataset 30\n"
     ]
    },
    {
     "name": "stderr",
     "output_type": "stream",
     "text": [
      "100%|███████████████████████████████████████████| 40/40 [00:08<00:00,  4.77it/s]\n"
     ]
    },
    {
     "name": "stdout",
     "output_type": "stream",
     "text": [
      "Applying on dataset 40\n"
     ]
    },
    {
     "name": "stderr",
     "output_type": "stream",
     "text": [
      "100%|███████████████████████████████████████████| 40/40 [00:08<00:00,  4.72it/s]\n"
     ]
    },
    {
     "name": "stdout",
     "output_type": "stream",
     "text": [
      "Applying on dataset 50\n"
     ]
    },
    {
     "name": "stderr",
     "output_type": "stream",
     "text": [
      "100%|███████████████████████████████████████████| 40/40 [00:09<00:00,  4.41it/s]\n"
     ]
    }
   ],
   "source": [
    "# Prevent plots from being printed\n",
    "%matplotlib agg\n",
    "\n",
    "# Prepare dictionary to store imputed data\n",
    "boston_imputed = {}\n",
    "\n",
    "for p in props_name:\n",
    "    print(\"Applying on dataset {}\".format(p))\n",
    "    \n",
    "    # Apply MICE algorithm\n",
    "    boston_imputed[p] = MICE(boston_incomp[p], boston_targets_cat, boston_targets_num, \n",
    "                             m=m, maxit=maxit, d=d, seed=SEED, \n",
    "                             method_cat=method_cat, method_num=method_num)\n",
    "    \n",
    "    # Construct trace plot\n",
    "    f = ChainStatsViz(boston_imputed[p])\n",
    "    f.savefig(conv_path + \"boston_traceplot_{}.pdf\".format(p))\n",
    "    \n",
    "    # Construct strip plots for imputed variables\n",
    "    for c in [\"chas\", \"nox\"]:\n",
    "        f = plotImputedData(boston_imputed[p], c)\n",
    "        f.savefig(conv_path + \"boston_{}_stripplot_{}.pdf\".format(c, p))\n",
    "    \n",
    "plt.clf()"
   ]
  },
  {
   "cell_type": "code",
   "execution_count": 7,
   "id": "e7771b2a",
   "metadata": {},
   "outputs": [],
   "source": [
    "# Save multiply imputed data as Python objects\n",
    "with open(boston_path + \"imputed.pickle\", \"wb\") as handle:\n",
    "    pickle.dump(boston_imputed, handle, protocol=pickle.HIGHEST_PROTOCOL)"
   ]
  },
  {
   "cell_type": "code",
   "execution_count": 8,
   "id": "a51bbd09",
   "metadata": {},
   "outputs": [
    {
     "name": "stdout",
     "output_type": "stream",
     "text": [
      "p = 0.1\n",
      "Posterior median for mu = [0.02777778 0.62842857]\n",
      "Posterior median for sigma = [0.11785113 0.07429757]\n",
      "p = 0.2\n",
      "Posterior median for mu = [0.3902439  0.62602778]\n",
      "Posterior median for sigma = [0.49321571 0.05346983]\n",
      "p = 0.3\n",
      "Posterior median for mu = [0.28461538 0.60459145]\n",
      "Posterior median for sigma = [0.43011613 0.06085357]\n",
      "p = 0.4\n",
      "Posterior median for mu = [0.42708333 0.62543764]\n",
      "Posterior median for sigma = [0.49548083 0.07857837]\n",
      "p = 0.5\n",
      "Posterior median for mu = [0.08333333 0.54083024]\n",
      "Posterior median for sigma = [0.27713021 0.05057828]\n"
     ]
    }
   ],
   "source": [
    "# Retrieve chain statistics from last iteration for the report\n",
    "for p in props_name:\n",
    "    print(\"p = {}\".format(p / 100))\n",
    "    tempmu = np.median(boston_imputed[p][\"chainmean\"][3:5, :, -1], axis=1)\n",
    "    print(\"Posterior median for mu = {}\".format(tempmu))\n",
    "    tempsig = np.median(boston_imputed[p][\"chainstd\"][3:5, :, -1], axis=1)\n",
    "    print(\"Posterior median for sigma = {}\".format(tempsig))"
   ]
  },
  {
   "cell_type": "markdown",
   "id": "767f9bad",
   "metadata": {},
   "source": [
    "### `biopsy` dataset"
   ]
  },
  {
   "cell_type": "code",
   "execution_count": 9,
   "id": "81edca1a",
   "metadata": {},
   "outputs": [
    {
     "name": "stdout",
     "output_type": "stream",
     "text": [
      "Applying on dataset 10\n"
     ]
    },
    {
     "name": "stderr",
     "output_type": "stream",
     "text": [
      "100%|███████████████████████████████████████████| 40/40 [00:09<00:00,  4.18it/s]\n"
     ]
    },
    {
     "name": "stdout",
     "output_type": "stream",
     "text": [
      "Applying on dataset 20\n"
     ]
    },
    {
     "name": "stderr",
     "output_type": "stream",
     "text": [
      "100%|███████████████████████████████████████████| 40/40 [00:12<00:00,  3.19it/s]\n",
      "More than 20 figures have been opened. Figures created through the pyplot interface (`matplotlib.pyplot.figure`) are retained until explicitly closed and may consume too much memory. (To control this warning, see the rcParam `figure.max_open_warning`). Consider using `matplotlib.pyplot.close()`.\n"
     ]
    },
    {
     "name": "stdout",
     "output_type": "stream",
     "text": [
      "Applying on dataset 30\n"
     ]
    },
    {
     "name": "stderr",
     "output_type": "stream",
     "text": [
      "100%|███████████████████████████████████████████| 40/40 [00:15<00:00,  2.56it/s]\n"
     ]
    },
    {
     "name": "stdout",
     "output_type": "stream",
     "text": [
      "Applying on dataset 40\n"
     ]
    },
    {
     "name": "stderr",
     "output_type": "stream",
     "text": [
      "100%|███████████████████████████████████████████| 40/40 [00:17<00:00,  2.33it/s]\n"
     ]
    },
    {
     "name": "stdout",
     "output_type": "stream",
     "text": [
      "Applying on dataset 50\n"
     ]
    },
    {
     "name": "stderr",
     "output_type": "stream",
     "text": [
      "100%|███████████████████████████████████████████| 40/40 [00:18<00:00,  2.15it/s]\n"
     ]
    }
   ],
   "source": [
    "# Prepare dictionary to store imputed data\n",
    "biopsy_imputed = {}\n",
    "\n",
    "for p in props_name:\n",
    "    print(\"Applying on dataset {}\".format(p))\n",
    "    \n",
    "    # Apply MICE algorithm\n",
    "    biopsy_imputed[p] = MICE(biopsy_incomp[p], biopsy_targets_cat, biopsy_targets_num, \n",
    "                             m=m, maxit=maxit, d=d, seed=SEED, \n",
    "                             method_cat=method_cat, method_num=method_num)\n",
    "    \n",
    "    # Construct trace plot\n",
    "    f = ChainStatsViz(biopsy_imputed[p])\n",
    "    f.savefig(conv_path + \"biopsy_traceplot_{}.pdf\".format(p))\n",
    "    \n",
    "    # Construct strip plots for imputed variables\n",
    "    for c in [\"V1\", \"V2\", \"V3\"]:\n",
    "        f = plotImputedData(biopsy_imputed[p], c)\n",
    "        f.savefig(conv_path + \"biopsy_{}_stripplot_{}.pdf\".format(c, p))\n",
    "\n",
    "plt.clf()"
   ]
  },
  {
   "cell_type": "code",
   "execution_count": 10,
   "id": "bc9d546c",
   "metadata": {},
   "outputs": [],
   "source": [
    "# Save multiply imputed data as Python objects\n",
    "with open(biopsy_path + \"imputed.pickle\", \"wb\") as handle:\n",
    "    pickle.dump(biopsy_imputed, handle, protocol=pickle.HIGHEST_PROTOCOL)"
   ]
  },
  {
   "cell_type": "code",
   "execution_count": 11,
   "id": "b900c509",
   "metadata": {},
   "outputs": [
    {
     "name": "stdout",
     "output_type": "stream",
     "text": [
      "p = 0.1\n",
      "Posterior median for mu = [5.75609756 6.73333333 6.8       ]\n",
      "Posterior median for sigma = [2.59290432 3.34182826 3.1607711 ]\n",
      "p = 0.2\n",
      "Posterior median for mu = [5.27840909 6.51694915 5.81034483]\n",
      "Posterior median for sigma = [2.62672532 3.41037843 3.14369217]\n",
      "p = 0.3\n",
      "Posterior median for mu = [5.79666667 5.09313725 5.23170732]\n",
      "Posterior median for sigma = [2.65738157 3.31962237 3.3730435 ]\n",
      "p = 0.4\n",
      "Posterior median for mu = [5.37317073 4.97887324 4.63709677]\n",
      "Posterior median for sigma = [2.78678406 3.38362276 3.35905728]\n",
      "p = 0.5\n",
      "Posterior median for mu = [5.24163569 4.3681592  4.71621622]\n",
      "Posterior median for sigma = [2.79340875 3.46671725 3.45770214]\n"
     ]
    }
   ],
   "source": [
    "# Retrieve chain statistics from last iteration for the report\n",
    "for p in props_name:\n",
    "    print(\"p = {}\".format(p / 100))\n",
    "    tempmu = np.median(biopsy_imputed[p][\"chainmean\"][:3, :, -1], axis=1)\n",
    "    print(\"Posterior median for mu = {}\".format(tempmu))\n",
    "    tempsig = np.median(biopsy_imputed[p][\"chainstd\"][:3, :, -1], axis=1)\n",
    "    print(\"Posterior median for sigma = {}\".format(tempsig))"
   ]
  },
  {
   "cell_type": "markdown",
   "id": "7aae6154",
   "metadata": {},
   "source": [
    "## Apply complete case analysis\n",
    "\n",
    "### `boston` dataset"
   ]
  },
  {
   "cell_type": "code",
   "execution_count": 10,
   "id": "719eace8",
   "metadata": {},
   "outputs": [
    {
     "name": "stderr",
     "output_type": "stream",
     "text": [
      "100%|████████████████████████████████████████████| 5/5 [00:00<00:00, 933.73it/s]"
     ]
    },
    {
     "name": "stdout",
     "output_type": "stream",
     "text": [
      "Proportion = 0.1. Dimension of complete case data = (467, 13)\n",
      "Proportion = 0.2. Dimension of complete case data = (411, 13)\n",
      "Proportion = 0.3. Dimension of complete case data = (365, 13)\n",
      "Proportion = 0.4. Dimension of complete case data = (321, 13)\n",
      "Proportion = 0.5. Dimension of complete case data = (262, 13)\n"
     ]
    },
    {
     "name": "stderr",
     "output_type": "stream",
     "text": [
      "\n"
     ]
    }
   ],
   "source": [
    "# Prepare dictionary to store complete case data\n",
    "boston_cc = {}\n",
    "\n",
    "for p in tqdm(props_name):\n",
    "    # Apply complete case analysis on each dataset\n",
    "    boston_cc[p] = boston_incomp[p].dropna()\n",
    "    print(\"Proportion = {}. Dimension of complete case data = {}\".format(\n",
    "        p/100, boston_cc[p].shape))"
   ]
  },
  {
   "cell_type": "code",
   "execution_count": 11,
   "id": "3731b883",
   "metadata": {},
   "outputs": [],
   "source": [
    "# Create directory if not present yet\n",
    "boston_cc_path = \"../../data/toy-dataset/boston-complete-case/\"\n",
    "if not os.path.exists(boston_cc_path):\n",
    "    os.mkdir(boston_cc_path)\n",
    "\n",
    "# Store complete case data\n",
    "for p in props_name:\n",
    "    boston_cc[p].to_csv(boston_cc_path + \"boston_{}.csv\".format(p), \n",
    "                        index=False)"
   ]
  },
  {
   "cell_type": "markdown",
   "id": "3509864c",
   "metadata": {},
   "source": [
    "### `biopsy` dataset"
   ]
  },
  {
   "cell_type": "code",
   "execution_count": 12,
   "id": "f8965f6f",
   "metadata": {},
   "outputs": [
    {
     "name": "stderr",
     "output_type": "stream",
     "text": [
      "100%|███████████████████████████████████████████| 5/5 [00:00<00:00, 1159.61it/s]"
     ]
    },
    {
     "name": "stdout",
     "output_type": "stream",
     "text": [
      "Proportion = 0.1. Dimension of complete case data = (642, 9)\n",
      "Proportion = 0.2. Dimension of complete case data = (583, 9)\n",
      "Proportion = 0.3. Dimension of complete case data = (510, 9)\n",
      "Proportion = 0.4. Dimension of complete case data = (432, 9)\n",
      "Proportion = 0.5. Dimension of complete case data = (338, 9)\n"
     ]
    },
    {
     "name": "stderr",
     "output_type": "stream",
     "text": [
      "\n"
     ]
    }
   ],
   "source": [
    "# Prepare dictionary to store complete case data\n",
    "biopsy_cc = {}\n",
    "\n",
    "for p in tqdm(props_name):\n",
    "    # Apply complete case analysis on each dataset\n",
    "    biopsy_cc[p] = biopsy_incomp[p].dropna()\n",
    "    print(\"Proportion = {}. Dimension of complete case data = {}\".format(\n",
    "        p/100, biopsy_cc[p].shape))"
   ]
  },
  {
   "cell_type": "code",
   "execution_count": 13,
   "id": "d36d7c1e",
   "metadata": {},
   "outputs": [],
   "source": [
    "# Create directory if not present yet\n",
    "biopsy_cc_path = \"../../data/toy-dataset/biopsy-complete-case/\"\n",
    "if not os.path.exists(biopsy_cc_path):\n",
    "    os.mkdir(biopsy_cc_path)\n",
    "\n",
    "# Store complete case data\n",
    "for p in props_name:\n",
    "    biopsy_cc[p].to_csv(biopsy_cc_path + \"biopsy_{}.csv\".format(p), \n",
    "                        index=False)"
   ]
  }
 ],
 "metadata": {
  "kernelspec": {
   "display_name": "Python (venv)",
   "language": "python",
   "name": "env"
  },
  "language_info": {
   "codemirror_mode": {
    "name": "ipython",
    "version": 3
   },
   "file_extension": ".py",
   "mimetype": "text/x-python",
   "name": "python",
   "nbconvert_exporter": "python",
   "pygments_lexer": "ipython3",
   "version": "3.9.7"
  }
 },
 "nbformat": 4,
 "nbformat_minor": 5
}
