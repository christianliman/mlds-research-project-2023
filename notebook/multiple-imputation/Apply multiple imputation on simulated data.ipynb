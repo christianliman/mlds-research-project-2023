{
 "cells": [
  {
   "cell_type": "code",
   "execution_count": null,
   "id": "2e70e57e",
   "metadata": {},
   "outputs": [],
   "source": [
    "# Import libraries\n",
    "import pandas as pd\n",
    "import numpy as np\n",
    "import matplotlib.pyplot as plt\n",
    "import seaborn as sns\n",
    "import statsmodels.api as sm\n",
    "import copy\n",
    "import shap\n",
    "import pickle\n",
    "\n",
    "from scipy import linalg\n",
    "from scipy.special import expit\n",
    "from scipy import stats\n",
    "from tqdm import tqdm\n",
    "from matplotlib import cm\n",
    "from sklearn.base import TransformerMixin, ClassifierMixin\n",
    "from sklearn.ensemble import RandomForestClassifier, GradientBoostingClassifier\n",
    "from sklearn.model_selection import KFold\n",
    "from sklearn.metrics import (roc_auc_score, f1_score, precision_score, recall_score, \n",
    "                             RocCurveDisplay, PrecisionRecallDisplay)\n",
    "from pandas.api.types import CategoricalDtype"
   ]
  },
  {
   "cell_type": "code",
   "execution_count": null,
   "id": "8885f564",
   "metadata": {},
   "outputs": [],
   "source": [
    "# Import MICE functions\n",
    "from mice_functions import *"
   ]
  },
  {
   "cell_type": "markdown",
   "id": "914a0524",
   "metadata": {},
   "source": [
    "## Load incomplete dataset"
   ]
  },
  {
   "cell_type": "code",
   "execution_count": null,
   "id": "d63edd12",
   "metadata": {},
   "outputs": [],
   "source": [
    "# Load incomplete dataset\n",
    "props_name = [10, 20, 30, 40, 50]\n",
    "boston_path = \"../../data/toy-dataset/boston-processed/\"\n",
    "biopsy_path = \"../../data/toy-dataset/biopsy-processed/\"\n",
    "\n",
    "# Starting with boston dataset\n",
    "boston_incomp = {}\n",
    "for p in props_name:\n",
    "    boston_incomp[p] = pd.read_csv(boston_path + \"boston_{}.csv\".format(p))\n",
    "\n",
    "\n",
    "# Followed by biopsy dataset\n",
    "biopsy_incomp = {}\n",
    "for p in props_name:\n",
    "    biopsy_incomp[p] = pd.read_csv(biopsy_path + \"biopsy_{}.csv\".format(p))"
   ]
  },
  {
   "cell_type": "code",
   "execution_count": null,
   "id": "f27f7c9a",
   "metadata": {},
   "outputs": [],
   "source": [
    "# List down target variables for imputation\n",
    "boston_targets_cat = [\"chas\"]\n",
    "boston_targets_num = [\"nox\"]\n",
    "\n",
    "biopsy_targets_cat = []\n",
    "biopsy_targets_num = [\"V1\", \"V2\", \"V3\"]"
   ]
  },
  {
   "cell_type": "markdown",
   "id": "6f4ccc5e",
   "metadata": {},
   "source": [
    "## Apply MICE algorithm\n",
    "### General setup"
   ]
  },
  {
   "cell_type": "code",
   "execution_count": null,
   "id": "c7966eaf",
   "metadata": {},
   "outputs": [],
   "source": [
    "# Select imputation models\n",
    "method_cat = \"bayes\"\n",
    "method_num = \"pmm\"\n",
    "\n",
    "# Set number of imputations and maximum number of iteration\n",
    "maxit = 10\n",
    "m = 20\n",
    "\n",
    "# Set number of donors for PMM\n",
    "d = 5\n",
    "\n",
    "# Set random seed\n",
    "SEED = 2023"
   ]
  },
  {
   "cell_type": "markdown",
   "id": "239057f8",
   "metadata": {},
   "source": [
    "### `boston` dataset"
   ]
  },
  {
   "cell_type": "code",
   "execution_count": null,
   "id": "c159c325",
   "metadata": {},
   "outputs": [],
   "source": [
    "# Apply MICE on boston dataset\n",
    "boston_imputed = {}\n",
    "\n",
    "for p in props:\n",
    "    boston_imputed[p] = MICE(boston_incomp[p], boston_targets_cat, boston_targets_num, \n",
    "                             m=m, maxit=maxit, d=d, seed=SEED, \n",
    "                             method_cat=method_cat, method_num=method_num)"
   ]
  },
  {
   "cell_type": "code",
   "execution_count": null,
   "id": "3ef3a71e",
   "metadata": {},
   "outputs": [],
   "source": [
    "# Save multiply imputed data as Python objects\n",
    "with open(boston_path + \"imputed.pickle\", \"wb\") as handle:\n",
    "    pickle.dump(boston_imputed, handle, protocol=pickle.HIGHEST_PROTOCOL)"
   ]
  },
  {
   "cell_type": "markdown",
   "id": "cc4d15e9",
   "metadata": {},
   "source": [
    "### `biopsy` dataset"
   ]
  },
  {
   "cell_type": "code",
   "execution_count": null,
   "id": "4170a115",
   "metadata": {},
   "outputs": [],
   "source": [
    "# Apply MICE on biopsy dataset\n",
    "biopsy_imputed = {}\n",
    "\n",
    "for p in props:\n",
    "    biopsy_imputed[p] = MICE(biopsy_incomp[p], biopsy_targets_cat, biopsy_targets_num, \n",
    "                             m=m, maxit=maxit, d=d, seed=SEED, \n",
    "                             method_cat=method_cat, method_num=method_num)"
   ]
  },
  {
   "cell_type": "code",
   "execution_count": null,
   "id": "8b0a0751",
   "metadata": {},
   "outputs": [],
   "source": [
    "# Save multiply imputed data as Python objects\n",
    "with open(biopsy_path + \"imputed.pickle\", \"wb\") as handle:\n",
    "    pickle.dump(biopsy_imputed, handle, protocol=pickle.HIGHEST_PROTOCOL)"
   ]
  },
  {
   "cell_type": "markdown",
   "id": "f8c7eee6",
   "metadata": {},
   "source": [
    "## Apply complete case analysis\n",
    "\n",
    "### `boston` dataset"
   ]
  },
  {
   "cell_type": "code",
   "execution_count": null,
   "id": "17bf9186",
   "metadata": {},
   "outputs": [],
   "source": [
    "# Apply complete case analysis on each dataset\n",
    "boston_cc = {}\n",
    "\n",
    "for p in props:\n",
    "    boston_cc[p] = boston_incomp[p].dropna()\n",
    "    print(\"Proportion = {}. Dimension of complete case data = {}\".format(\n",
    "        p/100, boston_cc[p].shape))"
   ]
  },
  {
   "cell_type": "code",
   "execution_count": null,
   "id": "6b3c1be0",
   "metadata": {},
   "outputs": [],
   "source": [
    "# Create directory if not present yet\n",
    "boston_cc_path = \"../../data/toy-dataset/boston-complete-case/\"\n",
    "if not os.path.exists(boston_cc_path):\n",
    "    os.mkdir(boston_cc_path)\n",
    "\n",
    "# Store complete case data\n",
    "for p in props:\n",
    "    boston_cc[p].to_csv(boston_cc_path + \"boston_{}.csv\".format(int(p * 100)), \n",
    "                        index=False)"
   ]
  },
  {
   "cell_type": "markdown",
   "id": "f11a84c5",
   "metadata": {},
   "source": [
    "### `biopsy` dataset"
   ]
  },
  {
   "cell_type": "code",
   "execution_count": null,
   "id": "573aa80f",
   "metadata": {},
   "outputs": [],
   "source": [
    "# Apply complete case analysis on each dataset\n",
    "biopsy_cc = {}\n",
    "\n",
    "for p in props:\n",
    "    biopsy_cc[p] = biopsy_incomp[p].dropna()\n",
    "    print(\"Proportion = {}. Dimension of complete case data = {}\".format(\n",
    "        p/100, biopsy_cc[p].shape))"
   ]
  },
  {
   "cell_type": "code",
   "execution_count": null,
   "id": "f16887e1",
   "metadata": {},
   "outputs": [],
   "source": [
    "# Create directory if not present yet\n",
    "biopsy_cc_path = \"../../data/toy-dataset/biopsy-complete-case/\"\n",
    "if not os.path.exists(biopsy_cc_path):\n",
    "    os.mkdir(biopsy_cc_path)\n",
    "\n",
    "# Store complete case data\n",
    "for p in props:\n",
    "    biopsy_cc[p].to_csv(biopsy_cc_path + \"biopsy_{}.csv\".format(int(p * 100)), \n",
    "                        index=False)"
   ]
  }
 ],
 "metadata": {
  "kernelspec": {
   "display_name": "Python (venv)",
   "language": "python",
   "name": "env"
  },
  "language_info": {
   "codemirror_mode": {
    "name": "ipython",
    "version": 3
   },
   "file_extension": ".py",
   "mimetype": "text/x-python",
   "name": "python",
   "nbconvert_exporter": "python",
   "pygments_lexer": "ipython3",
   "version": "3.9.7"
  }
 },
 "nbformat": 4,
 "nbformat_minor": 5
}
