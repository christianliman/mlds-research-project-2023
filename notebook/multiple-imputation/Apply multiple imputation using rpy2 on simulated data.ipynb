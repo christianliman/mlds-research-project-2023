{
 "cells": [
  {
   "cell_type": "code",
   "execution_count": 1,
   "id": "b29c18b6",
   "metadata": {},
   "outputs": [],
   "source": [
    "# Import libraries\n",
    "import pandas as pd\n",
    "import numpy as np\n",
    "import matplotlib.pyplot as plt\n",
    "import seaborn as sns\n",
    "import statsmodels.api as sm\n",
    "import copy\n",
    "import shap\n",
    "import pickle\n",
    "import os\n",
    "\n",
    "from scipy import linalg\n",
    "from scipy.special import expit\n",
    "from scipy import stats\n",
    "from tqdm import tqdm\n",
    "from matplotlib import cm\n",
    "from sklearn.base import TransformerMixin, ClassifierMixin\n",
    "from sklearn.ensemble import RandomForestClassifier, GradientBoostingClassifier\n",
    "from sklearn.model_selection import KFold\n",
    "from sklearn.metrics import (roc_auc_score, f1_score, precision_score, recall_score, \n",
    "                             RocCurveDisplay, PrecisionRecallDisplay)\n",
    "from pandas.api.types import CategoricalDtype"
   ]
  },
  {
   "cell_type": "code",
   "execution_count": 2,
   "id": "a91f123e",
   "metadata": {},
   "outputs": [],
   "source": [
    "# Import libraries to interface with R\n",
    "import rpy2\n",
    "import rpy2.robjects as robjects\n",
    "from rpy2.robjects.conversion import localconverter\n",
    "from rpy2.robjects.packages import importr\n",
    "from rpy2.robjects import pandas2ri\n",
    "from IPython.display import Image, display"
   ]
  },
  {
   "cell_type": "code",
   "execution_count": 3,
   "id": "54654033",
   "metadata": {},
   "outputs": [],
   "source": [
    "# Load relevant R packages\n",
    "base = importr(\"base\")\n",
    "rstats = importr(\"stats\")\n",
    "mice = importr(\"mice\")\n",
    "grdevices = importr(\"grDevices\")"
   ]
  },
  {
   "cell_type": "markdown",
   "id": "61702a05",
   "metadata": {},
   "source": [
    "## Load incomplete dataset"
   ]
  },
  {
   "cell_type": "code",
   "execution_count": 4,
   "id": "6aa501fb",
   "metadata": {},
   "outputs": [],
   "source": [
    "# Load incomplete dataset\n",
    "props_name = [10, 20, 30, 40, 50]\n",
    "boston_path = \"../../data/toy-dataset/boston-processed/\"\n",
    "biopsy_path = \"../../data/toy-dataset/biopsy-processed/\"\n",
    "\n",
    "# Starting with boston dataset\n",
    "boston_incomp = {}\n",
    "for p in props_name:\n",
    "    boston_incomp[p] = pd.read_csv(boston_path + \"boston_{}.csv\".format(p))\n",
    "\n",
    "\n",
    "# Followed by biopsy dataset\n",
    "biopsy_incomp = {}\n",
    "for p in props_name:\n",
    "    biopsy_incomp[p] = pd.read_csv(biopsy_path + \"biopsy_{}.csv\".format(p))"
   ]
  },
  {
   "cell_type": "code",
   "execution_count": 5,
   "id": "f32587bd",
   "metadata": {},
   "outputs": [],
   "source": [
    "# Convert data frames into R objects\n",
    "boston_incompr = {}\n",
    "for p in props_name:\n",
    "    with localconverter(robjects.default_converter + pandas2ri.converter):\n",
    "        boston_incompr[p] = robjects.conversion.py2rpy(boston_incomp[p])\n",
    "\n",
    "biopsy_incompr = {}\n",
    "for p in props_name:\n",
    "    with localconverter(robjects.default_converter + pandas2ri.converter):\n",
    "        biopsy_incompr[p] = robjects.conversion.py2rpy(biopsy_incomp[p])"
   ]
  },
  {
   "cell_type": "code",
   "execution_count": 6,
   "id": "48af96d0",
   "metadata": {},
   "outputs": [],
   "source": [
    "# List down target variables for imputation\n",
    "boston_targets_cat = [\"chas\"]\n",
    "boston_targets_num = [\"nox\"]\n",
    "\n",
    "biopsy_targets_cat = []\n",
    "biopsy_targets_num = [\"V1\", \"V2\", \"V3\"]"
   ]
  },
  {
   "cell_type": "markdown",
   "id": "690ad456",
   "metadata": {},
   "source": [
    "## Apply MICE algorithm\n",
    "\n",
    "### General setup"
   ]
  },
  {
   "cell_type": "code",
   "execution_count": 7,
   "id": "8f74aed2",
   "metadata": {},
   "outputs": [
    {
     "name": "stdout",
     "output_type": "stream",
     "text": [
      "   crim      zn   indus    chas     nox      rm     age     dis     tax ptratio \n",
      "     \"\"      \"\"      \"\"   \"pmm\"   \"pmm\"      \"\"      \"\"      \"\"      \"\"      \"\" \n",
      "  black   lstat    medv \n",
      "     \"\"      \"\"      \"\" \n",
      "\n",
      "             V1              V2              V3              V4              V5 \n",
      "          \"pmm\"           \"pmm\"           \"pmm\"              \"\"              \"\" \n",
      "             V7              V8              V9 class_malignant \n",
      "             \"\"              \"\"              \"\"              \"\" \n",
      "\n"
     ]
    }
   ],
   "source": [
    "# Select imputation models\n",
    "# Boston dataset\n",
    "# Create a placeholder MICE model to modify the method\n",
    "temp_mice = mice.mice(boston_incompr[10], maxit=0, method=\"pmm\", print=False)\n",
    "with localconverter(robjects.default_converter + pandas2ri.converter):\n",
    "    bostonmthd = robjects.conversion.rpy2py(temp_mice.rx2(\"method\"))\n",
    "\n",
    "# Add line here if any method is to be modified\n",
    "#chas_idx = list(boston_incomp[10].columns).index(\"chas\")\n",
    "#bostonmthd[chas_idx] = \"logreg.boot\"\n",
    "print(bostonmthd)\n",
    "\n",
    "# Biopsy dataset\n",
    "# Create a placeholder MICE model to modify the method\n",
    "temp_mice = mice.mice(biopsy_incompr[10], maxit=0, method=\"pmm\", print=False)\n",
    "with localconverter(robjects.default_converter + pandas2ri.converter):\n",
    "    biopsymthd = robjects.conversion.rpy2py(temp_mice.rx2(\"method\"))\n",
    "\n",
    "# Add line here if any method is to be modified\n",
    "print(biopsymthd)\n",
    "\n",
    "# Set number of imputations and maximum number of iterations\n",
    "maxit = 40\n",
    "m = 20\n",
    "\n",
    "# Set number of donors for PMM\n",
    "d = 10\n",
    "\n",
    "# Set random seed\n",
    "SEED = 2023\n",
    "\n",
    "# Path to store any plots assessing convergence\n",
    "conv_path = \"../../results/figures/r_convergence/\"\n",
    "if not os.path.exists(conv_path):\n",
    "    os.mkdir(conv_path)"
   ]
  },
  {
   "cell_type": "markdown",
   "id": "3ed8191d",
   "metadata": {},
   "source": [
    "### `boston` dataset"
   ]
  },
  {
   "cell_type": "code",
   "execution_count": 8,
   "id": "ae6e3a22",
   "metadata": {},
   "outputs": [
    {
     "name": "stdout",
     "output_type": "stream",
     "text": [
      "Applying on dataset 10\n",
      "Applying on dataset 20\n",
      "Applying on dataset 30\n",
      "Applying on dataset 40\n",
      "Applying on dataset 50\n"
     ]
    }
   ],
   "source": [
    "# Prepare dictionary to store imputation objects from R\n",
    "boston_imputedr = {}\n",
    "\n",
    "for p in props_name:\n",
    "    print(\"Applying on dataset {}\".format(p))\n",
    "    \n",
    "    # Apply MICE algorithm\n",
    "    boston_imputedr[p] = mice.mice(boston_incompr[p], m=m, maxit=maxit, method=bostonmthd, \n",
    "                                   seed=SEED, donors=d, print=False)\n",
    "    \n",
    "    # Construct trace plot\n",
    "    grdevices.pdf(file=conv_path + \"boston_traceplot_{}.pdf\".format(p))\n",
    "    f = mice.plot_mids(boston_imputedr[p])\n",
    "    base.print(f)\n",
    "    grdevices.dev_off()\n",
    "    \n",
    "    # Construct strip plots for imputed variables\n",
    "    for c in [\"chas\", \"nox\"]:\n",
    "        # Set up image file\n",
    "        grdevices.pdf(file=conv_path + \"boston_{}_stripplot_{}.pdf\".format(c, p))\n",
    "        # Create and print plot\n",
    "        f = mice.stripplot_mids(boston_imputedr[p], rstats.as_formula(\"{} ~ .imp\".format(c)), \n",
    "                                pch=20, cex=2)\n",
    "        base.print(f)\n",
    "        # Close file\n",
    "        grdevices.dev_off()\n",
    "    "
   ]
  },
  {
   "cell_type": "code",
   "execution_count": 9,
   "id": "938d2ee5",
   "metadata": {},
   "outputs": [
    {
     "name": "stderr",
     "output_type": "stream",
     "text": [
      "100%|█████████████████████████████████████████████| 5/5 [00:00<00:00, 12.17it/s]\n"
     ]
    }
   ],
   "source": [
    "# Convert to Python compatible format\n",
    "# We need the imputed data and the missing flag\n",
    "\n",
    "# Set up placeholder dictionary\n",
    "boston_imputed = {}\n",
    "\n",
    "for p in tqdm(props_name):\n",
    "    # Retrieve imputed data\n",
    "    tempr = mice.complete_mids(boston_imputedr[p], action=\"all\", include=False)\n",
    "    with localconverter(robjects.default_converter + pandas2ri.converter):\n",
    "        temp = robjects.conversion.rpy2py(tempr)\n",
    "    # Note that reset_index is necessary as R had converted all indices to strings\n",
    "    boston_imputed[p] = {\"imp\": [v.reset_index(drop=True) for k, v in temp.items()]}\n",
    "    \n",
    "    # Construct missing flag using the original data\n",
    "    boston_imputed[p][\"missingflag\"] = boston_incomp[p].isna()\n",
    "    \n",
    "    # Retrieve chain statistics\n",
    "    # NOTE: Here, the variance is retrieved instead of standard deviations\n",
    "    with localconverter(robjects.default_converter + pandas2ri.converter):\n",
    "        tempchainmu = robjects.conversion.rpy2py(boston_imputedr[p].rx2(\"chainMean\"))\n",
    "        tempchainsig = robjects.conversion.rpy2py(boston_imputedr[p].rx2(\"chainVar\"))\n",
    "    boston_imputed[p][\"chainmean\"] = tempchainmu\n",
    "    boston_imputed[p][\"chainvar\"] = tempchainsig"
   ]
  },
  {
   "cell_type": "code",
   "execution_count": 10,
   "id": "285a10b3",
   "metadata": {},
   "outputs": [],
   "source": [
    "# Save multiply imputed data as Python objects\n",
    "with open(boston_path + \"imputed_r.pickle\", \"wb\") as handle:\n",
    "    pickle.dump(boston_imputed, handle, protocol=pickle.HIGHEST_PROTOCOL)"
   ]
  },
  {
   "cell_type": "code",
   "execution_count": 28,
   "id": "d5fa0eb2",
   "metadata": {},
   "outputs": [
    {
     "name": "stdout",
     "output_type": "stream",
     "text": [
      "p = 0.1\n",
      "Posterior median for mu = [0.05555556 0.62757381]\n",
      "Posterior median for sigma = [0.23570226 0.12317878]\n",
      "p = 0.2\n",
      "Posterior median for mu = [0.07317073 0.60916574]\n",
      "Posterior median for sigma = [0.26365165 0.11662183]\n",
      "p = 0.3\n",
      "Posterior median for mu = [0.06923077 0.59728289]\n",
      "Posterior median for sigma = [0.25536432 0.11519794]\n",
      "p = 0.4\n",
      "Posterior median for mu = [0.07291667 0.59647697]\n",
      "Posterior median for sigma = [0.2613645  0.11435586]\n",
      "p = 0.5\n",
      "Posterior median for mu = [0.06666667 0.5847754 ]\n",
      "Posterior median for sigma = [0.25048972 0.12262618]\n"
     ]
    }
   ],
   "source": [
    "# Retrieve chain statistics from last iteration for the report\n",
    "for p in props_name:\n",
    "    print(\"p = {}\".format(p / 100))\n",
    "    tempmu = np.median(boston_imputed[p][\"chainmean\"][3:5, :, -1], axis=1)\n",
    "    print(\"Posterior median for mu = {}\".format(tempmu))\n",
    "    tempsig = np.median(np.sqrt(boston_imputed[p][\"chainvar\"][3:5, :, -1]), axis=1)\n",
    "    print(\"Posterior median for sigma = {}\".format(tempsig))"
   ]
  },
  {
   "cell_type": "markdown",
   "id": "08d7881f",
   "metadata": {},
   "source": [
    "### `biopsy` dataset"
   ]
  },
  {
   "cell_type": "code",
   "execution_count": 11,
   "id": "2bc46527",
   "metadata": {},
   "outputs": [
    {
     "name": "stdout",
     "output_type": "stream",
     "text": [
      "Applying on dataset 10\n",
      "Applying on dataset 20\n",
      "Applying on dataset 30\n",
      "Applying on dataset 40\n",
      "Applying on dataset 50\n"
     ]
    }
   ],
   "source": [
    "# Prepare dictionary to store imputation objects from R\n",
    "biopsy_imputedr = {}\n",
    "\n",
    "for p in props_name:\n",
    "    print(\"Applying on dataset {}\".format(p))\n",
    "    \n",
    "    # Apply MICE algorithm\n",
    "    biopsy_imputedr[p] = mice.mice(biopsy_incompr[p], m=m, maxit=maxit, method=biopsymthd, \n",
    "                                   seed=SEED, donors=d, print=False)\n",
    "    \n",
    "    # Construct trace plot\n",
    "    grdevices.pdf(file=conv_path + \"biopsy_traceplot_{}.pdf\".format(p))\n",
    "    f = mice.plot_mids(biopsy_imputedr[p])\n",
    "    base.print(f)\n",
    "    grdevices.dev_off()\n",
    "    \n",
    "    # Construct strip plots for imputed variables\n",
    "    for c in [\"V1\", \"V2\", \"V3\"]:\n",
    "        # Set up image file\n",
    "        grdevices.pdf(file=conv_path + \"biopsy_{}_stripplot_{}.pdf\".format(c, p))\n",
    "        # Create and print plot\n",
    "        f = mice.stripplot_mids(biopsy_imputedr[p], rstats.as_formula(\"{} ~ .imp\".format(c)), \n",
    "                                pch=20, cex=2)\n",
    "        base.print(f)\n",
    "        # Close file\n",
    "        grdevices.dev_off()\n"
   ]
  },
  {
   "cell_type": "code",
   "execution_count": 12,
   "id": "e7cae703",
   "metadata": {},
   "outputs": [
    {
     "name": "stderr",
     "output_type": "stream",
     "text": [
      "100%|█████████████████████████████████████████████| 5/5 [00:00<00:00, 11.72it/s]\n"
     ]
    }
   ],
   "source": [
    "# Convert to Python compatible format\n",
    "# We need the imputed data and the missing flag\n",
    "\n",
    "# Set up placeholder dictionary\n",
    "biopsy_imputed = {}\n",
    "\n",
    "for p in tqdm(props_name):\n",
    "    # Retrieve imputed data\n",
    "    tempr = mice.complete_mids(biopsy_imputedr[p], action=\"all\", include=False)\n",
    "    with localconverter(robjects.default_converter + pandas2ri.converter):\n",
    "        temp = robjects.conversion.rpy2py(tempr)\n",
    "    # Note that reset_index is necessary as R had converted all indices to strings\n",
    "    biopsy_imputed[p] = {\"imp\": [v.reset_index(drop=True) for k, v in temp.items()]}\n",
    "    \n",
    "    # Construct missing flag using the original data\n",
    "    biopsy_imputed[p][\"missingflag\"] = biopsy_incomp[p].isna()\n",
    "    \n",
    "    # Retrieve chain statistics\n",
    "    # NOTE: Here, the variance is retrieved instead of standard deviations\n",
    "    with localconverter(robjects.default_converter + pandas2ri.converter):\n",
    "        tempchainmu = robjects.conversion.rpy2py(biopsy_imputedr[p].rx2(\"chainMean\"))\n",
    "        tempchainsig = robjects.conversion.rpy2py(biopsy_imputedr[p].rx2(\"chainVar\"))\n",
    "    biopsy_imputed[p][\"chainmean\"] = tempchainmu\n",
    "    biopsy_imputed[p][\"chainvar\"] = tempchainsig"
   ]
  },
  {
   "cell_type": "code",
   "execution_count": 13,
   "id": "4784a70b",
   "metadata": {},
   "outputs": [],
   "source": [
    "# Save multiply imputed data as Python objects\n",
    "with open(biopsy_path + \"imputed_r.pickle\", \"wb\") as handle:\n",
    "    pickle.dump(biopsy_imputed, handle, protocol=pickle.HIGHEST_PROTOCOL)"
   ]
  },
  {
   "cell_type": "code",
   "execution_count": 22,
   "id": "08bff71d",
   "metadata": {},
   "outputs": [
    {
     "name": "stdout",
     "output_type": "stream",
     "text": [
      "p = 0.1\n",
      "Posterior median for mu = [6.29268293 6.83333333 6.6       ]\n",
      "Posterior median for sigma = [2.91316675 3.43695209 3.41146526]\n",
      "p = 0.2\n",
      "Posterior median for mu = [6.54545455 6.27118644 6.25862069]\n",
      "Posterior median for sigma = [2.83915483 3.36338972 3.27495511]\n",
      "p = 0.3\n",
      "Posterior median for mu = [5.99       5.19117647 5.01219512]\n",
      "Posterior median for sigma = [2.87122806 3.42135763 3.4379412 ]\n",
      "p = 0.4\n",
      "Posterior median for mu = [5.6195122  4.76056338 4.57258065]\n",
      "Posterior median for sigma = [2.90176312 3.32366487 3.29963966]\n",
      "p = 0.5\n",
      "Posterior median for mu = [5.29182156 4.23134328 4.12162162]\n",
      "Posterior median for sigma = [2.89965487 3.37274698 3.25886866]\n"
     ]
    }
   ],
   "source": [
    "# Retrieve chain statistics from last iteration for the report\n",
    "for p in props_name:\n",
    "    print(\"p = {}\".format(p / 100))\n",
    "    tempmu = np.median(biopsy_imputed[p][\"chainmean\"][:3, :, -1], axis=1)\n",
    "    print(\"Posterior median for mu = {}\".format(tempmu))\n",
    "    tempsig = np.median(np.sqrt(biopsy_imputed[p][\"chainvar\"][:3, :, -1]), axis=1)\n",
    "    print(\"Posterior median for sigma = {}\".format(tempsig))"
   ]
  }
 ],
 "metadata": {
  "kernelspec": {
   "display_name": "Python (venv)",
   "language": "python",
   "name": "env"
  },
  "language_info": {
   "codemirror_mode": {
    "name": "ipython",
    "version": 3
   },
   "file_extension": ".py",
   "mimetype": "text/x-python",
   "name": "python",
   "nbconvert_exporter": "python",
   "pygments_lexer": "ipython3",
   "version": "3.9.7"
  }
 },
 "nbformat": 4,
 "nbformat_minor": 5
}
