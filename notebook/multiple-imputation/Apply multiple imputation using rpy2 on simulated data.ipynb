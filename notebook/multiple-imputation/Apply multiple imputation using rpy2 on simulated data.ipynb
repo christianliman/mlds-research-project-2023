{
 "cells": [
  {
   "cell_type": "code",
   "execution_count": 1,
   "id": "b29c18b6",
   "metadata": {},
   "outputs": [],
   "source": [
    "# Import libraries\n",
    "import pandas as pd\n",
    "import numpy as np\n",
    "import matplotlib.pyplot as plt\n",
    "import seaborn as sns\n",
    "import statsmodels.api as sm\n",
    "import copy\n",
    "import shap\n",
    "import pickle\n",
    "import os\n",
    "\n",
    "from scipy import linalg\n",
    "from scipy.special import expit\n",
    "from scipy import stats\n",
    "from tqdm import tqdm\n",
    "from matplotlib import cm\n",
    "from sklearn.base import TransformerMixin, ClassifierMixin\n",
    "from sklearn.ensemble import RandomForestClassifier, GradientBoostingClassifier\n",
    "from sklearn.model_selection import KFold\n",
    "from sklearn.metrics import (roc_auc_score, f1_score, precision_score, recall_score, \n",
    "                             RocCurveDisplay, PrecisionRecallDisplay)\n",
    "from pandas.api.types import CategoricalDtype"
   ]
  },
  {
   "cell_type": "code",
   "execution_count": 2,
   "id": "a91f123e",
   "metadata": {},
   "outputs": [],
   "source": [
    "# Import libraries to interface with R\n",
    "import rpy2\n",
    "import rpy2.robjects as robjects\n",
    "from rpy2.robjects.conversion import localconverter\n",
    "from rpy2.robjects.packages import importr\n",
    "from rpy2.robjects import pandas2ri\n",
    "from IPython.display import Image, display"
   ]
  },
  {
   "cell_type": "code",
   "execution_count": 3,
   "id": "54654033",
   "metadata": {},
   "outputs": [],
   "source": [
    "# Load relevant R packages\n",
    "base = importr(\"base\")\n",
    "rstats = importr(\"stats\")\n",
    "mice = importr(\"mice\")\n",
    "grdevices = importr(\"grDevices\")"
   ]
  },
  {
   "cell_type": "code",
   "execution_count": 4,
   "id": "c9d30d9a",
   "metadata": {},
   "outputs": [],
   "source": [
    "# Import MICE functions\n",
    "from mice_functions import *"
   ]
  },
  {
   "cell_type": "markdown",
   "id": "61702a05",
   "metadata": {},
   "source": [
    "## Load incomplete dataset"
   ]
  },
  {
   "cell_type": "code",
   "execution_count": 5,
   "id": "6aa501fb",
   "metadata": {},
   "outputs": [],
   "source": [
    "# Load incomplete dataset\n",
    "props_name = [10, 20, 30, 40, 50]\n",
    "boston_path = \"../../data/toy-dataset/boston-processed/\"\n",
    "biopsy_path = \"../../data/toy-dataset/biopsy-processed/\"\n",
    "\n",
    "# Starting with boston dataset\n",
    "boston_incomp = {}\n",
    "for p in props_name:\n",
    "    boston_incomp[p] = pd.read_csv(boston_path + \"boston_{}.csv\".format(p))\n",
    "\n",
    "\n",
    "# Followed by biopsy dataset\n",
    "biopsy_incomp = {}\n",
    "for p in props_name:\n",
    "    biopsy_incomp[p] = pd.read_csv(biopsy_path + \"biopsy_{}.csv\".format(p))"
   ]
  },
  {
   "cell_type": "code",
   "execution_count": 6,
   "id": "f32587bd",
   "metadata": {},
   "outputs": [],
   "source": [
    "# Convert data frames into R objects\n",
    "boston_incompr = {}\n",
    "for p in props_name:\n",
    "    with localconverter(robjects.default_converter + pandas2ri.converter):\n",
    "        boston_incompr[p] = robjects.conversion.py2rpy(boston_incomp[p])\n",
    "\n",
    "biopsy_incompr = {}\n",
    "for p in props_name:\n",
    "    with localconverter(robjects.default_converter + pandas2ri.converter):\n",
    "        biopsy_incompr[p] = robjects.conversion.py2rpy(biopsy_incomp[p])"
   ]
  },
  {
   "cell_type": "code",
   "execution_count": 7,
   "id": "48af96d0",
   "metadata": {},
   "outputs": [],
   "source": [
    "# List down target variables for imputation\n",
    "boston_targets_cat = [\"chas\"]\n",
    "boston_targets_num = [\"nox\"]\n",
    "boston_imputed_vars = boston_targets_cat + boston_targets_num\n",
    "#boston_all_vars = boston_incomp[props_name[0]].columns.values\n",
    "\n",
    "biopsy_targets_cat = []\n",
    "biopsy_targets_num = [\"V1\", \"V2\", \"V3\"]\n",
    "biopsy_imputed_vars = biopsy_targets_cat + biopsy_targets_num\n",
    "#biopsy_all_vars = biopsy_incomp[props_name[0]].columns.values"
   ]
  },
  {
   "cell_type": "markdown",
   "id": "690ad456",
   "metadata": {},
   "source": [
    "## Apply MICE algorithm\n",
    "\n",
    "### General setup"
   ]
  },
  {
   "cell_type": "code",
   "execution_count": 8,
   "id": "8f74aed2",
   "metadata": {},
   "outputs": [
    {
     "name": "stdout",
     "output_type": "stream",
     "text": [
      "   crim      zn   indus    chas     nox      rm     age     dis     tax ptratio \n",
      "     \"\"      \"\"      \"\"   \"pmm\"   \"pmm\"      \"\"      \"\"      \"\"      \"\"      \"\" \n",
      "  black   lstat    medv \n",
      "     \"\"      \"\"      \"\" \n",
      "\n",
      "             V1              V2              V3              V4              V5 \n",
      "          \"pmm\"           \"pmm\"           \"pmm\"              \"\"              \"\" \n",
      "             V7              V8              V9 class_malignant \n",
      "             \"\"              \"\"              \"\"              \"\" \n",
      "\n"
     ]
    }
   ],
   "source": [
    "# Select imputation models\n",
    "# Boston dataset\n",
    "# Create a placeholder MICE model to modify the method\n",
    "temp_mice = mice.mice(boston_incompr[10], maxit=0, method=\"pmm\", print=False)\n",
    "with localconverter(robjects.default_converter + pandas2ri.converter):\n",
    "    bostonmthd = robjects.conversion.rpy2py(temp_mice.rx2(\"method\"))\n",
    "\n",
    "# Add line here if any method is to be modified\n",
    "#chas_idx = list(boston_incomp[10].columns).index(\"chas\")\n",
    "#bostonmthd[chas_idx] = \"logreg.boot\"\n",
    "print(bostonmthd)\n",
    "\n",
    "# Biopsy dataset\n",
    "# Create a placeholder MICE model to modify the method\n",
    "temp_mice = mice.mice(biopsy_incompr[10], maxit=0, method=\"pmm\", print=False)\n",
    "with localconverter(robjects.default_converter + pandas2ri.converter):\n",
    "    biopsymthd = robjects.conversion.rpy2py(temp_mice.rx2(\"method\"))\n",
    "\n",
    "# Add line here if any method is to be modified\n",
    "print(biopsymthd)\n",
    "\n",
    "# Set number of imputations and maximum number of iterations\n",
    "maxit = 40\n",
    "m = 20\n",
    "\n",
    "# Set number of donors for PMM\n",
    "d = 10\n",
    "\n",
    "# Set random seed\n",
    "SEED = 2023\n",
    "\n",
    "# Path to store any plots assessing convergence\n",
    "conv_path = \"../../results/figures/r_convergence_V2/\"\n",
    "if not os.path.exists(conv_path):\n",
    "    os.mkdir(conv_path)"
   ]
  },
  {
   "cell_type": "markdown",
   "id": "3ed8191d",
   "metadata": {},
   "source": [
    "### `boston` dataset"
   ]
  },
  {
   "cell_type": "code",
   "execution_count": 9,
   "id": "ae6e3a22",
   "metadata": {},
   "outputs": [
    {
     "name": "stdout",
     "output_type": "stream",
     "text": [
      "Applying on dataset 10\n",
      "Applying on dataset 20\n",
      "Applying on dataset 30\n",
      "Applying on dataset 40\n",
      "Applying on dataset 50\n"
     ]
    }
   ],
   "source": [
    "# Prepare dictionary to store imputation objects from R\n",
    "boston_imputedr = {}\n",
    "\n",
    "for p in props_name:\n",
    "    print(\"Applying on dataset {}\".format(p))\n",
    "    \n",
    "    # Apply MICE algorithm\n",
    "    boston_imputedr[p] = mice.mice(boston_incompr[p], m=m, maxit=maxit, method=bostonmthd, \n",
    "                                   seed=SEED, donors=d, print=False)\n",
    "    \n",
    "    # Construct trace plot (moved to below)\n",
    "    # grdevices.pdf(file=conv_path + \"boston_traceplot_{}.pdf\".format(p))\n",
    "    # f = mice.plot_mids(boston_imputedr[p], layout=robjects.IntVector((2, len(boston_imputed_vars))))\n",
    "    # base.print(f)\n",
    "    # grdevices.dev_off()\n",
    "    \n",
    "    # Construct strip plots for imputed variables\n",
    "    #for c in boston_imputed_vars:\n",
    "    #    # Set up image file\n",
    "    #    grdevices.pdf(file=conv_path + \"boston_{}_stripplot_{}.pdf\".format(c, p))\n",
    "    #    # Create and print plot\n",
    "    #    f = mice.stripplot_mids(boston_imputedr[p], rstats.as_formula(\"{} ~ .imp\".format(c)), \n",
    "    #                            pch=20, cex=2)\n",
    "    #    base.print(f)\n",
    "    #    # Close file\n",
    "    #    grdevices.dev_off()\n",
    "    "
   ]
  },
  {
   "cell_type": "code",
   "execution_count": 10,
   "id": "938d2ee5",
   "metadata": {},
   "outputs": [
    {
     "name": "stderr",
     "output_type": "stream",
     "text": [
      "100%|█████████████████████████████████████████████| 5/5 [00:00<00:00, 11.20it/s]\n"
     ]
    }
   ],
   "source": [
    "# Convert to Python compatible format\n",
    "# We need the imputed data and the missing flag\n",
    "\n",
    "# Set up placeholder dictionary\n",
    "boston_imputed = {}\n",
    "\n",
    "for p in tqdm(props_name):\n",
    "    # Retrieve imputed data\n",
    "    tempr = mice.complete_mids(boston_imputedr[p], action=\"all\", include=False)\n",
    "    with localconverter(robjects.default_converter + pandas2ri.converter):\n",
    "        temp = robjects.conversion.rpy2py(tempr)\n",
    "    # Note that reset_index is necessary as R had converted all indices to strings\n",
    "    boston_imputed[p] = {\"imp\": [v.reset_index(drop=True) for k, v in temp.items()]}\n",
    "    \n",
    "    # Construct missing flag using the original data\n",
    "    boston_imputed[p][\"missingflag\"] = boston_incomp[p].isna()\n",
    "    \n",
    "    # Retrieve chain statistics\n",
    "    # NOTE: In R, the variance is stored instead of standard deviations\n",
    "    with localconverter(robjects.default_converter + pandas2ri.converter):\n",
    "        tempchainmu = robjects.conversion.rpy2py(boston_imputedr[p].rx2(\"chainMean\"))\n",
    "        tempchainsig = robjects.conversion.rpy2py(boston_imputedr[p].rx2(\"chainVar\"))\n",
    "    boston_imputed[p][\"chainmean\"] = tempchainmu\n",
    "    with np.errstate(invalid=\"ignore\"): # suppress warnings for the NAs\n",
    "        boston_imputed[p][\"chainstd\"] = np.sqrt(tempchainsig)\n",
    "    \n",
    "    # Include maxit\n",
    "    boston_imputed[p][\"maxit\"] = maxit"
   ]
  },
  {
   "cell_type": "code",
   "execution_count": 11,
   "id": "72fd18c5",
   "metadata": {},
   "outputs": [
    {
     "name": "stderr",
     "output_type": "stream",
     "text": [
      "100%|█████████████████████████████████████████████| 5/5 [00:14<00:00,  2.83s/it]\n"
     ]
    }
   ],
   "source": [
    "# Prevent plots from being printed\n",
    "%matplotlib agg\n",
    "\n",
    "# Construct trace plot and strip plot\n",
    "for p in tqdm(props_name):\n",
    "    # Create and save trace plot\n",
    "    f = ChainStatsViz(boston_imputed[p], missingvars=boston_imputed_vars)\n",
    "    f.savefig(conv_path + \"boston_traceplot_{}.pdf\".format(p))\n",
    "    \n",
    "    # Create and save strip plot\n",
    "    for c in boston_imputed_vars:\n",
    "        f = plotImputedData(boston_imputed[p], c)\n",
    "        f.savefig(conv_path + \"boston_{}_stripplot_{}.pdf\".format(c, p))"
   ]
  },
  {
   "cell_type": "code",
   "execution_count": 12,
   "id": "285a10b3",
   "metadata": {},
   "outputs": [],
   "source": [
    "# Save multiply imputed data as Python objects\n",
    "with open(boston_path + \"imputed_r.pickle\", \"wb\") as handle:\n",
    "    pickle.dump(boston_imputed, handle, protocol=pickle.HIGHEST_PROTOCOL)"
   ]
  },
  {
   "cell_type": "code",
   "execution_count": 13,
   "id": "b819d70e",
   "metadata": {},
   "outputs": [
    {
     "name": "stdout",
     "output_type": "stream",
     "text": [
      "p = 0.1\n",
      "Posterior median for mu = [0.056 0.623]\n",
      "Posterior median for sigma = [0.236 0.12 ]\n",
      "p = 0.2\n",
      "Posterior median for mu = [0.098 0.608]\n",
      "Posterior median for sigma = [0.3   0.117]\n",
      "p = 0.3\n",
      "Posterior median for mu = [0.069 0.597]\n",
      "Posterior median for sigma = [0.255 0.112]\n",
      "p = 0.4\n",
      "Posterior median for mu = [0.073 0.598]\n",
      "Posterior median for sigma = [0.261 0.117]\n",
      "p = 0.5\n",
      "Posterior median for mu = [0.071 0.584]\n",
      "Posterior median for sigma = [0.257 0.123]\n"
     ]
    }
   ],
   "source": [
    "# Retrieve chain statistics from last iteration for the report\n",
    "for p in props_name:\n",
    "    print(\"p = {}\".format(p / 100))\n",
    "    tempmu = np.median(boston_imputed[p][\"chainmean\"][3:5, -1, :], axis=1)\n",
    "    print(\"Posterior median for mu = {}\".format(np.round(tempmu, 3)))\n",
    "    tempsig = np.median(boston_imputed[p][\"chainstd\"][3:5, -1, :], axis=1)\n",
    "    print(\"Posterior median for sigma = {}\".format(np.round(tempsig, 3)))"
   ]
  },
  {
   "cell_type": "code",
   "execution_count": 22,
   "id": "fedd7448",
   "metadata": {},
   "outputs": [
    {
     "data": {
      "text/plain": [
       "0.5941428571428572"
      ]
     },
     "execution_count": 22,
     "metadata": {},
     "output_type": "execute_result"
    }
   ],
   "source": [
    "boston_imputed[10][\"chainmean\"][4].min()"
   ]
  },
  {
   "cell_type": "code",
   "execution_count": 23,
   "id": "0456232f",
   "metadata": {},
   "outputs": [
    {
     "data": {
      "text/plain": [
       "0.6833333333333333"
      ]
     },
     "execution_count": 23,
     "metadata": {},
     "output_type": "execute_result"
    }
   ],
   "source": [
    "boston_imputed[10][\"chainmean\"][4].max()"
   ]
  },
  {
   "cell_type": "markdown",
   "id": "08d7881f",
   "metadata": {},
   "source": [
    "### `biopsy` dataset"
   ]
  },
  {
   "cell_type": "code",
   "execution_count": 14,
   "id": "2bc46527",
   "metadata": {},
   "outputs": [
    {
     "name": "stdout",
     "output_type": "stream",
     "text": [
      "Applying on dataset 10\n",
      "Applying on dataset 20\n",
      "Applying on dataset 30\n",
      "Applying on dataset 40\n",
      "Applying on dataset 50\n"
     ]
    }
   ],
   "source": [
    "# Prepare dictionary to store imputation objects from R\n",
    "biopsy_imputedr = {}\n",
    "\n",
    "for p in props_name:\n",
    "    print(\"Applying on dataset {}\".format(p))\n",
    "    \n",
    "    # Apply MICE algorithm\n",
    "    biopsy_imputedr[p] = mice.mice(biopsy_incompr[p], m=m, maxit=maxit, method=biopsymthd, \n",
    "                                   seed=SEED, donors=d, print=False)\n",
    "    \n",
    "    # Construct trace plot\n",
    "    #grdevices.pdf(file=conv_path + \"biopsy_traceplot_{}.pdf\".format(p))\n",
    "    #f = mice.plot_mids(biopsy_imputedr[p], layout=robjects.IntVector((2, len(biopsy_imputed_vars))))\n",
    "    #base.print(f)\n",
    "    #grdevices.dev_off()\n",
    "    \n",
    "    # Construct strip plots for imputed variables\n",
    "    #for c in biopsy_imputed_vars:\n",
    "    #    # Set up image file\n",
    "    #    grdevices.pdf(file=conv_path + \"biopsy_{}_stripplot_{}.pdf\".format(c, p))\n",
    "    #    # Create and print plot\n",
    "    #    f = mice.stripplot_mids(biopsy_imputedr[p], rstats.as_formula(\"{} ~ .imp\".format(c)), \n",
    "    #                            pch=20, cex=2)\n",
    "    #    base.print(f)\n",
    "    #    # Close file\n",
    "    #    grdevices.dev_off()\n"
   ]
  },
  {
   "cell_type": "code",
   "execution_count": 15,
   "id": "e7cae703",
   "metadata": {},
   "outputs": [
    {
     "name": "stderr",
     "output_type": "stream",
     "text": [
      "100%|█████████████████████████████████████████████| 5/5 [00:00<00:00, 10.98it/s]\n"
     ]
    }
   ],
   "source": [
    "# Convert to Python compatible format\n",
    "# We need the imputed data and the missing flag\n",
    "\n",
    "# Set up placeholder dictionary\n",
    "biopsy_imputed = {}\n",
    "\n",
    "for p in tqdm(props_name):\n",
    "    # Retrieve imputed data\n",
    "    tempr = mice.complete_mids(biopsy_imputedr[p], action=\"all\", include=False)\n",
    "    with localconverter(robjects.default_converter + pandas2ri.converter):\n",
    "        temp = robjects.conversion.rpy2py(tempr)\n",
    "    # Note that reset_index is necessary as R had converted all indices to strings\n",
    "    biopsy_imputed[p] = {\"imp\": [v.reset_index(drop=True) for k, v in temp.items()]}\n",
    "    \n",
    "    # Construct missing flag using the original data\n",
    "    biopsy_imputed[p][\"missingflag\"] = biopsy_incomp[p].isna()\n",
    "    \n",
    "    # Retrieve chain statistics\n",
    "    # NOTE: In R, the variance is stored instead of standard deviations\n",
    "    with localconverter(robjects.default_converter + pandas2ri.converter):\n",
    "        tempchainmu = robjects.conversion.rpy2py(biopsy_imputedr[p].rx2(\"chainMean\"))\n",
    "        tempchainsig = robjects.conversion.rpy2py(biopsy_imputedr[p].rx2(\"chainVar\"))\n",
    "    biopsy_imputed[p][\"chainmean\"] = tempchainmu\n",
    "    with np.errstate(invalid=\"ignore\"): # suppress warnings for the NAs\n",
    "        biopsy_imputed[p][\"chainstd\"] = np.sqrt(tempchainsig)\n",
    "    \n",
    "    # Include maxit\n",
    "    biopsy_imputed[p][\"maxit\"] = maxit"
   ]
  },
  {
   "cell_type": "code",
   "execution_count": 16,
   "id": "4b9262a4",
   "metadata": {},
   "outputs": [
    {
     "name": "stderr",
     "output_type": "stream",
     "text": [
      "100%|█████████████████████████████████████████████| 5/5 [00:26<00:00,  5.39s/it]\n"
     ]
    }
   ],
   "source": [
    "# Prevent plots from being printed\n",
    "%matplotlib agg\n",
    "\n",
    "# Construct trace plot and strip plot\n",
    "for p in tqdm(props_name):\n",
    "    # Create and save trace plot\n",
    "    f = ChainStatsViz(biopsy_imputed[p], missingvars=biopsy_imputed_vars)\n",
    "    f.savefig(conv_path + \"biopsy_traceplot_{}.pdf\".format(p))\n",
    "    \n",
    "    # Create and save strip plot\n",
    "    for c in biopsy_imputed_vars:\n",
    "        f = plotImputedData(biopsy_imputed[p], c)\n",
    "        f.savefig(conv_path + \"biopsy_{}_stripplot_{}.pdf\".format(c, p))"
   ]
  },
  {
   "cell_type": "code",
   "execution_count": 17,
   "id": "4784a70b",
   "metadata": {},
   "outputs": [],
   "source": [
    "# Save multiply imputed data as Python objects\n",
    "with open(biopsy_path + \"imputed_r.pickle\", \"wb\") as handle:\n",
    "    pickle.dump(biopsy_imputed, handle, protocol=pickle.HIGHEST_PROTOCOL)"
   ]
  },
  {
   "cell_type": "code",
   "execution_count": 18,
   "id": "cc9eb7aa",
   "metadata": {},
   "outputs": [
    {
     "name": "stdout",
     "output_type": "stream",
     "text": [
      "p = 0.1\n",
      "Posterior median for mu = [6.29 6.88 6.5 ]\n",
      "Posterior median for sigma = [2.81 3.4  3.43]\n",
      "p = 0.2\n",
      "Posterior median for mu = [6.52 6.35 6.14]\n",
      "Posterior median for sigma = [2.85 3.39 3.33]\n",
      "p = 0.3\n",
      "Posterior median for mu = [6.1  5.25 5.06]\n",
      "Posterior median for sigma = [2.79 3.4  3.48]\n",
      "p = 0.4\n",
      "Posterior median for mu = [5.58 4.67 4.58]\n",
      "Posterior median for sigma = [2.9 3.3 3.3]\n",
      "p = 0.5\n",
      "Posterior median for mu = [5.36 4.22 4.15]\n",
      "Posterior median for sigma = [2.96 3.38 3.23]\n"
     ]
    }
   ],
   "source": [
    "# Retrieve chain statistics from last iteration for the report\n",
    "for p in props_name:\n",
    "    print(\"p = {}\".format(p / 100))\n",
    "    tempmu = np.median(biopsy_imputed[p][\"chainmean\"][:3, -1, :], axis=1)\n",
    "    print(\"Posterior median for mu = {}\".format(np.round(tempmu, 2)))\n",
    "    tempsig = np.median(biopsy_imputed[p][\"chainstd\"][:3, -1, :], axis=1)\n",
    "    print(\"Posterior median for sigma = {}\".format(np.round(tempsig, 2)))"
   ]
  }
 ],
 "metadata": {
  "kernelspec": {
   "display_name": "Python (venv)",
   "language": "python",
   "name": "env"
  },
  "language_info": {
   "codemirror_mode": {
    "name": "ipython",
    "version": 3
   },
   "file_extension": ".py",
   "mimetype": "text/x-python",
   "name": "python",
   "nbconvert_exporter": "python",
   "pygments_lexer": "ipython3",
   "version": "3.9.7"
  }
 },
 "nbformat": 4,
 "nbformat_minor": 5
}
