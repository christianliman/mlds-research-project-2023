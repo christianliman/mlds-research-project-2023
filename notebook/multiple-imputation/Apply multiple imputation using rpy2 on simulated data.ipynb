{
 "cells": [
  {
   "cell_type": "code",
   "execution_count": 1,
   "id": "37a2e9c2",
   "metadata": {},
   "outputs": [],
   "source": [
    "# Import libraries\n",
    "import pandas as pd\n",
    "import numpy as np\n",
    "import matplotlib.pyplot as plt\n",
    "import seaborn as sns\n",
    "import statsmodels.api as sm\n",
    "import copy\n",
    "import shap\n",
    "import pickle\n",
    "import os\n",
    "\n",
    "from scipy import linalg\n",
    "from scipy.special import expit\n",
    "from scipy import stats\n",
    "from tqdm import tqdm\n",
    "from matplotlib import cm\n",
    "from sklearn.base import TransformerMixin, ClassifierMixin\n",
    "from sklearn.ensemble import RandomForestClassifier, GradientBoostingClassifier\n",
    "from sklearn.model_selection import KFold\n",
    "from sklearn.metrics import (roc_auc_score, f1_score, precision_score, recall_score, \n",
    "                             RocCurveDisplay, PrecisionRecallDisplay)\n",
    "from pandas.api.types import CategoricalDtype"
   ]
  },
  {
   "cell_type": "code",
   "execution_count": 2,
   "id": "b89b1c47",
   "metadata": {},
   "outputs": [],
   "source": [
    "# Import libraries to interface with R\n",
    "import rpy2\n",
    "import rpy2.robjects as robjects\n",
    "from rpy2.robjects.conversion import localconverter\n",
    "from rpy2.robjects.packages import importr\n",
    "from rpy2.robjects import pandas2ri\n",
    "from IPython.display import Image, display"
   ]
  },
  {
   "cell_type": "code",
   "execution_count": 3,
   "id": "2d6bec47",
   "metadata": {},
   "outputs": [],
   "source": [
    "# Load relevant R packages\n",
    "base = importr(\"base\")\n",
    "rstats = importr(\"stats\")\n",
    "mice = importr(\"mice\")\n",
    "grdevices = importr(\"grDevices\")"
   ]
  },
  {
   "cell_type": "markdown",
   "id": "8c513e6d",
   "metadata": {},
   "source": [
    "## Load incomplete dataset"
   ]
  },
  {
   "cell_type": "code",
   "execution_count": 4,
   "id": "b8a5623b",
   "metadata": {},
   "outputs": [],
   "source": [
    "# Load incomplete dataset\n",
    "props_name = [10, 20, 30, 40, 50]\n",
    "boston_path = \"../../data/toy-dataset/boston-processed/\"\n",
    "biopsy_path = \"../../data/toy-dataset/biopsy-processed/\"\n",
    "\n",
    "# Starting with boston dataset\n",
    "boston_incomp = {}\n",
    "for p in props_name:\n",
    "    boston_incomp[p] = pd.read_csv(boston_path + \"boston_{}.csv\".format(p))\n",
    "\n",
    "\n",
    "# Followed by biopsy dataset\n",
    "biopsy_incomp = {}\n",
    "for p in props_name:\n",
    "    biopsy_incomp[p] = pd.read_csv(biopsy_path + \"biopsy_{}.csv\".format(p))"
   ]
  },
  {
   "cell_type": "code",
   "execution_count": 5,
   "id": "8854178c",
   "metadata": {},
   "outputs": [],
   "source": [
    "# Convert data frames into R objects\n",
    "boston_incompr = {}\n",
    "for p in props_name:\n",
    "    with localconverter(robjects.default_converter + pandas2ri.converter):\n",
    "        boston_incompr[p] = robjects.conversion.py2rpy(boston_incomp[p])\n",
    "\n",
    "biopsy_incompr = {}\n",
    "for p in props_name:\n",
    "    with localconverter(robjects.default_converter + pandas2ri.converter):\n",
    "        biopsy_incompr[p] = robjects.conversion.py2rpy(biopsy_incomp[p])"
   ]
  },
  {
   "cell_type": "code",
   "execution_count": 6,
   "id": "6b46d5aa",
   "metadata": {},
   "outputs": [],
   "source": [
    "# List down target variables for imputation\n",
    "boston_targets_cat = [\"chas\"]\n",
    "boston_targets_num = [\"nox\"]\n",
    "\n",
    "biopsy_targets_cat = []\n",
    "biopsy_targets_num = [\"V1\", \"V2\", \"V3\"]"
   ]
  },
  {
   "cell_type": "markdown",
   "id": "d52baf77",
   "metadata": {},
   "source": [
    "## Apply MICE algorithm\n",
    "\n",
    "### General setup"
   ]
  },
  {
   "cell_type": "code",
   "execution_count": 47,
   "id": "6facb4b2",
   "metadata": {},
   "outputs": [
    {
     "name": "stdout",
     "output_type": "stream",
     "text": [
      "         crim            zn         indus          chas           nox \n",
      "           \"\"            \"\"            \"\" \"logreg.boot\"         \"pmm\" \n",
      "           rm           age           dis           tax       ptratio \n",
      "           \"\"            \"\"            \"\"            \"\"            \"\" \n",
      "        black         lstat          medv \n",
      "           \"\"            \"\"            \"\" \n",
      "\n",
      "             V1              V2              V3              V4              V5 \n",
      "          \"pmm\"           \"pmm\"           \"pmm\"              \"\"              \"\" \n",
      "             V7              V8              V9 class_malignant \n",
      "             \"\"              \"\"              \"\"              \"\" \n",
      "\n"
     ]
    }
   ],
   "source": [
    "# Select imputation models\n",
    "# Boston dataset\n",
    "# Create a placeholder MICE model to modify the method\n",
    "temp_mice = mice.mice(boston_incompr[10], maxit=0, method=\"pmm\", print=False)\n",
    "with localconverter(robjects.default_converter + pandas2ri.converter):\n",
    "    bostonmthd = robjects.conversion.rpy2py(temp_mice.rx2(\"method\"))\n",
    "\n",
    "# Add line here if any method is to be modified\n",
    "chas_idx = list(boston_incomp[10].columns).index(\"chas\")\n",
    "bostonmthd[chas_idx] = \"logreg.boot\"\n",
    "print(bostonmthd)\n",
    "\n",
    "# Biopsy dataset\n",
    "# Create a placeholder MICE model to modify the method\n",
    "temp_mice = mice.mice(biopsy_incompr[10], maxit=0, method=\"pmm\", print=False)\n",
    "with localconverter(robjects.default_converter + pandas2ri.converter):\n",
    "    biopsymthd = robjects.conversion.rpy2py(temp_mice.rx2(\"method\"))\n",
    "\n",
    "# Add line here if any method is to be modified\n",
    "print(biopsymthd)\n",
    "\n",
    "# Set number of imputations and maximum number of iterations\n",
    "maxit = 40\n",
    "m = 20\n",
    "\n",
    "# Set number of donors for PMM\n",
    "d = 10\n",
    "\n",
    "# Set random seed\n",
    "SEED = 2023\n",
    "\n",
    "# Path to store any plots assessing convergence\n",
    "conv_path = \"../../results/figures/r_convergence/\"\n",
    "if not os.path.exists(conv_path):\n",
    "    os.mkdir(conv_path)"
   ]
  },
  {
   "cell_type": "markdown",
   "id": "ef8f5e85",
   "metadata": {},
   "source": [
    "### `boston` dataset"
   ]
  },
  {
   "cell_type": "code",
   "execution_count": 8,
   "id": "18632394",
   "metadata": {},
   "outputs": [
    {
     "name": "stdout",
     "output_type": "stream",
     "text": [
      "Applying on dataset 10\n",
      "Applying on dataset 20\n",
      "Applying on dataset 30\n",
      "Applying on dataset 40\n",
      "Applying on dataset 50\n"
     ]
    }
   ],
   "source": [
    "# Prepare dictionary to store imputation objects from R\n",
    "boston_imputedr = {}\n",
    "\n",
    "for p in props_name:\n",
    "    print(\"Applying on dataset {}\".format(p))\n",
    "    \n",
    "    # Apply MICE algorithm\n",
    "    boston_imputedr[p] = mice.mice(boston_incompr[p], m=m, maxit=maxit, method=method, \n",
    "                                   seed=SEED, donors=d, print=False)\n",
    "    \n",
    "    # Construct trace plot\n",
    "    grdevices.pdf(file=conv_path + \"boston_traceplot_{}.pdf\".format(p))\n",
    "    f = mice.plot_mids(boston_imputedr[p])\n",
    "    base.print(f)\n",
    "    grdevices.dev_off()\n",
    "    \n",
    "    # Construct strip plots for imputed variables\n",
    "    for c in [\"chas\", \"nox\"]:\n",
    "        # Set up image file\n",
    "        grdevices.pdf(file=conv_path + \"boston_{}_stripplot_{}.pdf\".format(c, p))\n",
    "        # Create and print plot\n",
    "        f = mice.stripplot_mids(boston_imputedr[p], rstats.as_formula(\"{} ~ .imp\".format(c)), \n",
    "                                pch=20, cex=2)\n",
    "        base.print(f)\n",
    "        # Close file\n",
    "        grdevices.dev_off()\n",
    "    "
   ]
  },
  {
   "cell_type": "code",
   "execution_count": 28,
   "id": "7ceeebd8",
   "metadata": {},
   "outputs": [
    {
     "name": "stderr",
     "output_type": "stream",
     "text": [
      "100%|█████████████████████████████████████████████| 5/5 [00:00<00:00, 13.07it/s]\n"
     ]
    }
   ],
   "source": [
    "# Convert to Python compatible format\n",
    "# We need the imputed data and the missing flag\n",
    "\n",
    "# Set up placeholder dictionary\n",
    "boston_imputed = {}\n",
    "\n",
    "for p in tqdm(props_name):\n",
    "    # Retrieve imputed data\n",
    "    tempr = mice.complete_mids(boston_imputedr[p], action=\"all\", include=False)\n",
    "    with localconverter(robjects.default_converter + pandas2ri.converter):\n",
    "        temp = robjects.conversion.rpy2py(tempr)\n",
    "    boston_imputed[p] = {\"imp\": [v for k, v in temp.items()]}\n",
    "    \n",
    "    # Construct missing flag using the original data\n",
    "    boston_imputed[p][\"missingflag\"] = boston_incomp[p].isna()\n",
    "    \n",
    "    # Retrieve chain statistics\n",
    "    # NOTE: Here, the variance is retrieved instead of standard deviations\n",
    "    with localconverter(robjects.default_converter + pandas2ri.converter):\n",
    "        tempchainmu = robjects.conversion.rpy2py(boston_imputedr[p].rx2(\"chainMean\"))\n",
    "        tempchainsig = robjects.conversion.rpy2py(boston_imputedr[p].rx2(\"chainVar\"))\n",
    "    boston_imputed[p][\"chainmean\"] = tempchainmu\n",
    "    boston_imputed[p][\"chainvar\"] = tempchainsig"
   ]
  },
  {
   "cell_type": "code",
   "execution_count": null,
   "id": "ac28da3f",
   "metadata": {},
   "outputs": [],
   "source": [
    "# Save multiply imputed data as Python objects\n",
    "with open(boston_path + \"imputed_r.pickle\", \"wb\") as handle:\n",
    "    pickle.dump(boston_imputed, handle, protocol=pickle.HIGHEST_PROTOCOL)"
   ]
  },
  {
   "cell_type": "markdown",
   "id": "b6909e7c",
   "metadata": {},
   "source": [
    "### `biopsy` dataset"
   ]
  },
  {
   "cell_type": "code",
   "execution_count": 33,
   "id": "1c7b5a0a",
   "metadata": {},
   "outputs": [
    {
     "name": "stdout",
     "output_type": "stream",
     "text": [
      "Applying on dataset 10\n",
      "Applying on dataset 20\n",
      "Applying on dataset 30\n",
      "Applying on dataset 40\n",
      "Applying on dataset 50\n"
     ]
    }
   ],
   "source": [
    "# Prepare dictionary to store imputation objects from R\n",
    "biopsy_imputedr = {}\n",
    "\n",
    "for p in props_name:\n",
    "    print(\"Applying on dataset {}\".format(p))\n",
    "    \n",
    "    # Apply MICE algorithm\n",
    "    biopsy_imputedr[p] = mice.mice(biopsy_incompr[p], m=m, maxit=maxit, method=method, \n",
    "                                   seed=SEED, donors=d, print=False)\n",
    "    \n",
    "    # Construct trace plot\n",
    "    grdevices.pdf(file=conv_path + \"biopsy_traceplot_{}.pdf\".format(p))\n",
    "    f = mice.plot_mids(biopsy_imputedr[p])\n",
    "    base.print(f)\n",
    "    grdevices.dev_off()\n",
    "    \n",
    "    # Construct strip plots for imputed variables\n",
    "    for c in [\"V1\", \"V2\", \"V3\"]:\n",
    "        # Set up image file\n",
    "        grdevices.pdf(file=conv_path + \"biopsy_{}_stripplot_{}.pdf\".format(c, p))\n",
    "        # Create and print plot\n",
    "        f = mice.stripplot_mids(biopsy_imputedr[p], rstats.as_formula(\"{} ~ .imp\".format(c)), \n",
    "                                pch=20, cex=2)\n",
    "        base.print(f)\n",
    "        # Close file\n",
    "        grdevices.dev_off()\n"
   ]
  },
  {
   "cell_type": "code",
   "execution_count": 34,
   "id": "6fceab81",
   "metadata": {},
   "outputs": [
    {
     "name": "stderr",
     "output_type": "stream",
     "text": [
      "100%|█████████████████████████████████████████████| 5/5 [00:00<00:00, 12.97it/s]\n"
     ]
    }
   ],
   "source": [
    "# Convert to Python compatible format\n",
    "# We need the imputed data and the missing flag\n",
    "\n",
    "# Set up placeholder dictionary\n",
    "biopsy_imputed = {}\n",
    "\n",
    "for p in tqdm(props_name):\n",
    "    # Retrieve imputed data\n",
    "    tempr = mice.complete_mids(biopsy_imputedr[p], action=\"all\", include=False)\n",
    "    with localconverter(robjects.default_converter + pandas2ri.converter):\n",
    "        temp = robjects.conversion.rpy2py(tempr)\n",
    "    biopsy_imputed[p] = {\"imp\": [v for k, v in temp.items()]}\n",
    "    \n",
    "    # Construct missing flag using the original data\n",
    "    biopsy_imputed[p][\"missingflag\"] = biopsy_incomp[p].isna()\n",
    "    \n",
    "    # Retrieve chain statistics\n",
    "    # NOTE: Here, the variance is retrieved instead of standard deviations\n",
    "    with localconverter(robjects.default_converter + pandas2ri.converter):\n",
    "        tempchainmu = robjects.conversion.rpy2py(biopsy_imputedr[p].rx2(\"chainMean\"))\n",
    "        tempchainsig = robjects.conversion.rpy2py(biopsy_imputedr[p].rx2(\"chainVar\"))\n",
    "    biopsy_imputed[p][\"chainmean\"] = tempchainmu\n",
    "    biopsy_imputed[p][\"chainvar\"] = tempchainsig"
   ]
  },
  {
   "cell_type": "code",
   "execution_count": null,
   "id": "4372d749",
   "metadata": {},
   "outputs": [],
   "source": [
    "# Save multiply imputed data as Python objects\n",
    "with open(biopsy_path + \"imputed_r.pickle\", \"wb\") as handle:\n",
    "    pickle.dump(biopsy_imputed, handle, protocol=pickle.HIGHEST_PROTOCOL)"
   ]
  }
 ],
 "metadata": {
  "kernelspec": {
   "display_name": "Python (venv)",
   "language": "python",
   "name": "env"
  },
  "language_info": {
   "codemirror_mode": {
    "name": "ipython",
    "version": 3
   },
   "file_extension": ".py",
   "mimetype": "text/x-python",
   "name": "python",
   "nbconvert_exporter": "python",
   "pygments_lexer": "ipython3",
   "version": "3.9.7"
  }
 },
 "nbformat": 4,
 "nbformat_minor": 5
}
